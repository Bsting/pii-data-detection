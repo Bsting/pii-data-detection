{
 "cells": [
  {
   "cell_type": "markdown",
   "id": "fbd00e7e-c5eb-419b-ad4e-3297b5342b6e",
   "metadata": {},
   "source": [
    "### V1: Fine-Tune DistilBERT \n",
    "- Train Data\n",
    "\n",
    "Trained on local machine with RTX 3050 x1\n",
    "\n",
    "Leaderboard \n",
    "- Public Score: 0.852\n",
    "- Private Score: 0.873"
   ]
  },
  {
   "cell_type": "code",
   "execution_count": null,
   "id": "f60af87d-38e1-4360-91af-b78bb5cf092c",
   "metadata": {
    "execution": {
     "iopub.execute_input": "2024-04-13T17:29:22.765029Z",
     "iopub.status.busy": "2024-04-13T17:29:22.764544Z",
     "iopub.status.idle": "2024-04-13T17:29:41.890380Z",
     "shell.execute_reply": "2024-04-13T17:29:41.889357Z"
    },
    "papermill": {
     "duration": 19.1369,
     "end_time": "2024-04-13T17:29:41.892941",
     "exception": false,
     "start_time": "2024-04-13T17:29:22.756041",
     "status": "completed"
    },
    "tags": []
   },
   "outputs": [],
   "source": [
    "import gc\n",
    "import json\n",
    "import numpy as np\n",
    "import pandas as pd\n",
    "import torch\n",
    "\n",
    "from datasets import Dataset\n",
    "from pathlib import Path\n",
    "from transformers import AutoTokenizer\n",
    "from transformers import DataCollatorForTokenClassification\n",
    "from transformers import AutoModelForTokenClassification, TrainingArguments, Trainer"
   ]
  },
  {
   "cell_type": "code",
   "execution_count": 2,
   "id": "792e0239",
   "metadata": {
    "execution": {
     "iopub.execute_input": "2024-04-13T17:29:41.907255Z",
     "iopub.status.busy": "2024-04-13T17:29:41.906592Z",
     "iopub.status.idle": "2024-04-13T17:29:41.912009Z",
     "shell.execute_reply": "2024-04-13T17:29:41.911091Z"
    },
    "papermill": {
     "duration": 0.01459,
     "end_time": "2024-04-13T17:29:41.913946",
     "exception": false,
     "start_time": "2024-04-13T17:29:41.899356",
     "status": "completed"
    },
    "tags": []
   },
   "outputs": [],
   "source": [
    "class Setting:\n",
    "    seed = 42\n",
    "    \n",
    "    # data\n",
    "    data = './data/pii-detection-removal-from-educational-data/test.json'\n",
    "    \n",
    "    # model\n",
    "    model_final = './model/v1/final'\n",
    "    max_length = 512\n",
    "    stride = 64\n",
    "    threshold = 0.95\n",
    "    \n",
    "    # hyperparameter\n",
    "    batch_size = 8"
   ]
  },
  {
   "cell_type": "code",
   "execution_count": 3,
   "id": "cdc0682b",
   "metadata": {
    "execution": {
     "iopub.execute_input": "2024-04-13T17:29:41.927887Z",
     "iopub.status.busy": "2024-04-13T17:29:41.926867Z",
     "iopub.status.idle": "2024-04-13T17:29:41.936389Z",
     "shell.execute_reply": "2024-04-13T17:29:41.935469Z"
    },
    "papermill": {
     "duration": 0.0185,
     "end_time": "2024-04-13T17:29:41.938427",
     "exception": false,
     "start_time": "2024-04-13T17:29:41.919927",
     "status": "completed"
    },
    "tags": []
   },
   "outputs": [
    {
     "data": {
      "text/plain": [
       "<torch._C.Generator at 0x7f2f015f9d50>"
      ]
     },
     "execution_count": 3,
     "metadata": {},
     "output_type": "execute_result"
    }
   ],
   "source": [
    "np.random.seed(Setting.seed)\n",
    "torch.manual_seed(Setting.seed)"
   ]
  },
  {
   "cell_type": "code",
   "execution_count": 4,
   "id": "96a3deb9",
   "metadata": {
    "execution": {
     "iopub.execute_input": "2024-04-13T17:29:41.953141Z",
     "iopub.status.busy": "2024-04-13T17:29:41.952122Z",
     "iopub.status.idle": "2024-04-13T17:29:41.995749Z",
     "shell.execute_reply": "2024-04-13T17:29:41.994597Z"
    },
    "papermill": {
     "duration": 0.053578,
     "end_time": "2024-04-13T17:29:41.998428",
     "exception": false,
     "start_time": "2024-04-13T17:29:41.944850",
     "status": "completed"
    },
    "tags": []
   },
   "outputs": [
    {
     "name": "stdout",
     "output_type": "stream",
     "text": [
      "<class 'pandas.core.frame.DataFrame'>\n",
      "RangeIndex: 10 entries, 0 to 9\n",
      "Data columns (total 4 columns):\n",
      " #   Column               Non-Null Count  Dtype \n",
      "---  ------               --------------  ----- \n",
      " 0   document             10 non-null     int64 \n",
      " 1   full_text            10 non-null     object\n",
      " 2   tokens               10 non-null     object\n",
      " 3   trailing_whitespace  10 non-null     object\n",
      "dtypes: int64(1), object(3)\n",
      "memory usage: 448.0+ bytes\n"
     ]
    }
   ],
   "source": [
    "df = pd.read_json(Setting.data)\n",
    "df.info()"
   ]
  },
  {
   "cell_type": "code",
   "execution_count": 5,
   "id": "7e3d747b",
   "metadata": {
    "execution": {
     "iopub.execute_input": "2024-04-13T17:29:42.012450Z",
     "iopub.status.busy": "2024-04-13T17:29:42.012052Z",
     "iopub.status.idle": "2024-04-13T17:29:42.020444Z",
     "shell.execute_reply": "2024-04-13T17:29:42.019467Z"
    },
    "papermill": {
     "duration": 0.017889,
     "end_time": "2024-04-13T17:29:42.022634",
     "exception": false,
     "start_time": "2024-04-13T17:29:42.004745",
     "status": "completed"
    },
    "tags": []
   },
   "outputs": [],
   "source": [
    "df = df[['document', 'tokens', 'trailing_whitespace']]"
   ]
  },
  {
   "cell_type": "code",
   "execution_count": 6,
   "id": "a44b863d",
   "metadata": {
    "execution": {
     "iopub.execute_input": "2024-04-13T17:29:42.037401Z",
     "iopub.status.busy": "2024-04-13T17:29:42.036551Z",
     "iopub.status.idle": "2024-04-13T17:29:42.071951Z",
     "shell.execute_reply": "2024-04-13T17:29:42.070904Z"
    },
    "papermill": {
     "duration": 0.045436,
     "end_time": "2024-04-13T17:29:42.074457",
     "exception": false,
     "start_time": "2024-04-13T17:29:42.029021",
     "status": "completed"
    },
    "tags": []
   },
   "outputs": [],
   "source": [
    "ds = Dataset.from_pandas(df)"
   ]
  },
  {
   "cell_type": "code",
   "execution_count": 7,
   "id": "2895de71",
   "metadata": {
    "execution": {
     "iopub.execute_input": "2024-04-13T17:29:42.088566Z",
     "iopub.status.busy": "2024-04-13T17:29:42.088184Z",
     "iopub.status.idle": "2024-04-13T17:29:42.396643Z",
     "shell.execute_reply": "2024-04-13T17:29:42.395608Z"
    },
    "papermill": {
     "duration": 0.318041,
     "end_time": "2024-04-13T17:29:42.398901",
     "exception": false,
     "start_time": "2024-04-13T17:29:42.080860",
     "status": "completed"
    },
    "tags": []
   },
   "outputs": [
    {
     "data": {
      "text/plain": [
       "95"
      ]
     },
     "execution_count": 7,
     "metadata": {},
     "output_type": "execute_result"
    }
   ],
   "source": [
    "del df\n",
    "gc.collect()"
   ]
  },
  {
   "cell_type": "code",
   "execution_count": 8,
   "id": "c777abd3",
   "metadata": {
    "execution": {
     "iopub.execute_input": "2024-04-13T17:29:42.415165Z",
     "iopub.status.busy": "2024-04-13T17:29:42.414762Z",
     "iopub.status.idle": "2024-04-13T17:29:42.423551Z",
     "shell.execute_reply": "2024-04-13T17:29:42.422591Z"
    },
    "papermill": {
     "duration": 0.019572,
     "end_time": "2024-04-13T17:29:42.425781",
     "exception": false,
     "start_time": "2024-04-13T17:29:42.406209",
     "status": "completed"
    },
    "tags": []
   },
   "outputs": [],
   "source": [
    "def tokenize(example, tokenizer, max_length, stride):\n",
    "    # Initialize lists to store tokenized text and token map\n",
    "    text, token_map = [], []\n",
    "    # Initialize index for token mapping\n",
    "    idx = 0\n",
    "    # Iterate over tokens and trailing whitespace in the example\n",
    "    for t, ws in zip(example[\"tokens\"], example[\"trailing_whitespace\"]):\n",
    "        # Append token to the text list\n",
    "        text.append(t)\n",
    "\n",
    "        # Extend token map with index for the current token repeated for its length\n",
    "        token_map.extend([idx] * len(t))\n",
    "\n",
    "        # If there is trailing whitespace after the token, append a space to the text and mark its position as -1 in the token map\n",
    "        if ws:\n",
    "            text.append(\" \")\n",
    "            token_map.append(-1)\n",
    "\n",
    "        # Increment the index for token mapping\n",
    "        idx += 1\n",
    "\n",
    "    # Tokenize the text using the provided tokenizer\n",
    "    tokenized = tokenizer(\"\".join(text), \n",
    "                          return_offsets_mapping=True,\n",
    "                          truncation=True,  \n",
    "                          max_length=max_length,  \n",
    "                          stride=stride,  \n",
    "                          return_overflowing_tokens=True)  \n",
    "\n",
    "    # Return the tokenized text along with the token map\n",
    "    return {\n",
    "        **tokenized, \n",
    "        \"token_map\": token_map, \n",
    "    }"
   ]
  },
  {
   "cell_type": "code",
   "execution_count": 9,
   "id": "f5d695ad",
   "metadata": {
    "execution": {
     "iopub.execute_input": "2024-04-13T17:29:42.442613Z",
     "iopub.status.busy": "2024-04-13T17:29:42.441834Z",
     "iopub.status.idle": "2024-04-13T17:29:42.969057Z",
     "shell.execute_reply": "2024-04-13T17:29:42.967811Z"
    },
    "papermill": {
     "duration": 0.538154,
     "end_time": "2024-04-13T17:29:42.971403",
     "exception": false,
     "start_time": "2024-04-13T17:29:42.433249",
     "status": "completed"
    },
    "tags": []
   },
   "outputs": [
    {
     "data": {
      "application/vnd.jupyter.widget-view+json": {
       "model_id": "6999c159c38440f1bc30ba7dac7c8440",
       "version_major": 2,
       "version_minor": 0
      },
      "text/plain": [
       "Map (num_proc=2):   0%|          | 0/10 [00:00<?, ? examples/s]"
      ]
     },
     "metadata": {},
     "output_type": "display_data"
    },
    {
     "data": {
      "text/plain": [
       "Dataset({\n",
       "    features: ['document', 'tokens', 'trailing_whitespace', 'input_ids', 'attention_mask', 'offset_mapping', 'overflow_to_sample_mapping', 'token_map'],\n",
       "    num_rows: 10\n",
       "})"
      ]
     },
     "execution_count": 9,
     "metadata": {},
     "output_type": "execute_result"
    }
   ],
   "source": [
    "tokenizer = AutoTokenizer.from_pretrained(Setting.model_final)\n",
    "\n",
    "ds = ds.map(tokenize, \n",
    "                      fn_kwargs={\n",
    "                          \"tokenizer\": tokenizer, \n",
    "                          \"max_length\": Setting.max_length, \n",
    "                          \"stride\": Setting.stride}, num_proc=2)\n",
    "ds\n",
    "\n",
    "#model = AutoModelForTokenClassification.from_pretrained(Setting.model_final)\n"
   ]
  },
  {
   "cell_type": "code",
   "execution_count": 10,
   "id": "00cb225c",
   "metadata": {
    "execution": {
     "iopub.execute_input": "2024-04-13T17:29:42.987651Z",
     "iopub.status.busy": "2024-04-13T17:29:42.987260Z",
     "iopub.status.idle": "2024-04-13T17:29:43.382654Z",
     "shell.execute_reply": "2024-04-13T17:29:43.381510Z"
    },
    "papermill": {
     "duration": 0.407081,
     "end_time": "2024-04-13T17:29:43.385630",
     "exception": false,
     "start_time": "2024-04-13T17:29:42.978549",
     "status": "completed"
    },
    "tags": []
   },
   "outputs": [
    {
     "data": {
      "text/plain": [
       "36"
      ]
     },
     "execution_count": 10,
     "metadata": {},
     "output_type": "execute_result"
    }
   ],
   "source": [
    "gc.collect()"
   ]
  },
  {
   "cell_type": "code",
   "execution_count": 11,
   "id": "a0af3d58",
   "metadata": {
    "execution": {
     "iopub.execute_input": "2024-04-13T17:29:43.404334Z",
     "iopub.status.busy": "2024-04-13T17:29:43.403384Z",
     "iopub.status.idle": "2024-04-13T17:29:45.622620Z",
     "shell.execute_reply": "2024-04-13T17:29:45.621693Z"
    },
    "papermill": {
     "duration": 2.231205,
     "end_time": "2024-04-13T17:29:45.625412",
     "exception": false,
     "start_time": "2024-04-13T17:29:43.394207",
     "status": "completed"
    },
    "tags": []
   },
   "outputs": [
    {
     "name": "stderr",
     "output_type": "stream",
     "text": [
      "/opt/conda/lib/python3.10/site-packages/accelerate/accelerator.py:432: FutureWarning: Passing the following arguments to `Accelerator` is deprecated and will be removed in version 1.0 of Accelerate: dict_keys(['dispatch_batches', 'split_batches', 'even_batches', 'use_seedable_sampler']). Please pass an `accelerate.DataLoaderConfiguration` instead: \n",
      "dataloader_config = DataLoaderConfiguration(dispatch_batches=None, split_batches=False, even_batches=True, use_seedable_sampler=True)\n",
      "  warnings.warn(\n"
     ]
    }
   ],
   "source": [
    "model = AutoModelForTokenClassification.from_pretrained(Setting.model_final)\n",
    "collator = DataCollatorForTokenClassification(tokenizer, pad_to_multiple_of=16)\n",
    "args = TrainingArguments(\n",
    "    \".\", \n",
    "    per_device_eval_batch_size=1, \n",
    "    report_to=\"none\",\n",
    ")\n",
    "trainer = Trainer(\n",
    "    model=model, \n",
    "    args=args, \n",
    "    data_collator=collator, \n",
    "    tokenizer=tokenizer,\n",
    ")"
   ]
  },
  {
   "cell_type": "code",
   "execution_count": 12,
   "id": "f62d7896",
   "metadata": {
    "execution": {
     "iopub.execute_input": "2024-04-13T17:29:45.644606Z",
     "iopub.status.busy": "2024-04-13T17:29:45.644203Z",
     "iopub.status.idle": "2024-04-13T17:29:45.653565Z",
     "shell.execute_reply": "2024-04-13T17:29:45.652452Z"
    },
    "papermill": {
     "duration": 0.020682,
     "end_time": "2024-04-13T17:29:45.655662",
     "exception": false,
     "start_time": "2024-04-13T17:29:45.634980",
     "status": "completed"
    },
    "tags": []
   },
   "outputs": [],
   "source": [
    "def backwards_map_preds(sub_predictions, max_len, stride):\n",
    "    if max_len != 1: # nothing to map backwards if sequence is too short to be split in the first place\n",
    "        if i == 0:\n",
    "            # First sequence needs no SEP token (used to end a sequence)\n",
    "            sub_predictions = sub_predictions[:,:-1,:]\n",
    "        elif i == max_len-1:\n",
    "            # End sequence needs to CLS token + Stride tokens \n",
    "            sub_predictions = sub_predictions[:,1+stride:,:] # CLS tokens + Stride tokens\n",
    "        else:\n",
    "            # Middle sequence needs to CLS token + Stride tokens + SEP token\n",
    "            sub_predictions = sub_predictions[:,1+stride:-1,:]\n",
    "    return sub_predictions\n",
    "\n",
    "def backwards_map_(row_attribute, max_len, stride):\n",
    "    # Same logics as for backwards_map_preds - except lists instead of 3darray\n",
    "    if max_len != 1:\n",
    "        if i == 0:\n",
    "            row_attribute = row_attribute[:-1]\n",
    "        elif i == max_len-1:\n",
    "            row_attribute = row_attribute[1+stride:]\n",
    "        else:\n",
    "            row_attribute = row_attribute[1+stride:-1]\n",
    "    return row_attribute"
   ]
  },
  {
   "cell_type": "code",
   "execution_count": 13,
   "id": "449f3604",
   "metadata": {
    "execution": {
     "iopub.execute_input": "2024-04-13T17:29:45.673485Z",
     "iopub.status.busy": "2024-04-13T17:29:45.672672Z",
     "iopub.status.idle": "2024-04-13T17:29:47.032250Z",
     "shell.execute_reply": "2024-04-13T17:29:47.031235Z"
    },
    "papermill": {
     "duration": 1.370881,
     "end_time": "2024-04-13T17:29:47.034442",
     "exception": false,
     "start_time": "2024-04-13T17:29:45.663561",
     "status": "completed"
    },
    "tags": []
   },
   "outputs": [
    {
     "data": {
      "text/html": [],
      "text/plain": [
       "<IPython.core.display.HTML object>"
      ]
     },
     "metadata": {},
     "output_type": "display_data"
    },
    {
     "data": {
      "text/html": [],
      "text/plain": [
       "<IPython.core.display.HTML object>"
      ]
     },
     "metadata": {},
     "output_type": "display_data"
    },
    {
     "data": {
      "text/html": [],
      "text/plain": [
       "<IPython.core.display.HTML object>"
      ]
     },
     "metadata": {},
     "output_type": "display_data"
    },
    {
     "data": {
      "text/html": [],
      "text/plain": [
       "<IPython.core.display.HTML object>"
      ]
     },
     "metadata": {},
     "output_type": "display_data"
    },
    {
     "data": {
      "text/html": [],
      "text/plain": [
       "<IPython.core.display.HTML object>"
      ]
     },
     "metadata": {},
     "output_type": "display_data"
    },
    {
     "data": {
      "text/html": [],
      "text/plain": [
       "<IPython.core.display.HTML object>"
      ]
     },
     "metadata": {},
     "output_type": "display_data"
    },
    {
     "data": {
      "text/html": [],
      "text/plain": [
       "<IPython.core.display.HTML object>"
      ]
     },
     "metadata": {},
     "output_type": "display_data"
    },
    {
     "data": {
      "text/html": [],
      "text/plain": [
       "<IPython.core.display.HTML object>"
      ]
     },
     "metadata": {},
     "output_type": "display_data"
    },
    {
     "data": {
      "text/html": [],
      "text/plain": [
       "<IPython.core.display.HTML object>"
      ]
     },
     "metadata": {},
     "output_type": "display_data"
    },
    {
     "data": {
      "text/html": [],
      "text/plain": [
       "<IPython.core.display.HTML object>"
      ]
     },
     "metadata": {},
     "output_type": "display_data"
    },
    {
     "data": {
      "text/html": [],
      "text/plain": [
       "<IPython.core.display.HTML object>"
      ]
     },
     "metadata": {},
     "output_type": "display_data"
    },
    {
     "data": {
      "text/html": [],
      "text/plain": [
       "<IPython.core.display.HTML object>"
      ]
     },
     "metadata": {},
     "output_type": "display_data"
    },
    {
     "data": {
      "text/html": [],
      "text/plain": [
       "<IPython.core.display.HTML object>"
      ]
     },
     "metadata": {},
     "output_type": "display_data"
    },
    {
     "data": {
      "text/html": [],
      "text/plain": [
       "<IPython.core.display.HTML object>"
      ]
     },
     "metadata": {},
     "output_type": "display_data"
    },
    {
     "data": {
      "text/html": [],
      "text/plain": [
       "<IPython.core.display.HTML object>"
      ]
     },
     "metadata": {},
     "output_type": "display_data"
    },
    {
     "data": {
      "text/html": [],
      "text/plain": [
       "<IPython.core.display.HTML object>"
      ]
     },
     "metadata": {},
     "output_type": "display_data"
    },
    {
     "data": {
      "text/html": [],
      "text/plain": [
       "<IPython.core.display.HTML object>"
      ]
     },
     "metadata": {},
     "output_type": "display_data"
    },
    {
     "data": {
      "text/html": [],
      "text/plain": [
       "<IPython.core.display.HTML object>"
      ]
     },
     "metadata": {},
     "output_type": "display_data"
    },
    {
     "data": {
      "text/html": [],
      "text/plain": [
       "<IPython.core.display.HTML object>"
      ]
     },
     "metadata": {},
     "output_type": "display_data"
    },
    {
     "data": {
      "text/html": [],
      "text/plain": [
       "<IPython.core.display.HTML object>"
      ]
     },
     "metadata": {},
     "output_type": "display_data"
    },
    {
     "data": {
      "text/html": [],
      "text/plain": [
       "<IPython.core.display.HTML object>"
      ]
     },
     "metadata": {},
     "output_type": "display_data"
    },
    {
     "data": {
      "text/html": [],
      "text/plain": [
       "<IPython.core.display.HTML object>"
      ]
     },
     "metadata": {},
     "output_type": "display_data"
    },
    {
     "data": {
      "text/html": [],
      "text/plain": [
       "<IPython.core.display.HTML object>"
      ]
     },
     "metadata": {},
     "output_type": "display_data"
    }
   ],
   "source": [
    "preds = []\n",
    "ds_dict = {\n",
    "    \"document\":[],\n",
    "    \"token_map\":[],\n",
    "    \"offset_mapping\":[],\n",
    "    \"tokens\":[]\n",
    "}\n",
    "\n",
    "for row in ds:\n",
    "    # keys that need to be re-assembled\n",
    "    row_preds = []\n",
    "    row_offset = []\n",
    "    \n",
    "    for i, y in enumerate(row[\"offset_mapping\"]):\n",
    "        # create new datasset for each of of the splits per document\n",
    "        x = Dataset.from_dict({\n",
    "            #\"token_type_ids\":[row[\"token_type_ids\"][i]],\n",
    "            \"input_ids\":[row[\"input_ids\"][i]],\n",
    "            \"attention_mask\":[row[\"attention_mask\"][i]],\n",
    "            \"offset_mapping\":[row[\"offset_mapping\"][i]]\n",
    "        })\n",
    "        \n",
    "        with torch.no_grad():\n",
    "            # predict for that split        \n",
    "            pred = trainer.predict(x).predictions\n",
    "        # removing the stride and additional CLS & SEP that are created\n",
    "        row_preds.append(backwards_map_preds(pred, len(row[\"offset_mapping\"]), Setting.stride))\n",
    "        row_offset += backwards_map_(y, len(row[\"offset_mapping\"]), Setting.stride)\n",
    "    \n",
    "    # Finalize row\n",
    "    ds_dict[\"document\"].append(row[\"document\"])\n",
    "    ds_dict[\"tokens\"].append(row[\"tokens\"])\n",
    "    ds_dict[\"token_map\"].append(row[\"token_map\"])\n",
    "    ds_dict[\"offset_mapping\"].append(row_offset)\n",
    "    \n",
    "    # Finalize prediction collection by concattenating\n",
    "    p_concat = np.concatenate(row_preds, axis = 1)\n",
    "    preds.append(p_concat)"
   ]
  },
  {
   "cell_type": "code",
   "execution_count": 14,
   "id": "d5b41ebd",
   "metadata": {
    "execution": {
     "iopub.execute_input": "2024-04-13T17:29:47.057449Z",
     "iopub.status.busy": "2024-04-13T17:29:47.056741Z",
     "iopub.status.idle": "2024-04-13T17:29:47.372196Z",
     "shell.execute_reply": "2024-04-13T17:29:47.371170Z"
    },
    "papermill": {
     "duration": 0.329469,
     "end_time": "2024-04-13T17:29:47.374556",
     "exception": false,
     "start_time": "2024-04-13T17:29:47.045087",
     "status": "completed"
    },
    "tags": []
   },
   "outputs": [
    {
     "data": {
      "text/plain": [
       "79"
      ]
     },
     "execution_count": 14,
     "metadata": {},
     "output_type": "execute_result"
    }
   ],
   "source": [
    "del ds\n",
    "gc.collect()"
   ]
  },
  {
   "cell_type": "code",
   "execution_count": 15,
   "id": "2fc86985",
   "metadata": {
    "execution": {
     "iopub.execute_input": "2024-04-13T17:29:47.397840Z",
     "iopub.status.busy": "2024-04-13T17:29:47.397409Z",
     "iopub.status.idle": "2024-04-13T17:29:47.408049Z",
     "shell.execute_reply": "2024-04-13T17:29:47.407175Z"
    },
    "papermill": {
     "duration": 0.024892,
     "end_time": "2024-04-13T17:29:47.410251",
     "exception": false,
     "start_time": "2024-04-13T17:29:47.385359",
     "status": "completed"
    },
    "tags": []
   },
   "outputs": [],
   "source": [
    "config = json.load(open(Path(Setting.model_final) / \"config.json\"))\n",
    "id2label = config[\"id2label\"]\n",
    "\n",
    "preds_final = []\n",
    "for predictions in preds:\n",
    "    predictions_softmax = np.exp(predictions) / np.sum(np.exp(predictions), axis = 2).reshape(predictions.shape[0],predictions.shape[1],1)\n",
    "    predictions = predictions.argmax(-1)\n",
    "    predictions_without_O = predictions_softmax[:,:,:12].argmax(-1)\n",
    "    O_predictions = predictions_softmax[:,:,12]\n",
    "\n",
    "    threshold = Setting.threshold\n",
    "    preds_final.append(np.where(O_predictions < threshold, predictions_without_O , predictions))"
   ]
  },
  {
   "cell_type": "code",
   "execution_count": 16,
   "id": "d6c281e5",
   "metadata": {
    "execution": {
     "iopub.execute_input": "2024-04-13T17:29:47.433439Z",
     "iopub.status.busy": "2024-04-13T17:29:47.432638Z",
     "iopub.status.idle": "2024-04-13T17:29:47.559615Z",
     "shell.execute_reply": "2024-04-13T17:29:47.558500Z"
    },
    "papermill": {
     "duration": 0.141257,
     "end_time": "2024-04-13T17:29:47.562070",
     "exception": false,
     "start_time": "2024-04-13T17:29:47.420813",
     "status": "completed"
    },
    "tags": []
   },
   "outputs": [],
   "source": [
    "ds = Dataset.from_dict(ds_dict)\n",
    "pairs = []\n",
    "document, token, label, token_str = [], [], [], []\n",
    "for p, token_map, offsets, tokens, doc in zip(preds_final, ds[\"token_map\"], ds[\"offset_mapping\"], ds[\"tokens\"], ds[\"document\"]):\n",
    "    for token_pred, (start_idx, end_idx) in zip(p[0], offsets):\n",
    "        label_pred = id2label[str(token_pred)]\n",
    "\n",
    "        if start_idx + end_idx == 0: continue\n",
    "\n",
    "        if token_map[start_idx] == -1:\n",
    "            start_idx += 1\n",
    "\n",
    "        # ignore \"\\n\\n\"\n",
    "        while start_idx < len(token_map) and tokens[token_map[start_idx]].isspace():\n",
    "            start_idx += 1\n",
    "\n",
    "        if start_idx >= len(token_map): break\n",
    "\n",
    "        token_id = token_map[start_idx]\n",
    "\n",
    "        # ignore \"O\" predictions and whitespace preds\n",
    "        if label_pred != \"O\" and token_id != -1:\n",
    "            pair=(doc, token_id)\n",
    "\n",
    "            if pair not in pairs:\n",
    "                document.append(doc)\n",
    "                token.append(token_id)\n",
    "                label.append(label_pred)\n",
    "                token_str.append(tokens[token_id])\n",
    "                pairs.append(pair)"
   ]
  },
  {
   "cell_type": "code",
   "execution_count": 17,
   "id": "a3f7afca",
   "metadata": {
    "execution": {
     "iopub.execute_input": "2024-04-13T17:29:47.584544Z",
     "iopub.status.busy": "2024-04-13T17:29:47.583832Z",
     "iopub.status.idle": "2024-04-13T17:29:47.605152Z",
     "shell.execute_reply": "2024-04-13T17:29:47.604199Z"
    },
    "papermill": {
     "duration": 0.034956,
     "end_time": "2024-04-13T17:29:47.607489",
     "exception": false,
     "start_time": "2024-04-13T17:29:47.572533",
     "status": "completed"
    },
    "tags": []
   },
   "outputs": [
    {
     "data": {
      "text/html": [
       "<div>\n",
       "<style scoped>\n",
       "    .dataframe tbody tr th:only-of-type {\n",
       "        vertical-align: middle;\n",
       "    }\n",
       "\n",
       "    .dataframe tbody tr th {\n",
       "        vertical-align: top;\n",
       "    }\n",
       "\n",
       "    .dataframe thead th {\n",
       "        text-align: right;\n",
       "    }\n",
       "</style>\n",
       "<table border=\"1\" class=\"dataframe\">\n",
       "  <thead>\n",
       "    <tr style=\"text-align: right;\">\n",
       "      <th></th>\n",
       "      <th>document</th>\n",
       "      <th>token</th>\n",
       "      <th>label</th>\n",
       "      <th>token_str</th>\n",
       "      <th>row_id</th>\n",
       "    </tr>\n",
       "  </thead>\n",
       "  <tbody>\n",
       "    <tr>\n",
       "      <th>0</th>\n",
       "      <td>7</td>\n",
       "      <td>9</td>\n",
       "      <td>B-NAME_STUDENT</td>\n",
       "      <td>Nathalie</td>\n",
       "      <td>0</td>\n",
       "    </tr>\n",
       "    <tr>\n",
       "      <th>1</th>\n",
       "      <td>7</td>\n",
       "      <td>10</td>\n",
       "      <td>I-NAME_STUDENT</td>\n",
       "      <td>Sylla</td>\n",
       "      <td>1</td>\n",
       "    </tr>\n",
       "    <tr>\n",
       "      <th>2</th>\n",
       "      <td>7</td>\n",
       "      <td>482</td>\n",
       "      <td>I-NAME_STUDENT</td>\n",
       "      <td>Nathalie</td>\n",
       "      <td>2</td>\n",
       "    </tr>\n",
       "    <tr>\n",
       "      <th>3</th>\n",
       "      <td>7</td>\n",
       "      <td>483</td>\n",
       "      <td>I-NAME_STUDENT</td>\n",
       "      <td>Sylla</td>\n",
       "      <td>3</td>\n",
       "    </tr>\n",
       "    <tr>\n",
       "      <th>4</th>\n",
       "      <td>7</td>\n",
       "      <td>741</td>\n",
       "      <td>B-NAME_STUDENT</td>\n",
       "      <td>Nathalie</td>\n",
       "      <td>4</td>\n",
       "    </tr>\n",
       "    <tr>\n",
       "      <th>5</th>\n",
       "      <td>7</td>\n",
       "      <td>742</td>\n",
       "      <td>I-NAME_STUDENT</td>\n",
       "      <td>Sylla</td>\n",
       "      <td>5</td>\n",
       "    </tr>\n",
       "    <tr>\n",
       "      <th>6</th>\n",
       "      <td>10</td>\n",
       "      <td>0</td>\n",
       "      <td>B-NAME_STUDENT</td>\n",
       "      <td>Diego</td>\n",
       "      <td>6</td>\n",
       "    </tr>\n",
       "    <tr>\n",
       "      <th>7</th>\n",
       "      <td>10</td>\n",
       "      <td>1</td>\n",
       "      <td>I-NAME_STUDENT</td>\n",
       "      <td>Estrada</td>\n",
       "      <td>7</td>\n",
       "    </tr>\n",
       "    <tr>\n",
       "      <th>8</th>\n",
       "      <td>10</td>\n",
       "      <td>464</td>\n",
       "      <td>B-NAME_STUDENT</td>\n",
       "      <td>Diego</td>\n",
       "      <td>8</td>\n",
       "    </tr>\n",
       "    <tr>\n",
       "      <th>9</th>\n",
       "      <td>10</td>\n",
       "      <td>465</td>\n",
       "      <td>I-NAME_STUDENT</td>\n",
       "      <td>Estrada</td>\n",
       "      <td>9</td>\n",
       "    </tr>\n",
       "    <tr>\n",
       "      <th>10</th>\n",
       "      <td>16</td>\n",
       "      <td>4</td>\n",
       "      <td>B-NAME_STUDENT</td>\n",
       "      <td>Gilberto</td>\n",
       "      <td>10</td>\n",
       "    </tr>\n",
       "    <tr>\n",
       "      <th>11</th>\n",
       "      <td>16</td>\n",
       "      <td>5</td>\n",
       "      <td>I-NAME_STUDENT</td>\n",
       "      <td>Gamboa</td>\n",
       "      <td>11</td>\n",
       "    </tr>\n",
       "    <tr>\n",
       "      <th>12</th>\n",
       "      <td>20</td>\n",
       "      <td>5</td>\n",
       "      <td>B-NAME_STUDENT</td>\n",
       "      <td>Sindy</td>\n",
       "      <td>12</td>\n",
       "    </tr>\n",
       "    <tr>\n",
       "      <th>13</th>\n",
       "      <td>20</td>\n",
       "      <td>6</td>\n",
       "      <td>I-NAME_STUDENT</td>\n",
       "      <td>Samaca</td>\n",
       "      <td>13</td>\n",
       "    </tr>\n",
       "    <tr>\n",
       "      <th>14</th>\n",
       "      <td>20</td>\n",
       "      <td>8</td>\n",
       "      <td>I-NAME_STUDENT</td>\n",
       "      <td>Gitam</td>\n",
       "      <td>14</td>\n",
       "    </tr>\n",
       "    <tr>\n",
       "      <th>15</th>\n",
       "      <td>56</td>\n",
       "      <td>12</td>\n",
       "      <td>B-NAME_STUDENT</td>\n",
       "      <td>Nadine</td>\n",
       "      <td>15</td>\n",
       "    </tr>\n",
       "    <tr>\n",
       "      <th>16</th>\n",
       "      <td>56</td>\n",
       "      <td>13</td>\n",
       "      <td>I-NAME_STUDENT</td>\n",
       "      <td>Born</td>\n",
       "      <td>16</td>\n",
       "    </tr>\n",
       "    <tr>\n",
       "      <th>17</th>\n",
       "      <td>86</td>\n",
       "      <td>6</td>\n",
       "      <td>B-NAME_STUDENT</td>\n",
       "      <td>Eladio</td>\n",
       "      <td>17</td>\n",
       "    </tr>\n",
       "    <tr>\n",
       "      <th>18</th>\n",
       "      <td>86</td>\n",
       "      <td>7</td>\n",
       "      <td>I-NAME_STUDENT</td>\n",
       "      <td>Amaya</td>\n",
       "      <td>18</td>\n",
       "    </tr>\n",
       "    <tr>\n",
       "      <th>19</th>\n",
       "      <td>93</td>\n",
       "      <td>0</td>\n",
       "      <td>B-NAME_STUDENT</td>\n",
       "      <td>Silvia</td>\n",
       "      <td>19</td>\n",
       "    </tr>\n",
       "    <tr>\n",
       "      <th>20</th>\n",
       "      <td>93</td>\n",
       "      <td>1</td>\n",
       "      <td>I-NAME_STUDENT</td>\n",
       "      <td>Villalobos</td>\n",
       "      <td>20</td>\n",
       "    </tr>\n",
       "    <tr>\n",
       "      <th>21</th>\n",
       "      <td>104</td>\n",
       "      <td>8</td>\n",
       "      <td>B-NAME_STUDENT</td>\n",
       "      <td>Sakir</td>\n",
       "      <td>21</td>\n",
       "    </tr>\n",
       "    <tr>\n",
       "      <th>22</th>\n",
       "      <td>104</td>\n",
       "      <td>9</td>\n",
       "      <td>I-NAME_STUDENT</td>\n",
       "      <td>Ahmad</td>\n",
       "      <td>22</td>\n",
       "    </tr>\n",
       "    <tr>\n",
       "      <th>23</th>\n",
       "      <td>112</td>\n",
       "      <td>5</td>\n",
       "      <td>B-NAME_STUDENT</td>\n",
       "      <td>Francisco</td>\n",
       "      <td>23</td>\n",
       "    </tr>\n",
       "    <tr>\n",
       "      <th>24</th>\n",
       "      <td>112</td>\n",
       "      <td>6</td>\n",
       "      <td>I-NAME_STUDENT</td>\n",
       "      <td>Ferreira</td>\n",
       "      <td>24</td>\n",
       "    </tr>\n",
       "    <tr>\n",
       "      <th>25</th>\n",
       "      <td>112</td>\n",
       "      <td>29</td>\n",
       "      <td>I-NAME_STUDENT</td>\n",
       "      <td>das</td>\n",
       "      <td>25</td>\n",
       "    </tr>\n",
       "    <tr>\n",
       "      <th>26</th>\n",
       "      <td>112</td>\n",
       "      <td>30</td>\n",
       "      <td>I-NAME_STUDENT</td>\n",
       "      <td>Antas</td>\n",
       "      <td>26</td>\n",
       "    </tr>\n",
       "    <tr>\n",
       "      <th>27</th>\n",
       "      <td>123</td>\n",
       "      <td>32</td>\n",
       "      <td>B-NAME_STUDENT</td>\n",
       "      <td>Stefano</td>\n",
       "      <td>27</td>\n",
       "    </tr>\n",
       "    <tr>\n",
       "      <th>28</th>\n",
       "      <td>123</td>\n",
       "      <td>33</td>\n",
       "      <td>I-NAME_STUDENT</td>\n",
       "      <td>Lovato</td>\n",
       "      <td>28</td>\n",
       "    </tr>\n",
       "    <tr>\n",
       "      <th>29</th>\n",
       "      <td>123</td>\n",
       "      <td>741</td>\n",
       "      <td>B-URL_PERSONAL</td>\n",
       "      <td>https://en.wikipedia.org/wiki/Homo_economicus</td>\n",
       "      <td>29</td>\n",
       "    </tr>\n",
       "    <tr>\n",
       "      <th>30</th>\n",
       "      <td>123</td>\n",
       "      <td>1549</td>\n",
       "      <td>B-ID_NUM</td>\n",
       "      <td>http://www.intelros.ru/readroom/credo_new/k3-2...</td>\n",
       "      <td>30</td>\n",
       "    </tr>\n",
       "    <tr>\n",
       "      <th>31</th>\n",
       "      <td>123</td>\n",
       "      <td>1602</td>\n",
       "      <td>B-NAME_STUDENT</td>\n",
       "      <td>Andreoni</td>\n",
       "      <td>31</td>\n",
       "    </tr>\n",
       "    <tr>\n",
       "      <th>32</th>\n",
       "      <td>123</td>\n",
       "      <td>1690</td>\n",
       "      <td>B-URL_PERSONAL</td>\n",
       "      <td>https://www.melessa.uni-</td>\n",
       "      <td>32</td>\n",
       "    </tr>\n",
       "  </tbody>\n",
       "</table>\n",
       "</div>"
      ],
      "text/plain": [
       "    document  token           label  \\\n",
       "0          7      9  B-NAME_STUDENT   \n",
       "1          7     10  I-NAME_STUDENT   \n",
       "2          7    482  I-NAME_STUDENT   \n",
       "3          7    483  I-NAME_STUDENT   \n",
       "4          7    741  B-NAME_STUDENT   \n",
       "5          7    742  I-NAME_STUDENT   \n",
       "6         10      0  B-NAME_STUDENT   \n",
       "7         10      1  I-NAME_STUDENT   \n",
       "8         10    464  B-NAME_STUDENT   \n",
       "9         10    465  I-NAME_STUDENT   \n",
       "10        16      4  B-NAME_STUDENT   \n",
       "11        16      5  I-NAME_STUDENT   \n",
       "12        20      5  B-NAME_STUDENT   \n",
       "13        20      6  I-NAME_STUDENT   \n",
       "14        20      8  I-NAME_STUDENT   \n",
       "15        56     12  B-NAME_STUDENT   \n",
       "16        56     13  I-NAME_STUDENT   \n",
       "17        86      6  B-NAME_STUDENT   \n",
       "18        86      7  I-NAME_STUDENT   \n",
       "19        93      0  B-NAME_STUDENT   \n",
       "20        93      1  I-NAME_STUDENT   \n",
       "21       104      8  B-NAME_STUDENT   \n",
       "22       104      9  I-NAME_STUDENT   \n",
       "23       112      5  B-NAME_STUDENT   \n",
       "24       112      6  I-NAME_STUDENT   \n",
       "25       112     29  I-NAME_STUDENT   \n",
       "26       112     30  I-NAME_STUDENT   \n",
       "27       123     32  B-NAME_STUDENT   \n",
       "28       123     33  I-NAME_STUDENT   \n",
       "29       123    741  B-URL_PERSONAL   \n",
       "30       123   1549        B-ID_NUM   \n",
       "31       123   1602  B-NAME_STUDENT   \n",
       "32       123   1690  B-URL_PERSONAL   \n",
       "\n",
       "                                            token_str  row_id  \n",
       "0                                            Nathalie       0  \n",
       "1                                               Sylla       1  \n",
       "2                                            Nathalie       2  \n",
       "3                                               Sylla       3  \n",
       "4                                            Nathalie       4  \n",
       "5                                               Sylla       5  \n",
       "6                                               Diego       6  \n",
       "7                                             Estrada       7  \n",
       "8                                               Diego       8  \n",
       "9                                             Estrada       9  \n",
       "10                                           Gilberto      10  \n",
       "11                                             Gamboa      11  \n",
       "12                                              Sindy      12  \n",
       "13                                             Samaca      13  \n",
       "14                                              Gitam      14  \n",
       "15                                             Nadine      15  \n",
       "16                                               Born      16  \n",
       "17                                             Eladio      17  \n",
       "18                                              Amaya      18  \n",
       "19                                             Silvia      19  \n",
       "20                                         Villalobos      20  \n",
       "21                                              Sakir      21  \n",
       "22                                              Ahmad      22  \n",
       "23                                          Francisco      23  \n",
       "24                                           Ferreira      24  \n",
       "25                                                das      25  \n",
       "26                                              Antas      26  \n",
       "27                                            Stefano      27  \n",
       "28                                             Lovato      28  \n",
       "29      https://en.wikipedia.org/wiki/Homo_economicus      29  \n",
       "30  http://www.intelros.ru/readroom/credo_new/k3-2...      30  \n",
       "31                                           Andreoni      31  \n",
       "32                           https://www.melessa.uni-      32  "
      ]
     },
     "metadata": {},
     "output_type": "display_data"
    }
   ],
   "source": [
    "df = pd.DataFrame({\n",
    "    \"document\": document,\n",
    "    \"token\": token,\n",
    "    \"label\": label,\n",
    "    \"token_str\": token_str\n",
    "})\n",
    "df[\"row_id\"] = list(range(len(df)))\n",
    "display(df.head(100))"
   ]
  },
  {
   "cell_type": "code",
   "execution_count": 18,
   "id": "0040a73d",
   "metadata": {
    "execution": {
     "iopub.execute_input": "2024-04-13T17:29:47.632211Z",
     "iopub.status.busy": "2024-04-13T17:29:47.631203Z",
     "iopub.status.idle": "2024-04-13T17:29:47.640527Z",
     "shell.execute_reply": "2024-04-13T17:29:47.639566Z"
    },
    "papermill": {
     "duration": 0.023539,
     "end_time": "2024-04-13T17:29:47.642747",
     "exception": false,
     "start_time": "2024-04-13T17:29:47.619208",
     "status": "completed"
    },
    "tags": []
   },
   "outputs": [],
   "source": [
    "df[[\"row_id\", \"document\", \"token\", \"label\"]].to_csv(\"submission.csv\", index=False)"
   ]
  },
  {
   "attachments": {
    "fdf4aede-02af-475c-a0e0-afc178b470ec.png": {
     "image/png": "[encoded data removed]"
    }
   },
   "cell_type": "markdown",
   "id": "e1c0e193-641e-45a3-96cf-a81344004b0f",
   "metadata": {},
   "source": [
    "![image.png](attachment:fdf4aede-02af-475c-a0e0-afc178b470ec.png)"
   ]
  }
 ],
 "metadata": {
  "kaggle": {
   "accelerator": "gpu",
   "dataSources": [
    {
     "databundleVersionId": 7500999,
     "sourceId": 66653,
     "sourceType": "competition"
    },
    {
     "isSourceIdPinned": true,
     "modelInstanceId": 25691,
     "sourceId": 30587,
     "sourceType": "modelInstanceVersion"
    }
   ],
   "dockerImageVersionId": 30684,
   "isGpuEnabled": true,
   "isInternetEnabled": false,
   "language": "python",
   "sourceType": "notebook"
  },
  "kernelspec": {
   "display_name": "Python 3 (ipykernel)",
   "language": "python",
   "name": "python3"
  },
  "language_info": {
   "codemirror_mode": {
    "name": "ipython",
    "version": 3
   },
   "file_extension": ".py",
   "mimetype": "text/x-python",
   "name": "python",
   "nbconvert_exporter": "python",
   "pygments_lexer": "ipython3",
   "version": "3.10.10"
  },
  "papermill": {
   "default_parameters": {},
   "duration": 31.269583,
   "end_time": "2024-04-13T17:29:51.001931",
   "environment_variables": {},
   "exception": null,
   "input_path": "__notebook__.ipynb",
   "output_path": "__notebook__.ipynb",
   "parameters": {},
   "start_time": "2024-04-13T17:29:19.732348",
   "version": "2.5.0"
  },
  "widgets": {
   "application/vnd.jupyter.widget-state+json": {
    "state": {
     "06123e0355f842bcacb5ffc1732b77fe": {
      "model_module": "@jupyter-widgets/controls",
      "model_module_version": "1.5.0",
      "model_name": "HTMLModel",
      "state": {
       "_dom_classes": [],
       "_model_module": "@jupyter-widgets/controls",
       "_model_module_version": "1.5.0",
       "_model_name": "HTMLModel",
       "_view_count": null,
       "_view_module": "@jupyter-widgets/controls",
       "_view_module_version": "1.5.0",
       "_view_name": "HTMLView",
       "description": "",
       "description_tooltip": null,
       "layout": "IPY_MODEL_9fe419384bd44db1a2c96120b3c53a6f",
       "placeholder": "​",
       "style": "IPY_MODEL_0a3afc60362f46daa50975a894663bc4",
       "value": "Map (num_proc=2): 100%"
      }
     },
     "0a3afc60362f46daa50975a894663bc4": {
      "model_module": "@jupyter-widgets/controls",
      "model_module_version": "1.5.0",
      "model_name": "DescriptionStyleModel",
      "state": {
       "_model_module": "@jupyter-widgets/controls",
       "_model_module_version": "1.5.0",
       "_model_name": "DescriptionStyleModel",
       "_view_count": null,
       "_view_module": "@jupyter-widgets/base",
       "_view_module_version": "1.2.0",
       "_view_name": "StyleView",
       "description_width": ""
      }
     },
     "2f1f31b8b1004343bbaec432e5a5811a": {
      "model_module": "@jupyter-widgets/controls",
      "model_module_version": "1.5.0",
      "model_name": "FloatProgressModel",
      "state": {
       "_dom_classes": [],
       "_model_module": "@jupyter-widgets/controls",
       "_model_module_version": "1.5.0",
       "_model_name": "FloatProgressModel",
       "_view_count": null,
       "_view_module": "@jupyter-widgets/controls",
       "_view_module_version": "1.5.0",
       "_view_name": "ProgressView",
       "bar_style": "success",
       "description": "",
       "description_tooltip": null,
       "layout": "IPY_MODEL_503d0721ed4242fabb34c0b7b6b2c1e6",
       "max": 10,
       "min": 0,
       "orientation": "horizontal",
       "style": "IPY_MODEL_ace1bea3cd88442fab1efd23418b0d88",
       "value": 10
      }
     },
     "503d0721ed4242fabb34c0b7b6b2c1e6": {
      "model_module": "@jupyter-widgets/base",
      "model_module_version": "1.2.0",
      "model_name": "LayoutModel",
      "state": {
       "_model_module": "@jupyter-widgets/base",
       "_model_module_version": "1.2.0",
       "_model_name": "LayoutModel",
       "_view_count": null,
       "_view_module": "@jupyter-widgets/base",
       "_view_module_version": "1.2.0",
       "_view_name": "LayoutView",
       "align_content": null,
       "align_items": null,
       "align_self": null,
       "border": null,
       "bottom": null,
       "display": null,
       "flex": null,
       "flex_flow": null,
       "grid_area": null,
       "grid_auto_columns": null,
       "grid_auto_flow": null,
       "grid_auto_rows": null,
       "grid_column": null,
       "grid_gap": null,
       "grid_row": null,
       "grid_template_areas": null,
       "grid_template_columns": null,
       "grid_template_rows": null,
       "height": null,
       "justify_content": null,
       "justify_items": null,
       "left": null,
       "margin": null,
       "max_height": null,
       "max_width": null,
       "min_height": null,
       "min_width": null,
       "object_fit": null,
       "object_position": null,
       "order": null,
       "overflow": null,
       "overflow_x": null,
       "overflow_y": null,
       "padding": null,
       "right": null,
       "top": null,
       "visibility": null,
       "width": null
      }
     },
     "6999c159c38440f1bc30ba7dac7c8440": {
      "model_module": "@jupyter-widgets/controls",
      "model_module_version": "1.5.0",
      "model_name": "HBoxModel",
      "state": {
       "_dom_classes": [],
       "_model_module": "@jupyter-widgets/controls",
       "_model_module_version": "1.5.0",
       "_model_name": "HBoxModel",
       "_view_count": null,
       "_view_module": "@jupyter-widgets/controls",
       "_view_module_version": "1.5.0",
       "_view_name": "HBoxView",
       "box_style": "",
       "children": [
        "IPY_MODEL_06123e0355f842bcacb5ffc1732b77fe",
        "IPY_MODEL_2f1f31b8b1004343bbaec432e5a5811a",
        "IPY_MODEL_7cb73505f2e743a188f6c8c10a3b4d5a"
       ],
       "layout": "IPY_MODEL_b6018cb5b6be44619006ee3c3fcd730e"
      }
     },
     "7cb73505f2e743a188f6c8c10a3b4d5a": {
      "model_module": "@jupyter-widgets/controls",
      "model_module_version": "1.5.0",
      "model_name": "HTMLModel",
      "state": {
       "_dom_classes": [],
       "_model_module": "@jupyter-widgets/controls",
       "_model_module_version": "1.5.0",
       "_model_name": "HTMLModel",
       "_view_count": null,
       "_view_module": "@jupyter-widgets/controls",
       "_view_module_version": "1.5.0",
       "_view_name": "HTMLView",
       "description": "",
       "description_tooltip": null,
       "layout": "IPY_MODEL_99999c614474462cb98598e3317c7610",
       "placeholder": "​",
       "style": "IPY_MODEL_de0d499196184bb88997f72f2ced96f6",
       "value": " 10/10 [00:00&lt;00:00, 25.00 examples/s]"
      }
     },
     "99999c614474462cb98598e3317c7610": {
      "model_module": "@jupyter-widgets/base",
      "model_module_version": "1.2.0",
      "model_name": "LayoutModel",
      "state": {
       "_model_module": "@jupyter-widgets/base",
       "_model_module_version": "1.2.0",
       "_model_name": "LayoutModel",
       "_view_count": null,
       "_view_module": "@jupyter-widgets/base",
       "_view_module_version": "1.2.0",
       "_view_name": "LayoutView",
       "align_content": null,
       "align_items": null,
       "align_self": null,
       "border": null,
       "bottom": null,
       "display": null,
       "flex": null,
       "flex_flow": null,
       "grid_area": null,
       "grid_auto_columns": null,
       "grid_auto_flow": null,
       "grid_auto_rows": null,
       "grid_column": null,
       "grid_gap": null,
       "grid_row": null,
       "grid_template_areas": null,
       "grid_template_columns": null,
       "grid_template_rows": null,
       "height": null,
       "justify_content": null,
       "justify_items": null,
       "left": null,
       "margin": null,
       "max_height": null,
       "max_width": null,
       "min_height": null,
       "min_width": null,
       "object_fit": null,
       "object_position": null,
       "order": null,
       "overflow": null,
       "overflow_x": null,
       "overflow_y": null,
       "padding": null,
       "right": null,
       "top": null,
       "visibility": null,
       "width": null
      }
     },
     "9fe419384bd44db1a2c96120b3c53a6f": {
      "model_module": "@jupyter-widgets/base",
      "model_module_version": "1.2.0",
      "model_name": "LayoutModel",
      "state": {
       "_model_module": "@jupyter-widgets/base",
       "_model_module_version": "1.2.0",
       "_model_name": "LayoutModel",
       "_view_count": null,
       "_view_module": "@jupyter-widgets/base",
       "_view_module_version": "1.2.0",
       "_view_name": "LayoutView",
       "align_content": null,
       "align_items": null,
       "align_self": null,
       "border": null,
       "bottom": null,
       "display": null,
       "flex": null,
       "flex_flow": null,
       "grid_area": null,
       "grid_auto_columns": null,
       "grid_auto_flow": null,
       "grid_auto_rows": null,
       "grid_column": null,
       "grid_gap": null,
       "grid_row": null,
       "grid_template_areas": null,
       "grid_template_columns": null,
       "grid_template_rows": null,
       "height": null,
       "justify_content": null,
       "justify_items": null,
       "left": null,
       "margin": null,
       "max_height": null,
       "max_width": null,
       "min_height": null,
       "min_width": null,
       "object_fit": null,
       "object_position": null,
       "order": null,
       "overflow": null,
       "overflow_x": null,
       "overflow_y": null,
       "padding": null,
       "right": null,
       "top": null,
       "visibility": null,
       "width": null
      }
     },
     "ace1bea3cd88442fab1efd23418b0d88": {
      "model_module": "@jupyter-widgets/controls",
      "model_module_version": "1.5.0",
      "model_name": "ProgressStyleModel",
      "state": {
       "_model_module": "@jupyter-widgets/controls",
       "_model_module_version": "1.5.0",
       "_model_name": "ProgressStyleModel",
       "_view_count": null,
       "_view_module": "@jupyter-widgets/base",
       "_view_module_version": "1.2.0",
       "_view_name": "StyleView",
       "bar_color": null,
       "description_width": ""
      }
     },
     "b6018cb5b6be44619006ee3c3fcd730e": {
      "model_module": "@jupyter-widgets/base",
      "model_module_version": "1.2.0",
      "model_name": "LayoutModel",
      "state": {
       "_model_module": "@jupyter-widgets/base",
       "_model_module_version": "1.2.0",
       "_model_name": "LayoutModel",
       "_view_count": null,
       "_view_module": "@jupyter-widgets/base",
       "_view_module_version": "1.2.0",
       "_view_name": "LayoutView",
       "align_content": null,
       "align_items": null,
       "align_self": null,
       "border": null,
       "bottom": null,
       "display": null,
       "flex": null,
       "flex_flow": null,
       "grid_area": null,
       "grid_auto_columns": null,
       "grid_auto_flow": null,
       "grid_auto_rows": null,
       "grid_column": null,
       "grid_gap": null,
       "grid_row": null,
       "grid_template_areas": null,
       "grid_template_columns": null,
       "grid_template_rows": null,
       "height": null,
       "justify_content": null,
       "justify_items": null,
       "left": null,
       "margin": null,
       "max_height": null,
       "max_width": null,
       "min_height": null,
       "min_width": null,
       "object_fit": null,
       "object_position": null,
       "order": null,
       "overflow": null,
       "overflow_x": null,
       "overflow_y": null,
       "padding": null,
       "right": null,
       "top": null,
       "visibility": null,
       "width": null
      }
     },
     "de0d499196184bb88997f72f2ced96f6": {
      "model_module": "@jupyter-widgets/controls",
      "model_module_version": "1.5.0",
      "model_name": "DescriptionStyleModel",
      "state": {
       "_model_module": "@jupyter-widgets/controls",
       "_model_module_version": "1.5.0",
       "_model_name": "DescriptionStyleModel",
       "_view_count": null,
       "_view_module": "@jupyter-widgets/base",
       "_view_module_version": "1.2.0",
       "_view_name": "StyleView",
       "description_width": ""
      }
     }
    },
    "version_major": 2,
    "version_minor": 0
   }
  }
 },
 "nbformat": 4,
 "nbformat_minor": 5
}
