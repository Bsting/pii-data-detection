{
 "cells": [
  {
   "cell_type": "markdown",
   "metadata": {},
   "source": [
    "### V10: Fine-Tune DeBERTa-V3-Small \n",
    "- Train Data\n",
    "- Down Sampling 'O' Label 0.30\n",
    "- External Dataset \n",
    "- Evaluation Metric F-Beta5\n",
    "- Cross Validation\n",
    "- Max Length 2048\n",
    "- No Stride\n",
    "\n",
    "Trained on Kaggle with GPU T4 x2\n",
    "\n",
    "Inference\n",
    "- Max Length 4096\n",
    "- No Stride\n",
    "​\n",
    "Leaderboard \n",
    "- Public Score: 0.957\n",
    "- Private Score: 0.948"
   ]
  },
  {
   "cell_type": "code",
   "execution_count": 1,
   "metadata": {
    "_cell_guid": "b1076dfc-b9ad-4769-8c92-a6c4dae69d19",
    "_uuid": "8f2839f25d086af736a60e9eeb907d3b93b6e0e5",
    "execution": {
     "iopub.execute_input": "2024-04-22T12:10:56.138111Z",
     "iopub.status.busy": "2024-04-22T12:10:56.137849Z",
     "iopub.status.idle": "2024-04-22T12:11:25.493871Z",
     "shell.execute_reply": "2024-04-22T12:11:25.492899Z",
     "shell.execute_reply.started": "2024-04-22T12:10:56.138086Z"
    }
   },
   "outputs": [
    {
     "name": "stdout",
     "output_type": "stream",
     "text": [
      "Collecting seqeval\n",
      "  Downloading seqeval-1.2.2.tar.gz (43 kB)\n",
      "\u001b[2K     \u001b[90m━━━━━━━━━━━━━━━━━━━━━━━━━━━━━━━━━━━━━━━\u001b[0m \u001b[32m43.6/43.6 kB\u001b[0m \u001b[31m712.0 kB/s\u001b[0m eta \u001b[36m0:00:00\u001b[0m \u001b[36m0:00:01\u001b[0m\n",
      "\u001b[?25h  Preparing metadata (setup.py) ... \u001b[?25ldone\n",
      "\u001b[?25hRequirement already satisfied: numpy>=1.14.0 in /opt/conda/lib/python3.10/site-packages (from seqeval) (1.26.4)\n",
      "Requirement already satisfied: scikit-learn>=0.21.3 in /opt/conda/lib/python3.10/site-packages (from seqeval) (1.2.2)\n",
      "Requirement already satisfied: scipy>=1.3.2 in /opt/conda/lib/python3.10/site-packages (from scikit-learn>=0.21.3->seqeval) (1.11.4)\n",
      "Requirement already satisfied: joblib>=1.1.1 in /opt/conda/lib/python3.10/site-packages (from scikit-learn>=0.21.3->seqeval) (1.4.0)\n",
      "Requirement already satisfied: threadpoolctl>=2.0.0 in /opt/conda/lib/python3.10/site-packages (from scikit-learn>=0.21.3->seqeval) (3.2.0)\n",
      "Building wheels for collected packages: seqeval\n",
      "  Building wheel for seqeval (setup.py) ... \u001b[?25ldone\n",
      "\u001b[?25h  Created wheel for seqeval: filename=seqeval-1.2.2-py3-none-any.whl size=16162 sha256=700c2c669f189f0216815f2d5e3f1b3b28028fdab4c3922727d03fad65664b2e\n",
      "  Stored in directory: /root/.cache/pip/wheels/1a/67/4a/ad4082dd7dfc30f2abfe4d80a2ed5926a506eb8a972b4767fa\n",
      "Successfully built seqeval\n",
      "Installing collected packages: seqeval\n",
      "Successfully installed seqeval-1.2.2\n",
      "Requirement already satisfied: accelerate in /opt/conda/lib/python3.10/site-packages (0.29.3)\n",
      "Requirement already satisfied: numpy>=1.17 in /opt/conda/lib/python3.10/site-packages (from accelerate) (1.26.4)\n",
      "Requirement already satisfied: packaging>=20.0 in /opt/conda/lib/python3.10/site-packages (from accelerate) (21.3)\n",
      "Requirement already satisfied: psutil in /opt/conda/lib/python3.10/site-packages (from accelerate) (5.9.3)\n",
      "Requirement already satisfied: pyyaml in /opt/conda/lib/python3.10/site-packages (from accelerate) (6.0.1)\n",
      "Requirement already satisfied: torch>=1.10.0 in /opt/conda/lib/python3.10/site-packages (from accelerate) (2.1.2)\n",
      "Requirement already satisfied: huggingface-hub in /opt/conda/lib/python3.10/site-packages (from accelerate) (0.22.2)\n",
      "Requirement already satisfied: safetensors>=0.3.1 in /opt/conda/lib/python3.10/site-packages (from accelerate) (0.4.3)\n",
      "Requirement already satisfied: pyparsing!=3.0.5,>=2.0.2 in /opt/conda/lib/python3.10/site-packages (from packaging>=20.0->accelerate) (3.1.1)\n",
      "Requirement already satisfied: filelock in /opt/conda/lib/python3.10/site-packages (from torch>=1.10.0->accelerate) (3.13.1)\n",
      "Requirement already satisfied: typing-extensions in /opt/conda/lib/python3.10/site-packages (from torch>=1.10.0->accelerate) (4.9.0)\n",
      "Requirement already satisfied: sympy in /opt/conda/lib/python3.10/site-packages (from torch>=1.10.0->accelerate) (1.12)\n",
      "Requirement already satisfied: networkx in /opt/conda/lib/python3.10/site-packages (from torch>=1.10.0->accelerate) (3.2.1)\n",
      "Requirement already satisfied: jinja2 in /opt/conda/lib/python3.10/site-packages (from torch>=1.10.0->accelerate) (3.1.2)\n",
      "Requirement already satisfied: fsspec in /opt/conda/lib/python3.10/site-packages (from torch>=1.10.0->accelerate) (2024.2.0)\n",
      "Requirement already satisfied: requests in /opt/conda/lib/python3.10/site-packages (from huggingface-hub->accelerate) (2.31.0)\n",
      "Requirement already satisfied: tqdm>=4.42.1 in /opt/conda/lib/python3.10/site-packages (from huggingface-hub->accelerate) (4.66.1)\n",
      "Requirement already satisfied: MarkupSafe>=2.0 in /opt/conda/lib/python3.10/site-packages (from jinja2->torch>=1.10.0->accelerate) (2.1.3)\n",
      "Requirement already satisfied: charset-normalizer<4,>=2 in /opt/conda/lib/python3.10/site-packages (from requests->huggingface-hub->accelerate) (3.3.2)\n",
      "Requirement already satisfied: idna<4,>=2.5 in /opt/conda/lib/python3.10/site-packages (from requests->huggingface-hub->accelerate) (3.6)\n",
      "Requirement already satisfied: urllib3<3,>=1.21.1 in /opt/conda/lib/python3.10/site-packages (from requests->huggingface-hub->accelerate) (1.26.18)\n",
      "Requirement already satisfied: certifi>=2017.4.17 in /opt/conda/lib/python3.10/site-packages (from requests->huggingface-hub->accelerate) (2024.2.2)\n",
      "Requirement already satisfied: mpmath>=0.19 in /opt/conda/lib/python3.10/site-packages (from sympy->torch>=1.10.0->accelerate) (1.3.0)\n"
     ]
    }
   ],
   "source": [
    "!pip install seqeval\n",
    "!pip install accelerate"
   ]
  },
  {
   "cell_type": "code",
   "execution_count": 2,
   "metadata": {
    "execution": {
     "iopub.execute_input": "2024-04-22T12:11:25.496184Z",
     "iopub.status.busy": "2024-04-22T12:11:25.495886Z",
     "iopub.status.idle": "2024-04-22T12:11:45.272630Z",
     "shell.execute_reply": "2024-04-22T12:11:45.271665Z",
     "shell.execute_reply.started": "2024-04-22T12:11:25.496153Z"
    }
   },
   "outputs": [
    {
     "name": "stderr",
     "output_type": "stream",
     "text": [
      "2024-04-22 12:11:35.646475: E external/local_xla/xla/stream_executor/cuda/cuda_dnn.cc:9261] Unable to register cuDNN factory: Attempting to register factory for plugin cuDNN when one has already been registered\n",
      "2024-04-22 12:11:35.646633: E external/local_xla/xla/stream_executor/cuda/cuda_fft.cc:607] Unable to register cuFFT factory: Attempting to register factory for plugin cuFFT when one has already been registered\n",
      "2024-04-22 12:11:35.802308: E external/local_xla/xla/stream_executor/cuda/cuda_blas.cc:1515] Unable to register cuBLAS factory: Attempting to register factory for plugin cuBLAS when one has already been registered\n"
     ]
    }
   ],
   "source": [
    "import gc\n",
    "import matplotlib.pyplot as plt\n",
    "import numpy as np\n",
    "import os\n",
    "import pandas as pd\n",
    "import seaborn as sns\n",
    "import time\n",
    "import torch\n",
    "\n",
    "from datasets import Dataset\n",
    "from functools import partial\n",
    "from seqeval.metrics import accuracy_score, classification_report\n",
    "from transformers import AutoTokenizer\n",
    "from transformers import DataCollatorForTokenClassification\n",
    "from transformers import AutoModelForTokenClassification, TrainingArguments, Trainer\n",
    "from tqdm import tqdm"
   ]
  },
  {
   "cell_type": "code",
   "execution_count": 3,
   "metadata": {
    "execution": {
     "iopub.execute_input": "2024-04-22T12:11:45.274525Z",
     "iopub.status.busy": "2024-04-22T12:11:45.273844Z",
     "iopub.status.idle": "2024-04-22T12:11:45.283283Z",
     "shell.execute_reply": "2024-04-22T12:11:45.282306Z",
     "shell.execute_reply.started": "2024-04-22T12:11:45.274492Z"
    }
   },
   "outputs": [],
   "source": [
    "class Setting:\n",
    "    seed = 42\n",
    "    base_dir = \"/kaggle/input\"\n",
    "\n",
    "    # data\n",
    "    data_train = f\"{base_dir}/pii-train/train.json\"\n",
    "    data_nbroad = f\"{base_dir}/pii-mistral/mixtral-8x7b-v1.json\"\n",
    "    data_valentinwerner = f\"{base_dir}/pii-label-specific/all_labels.json\"\n",
    "    data_alejopaulier = f\"{base_dir}/pii-fix-punctuation/pii_dataset_fixed.json\"\n",
    "    data_pjmathematician = f\"{base_dir}/pii-fix-punctuation/moredata_dataset_fixed.json\"\n",
    "    data_minhsienweng = f\"{base_dir}/pii-ai-generated/pii_dataset_Gemma.json\"\n",
    "    data_mandrilator = f\"{base_dir}/pii-mistral/all_labels.json\"\n",
    "    \n",
    "    down_sample_ratio = 0.30\n",
    "    n_split = 5\n",
    "\n",
    "    # model\n",
    "    model_checkpoint = \"microsoft/deberta-v3-small\"\n",
    "    model_train = '/kaggle/working/model/train'\n",
    "    model_final = '/kaggle/working/model/final'\n",
    "    max_length = 2048\n",
    "\n",
    "    # hyperparameter\n",
    "    epochs = 2\n",
    "    learning_rate = 3e-5\n",
    "    warmup_ratio = 0.1\n",
    "    lr_scheduler_type='cosine'\n",
    "    weight_decay = 0.01\n",
    "    grad_steps = 2\n",
    "    batch_size = 2\n",
    "\n",
    "    # PII (NER) tags\n",
    "    labels = [\"B-EMAIL\", \"B-ID_NUM\", \"B-NAME_STUDENT\", \"B-PHONE_NUM\",\n",
    "              \"B-STREET_ADDRESS\", \"B-URL_PERSONAL\", \"B-USERNAME\",\n",
    "              \"I-ID_NUM\", \"I-NAME_STUDENT\", \"I-PHONE_NUM\",\n",
    "              \"I-STREET_ADDRESS\",\"I-URL_PERSONAL\",\"O\"]\n",
    "    id2label = dict(enumerate(labels)) # integer label to BIO format label mapping\n",
    "    label2id = {v:k for k,v in id2label.items()} # BIO format label to integer label mapping\n",
    "    num_labels = len(labels) # number of PII (NER) tags"
   ]
  },
  {
   "cell_type": "code",
   "execution_count": 4,
   "metadata": {
    "execution": {
     "iopub.execute_input": "2024-04-22T12:11:45.286221Z",
     "iopub.status.busy": "2024-04-22T12:11:45.285879Z",
     "iopub.status.idle": "2024-04-22T12:11:45.327874Z",
     "shell.execute_reply": "2024-04-22T12:11:45.326879Z",
     "shell.execute_reply.started": "2024-04-22T12:11:45.286193Z"
    }
   },
   "outputs": [
    {
     "data": {
      "text/plain": [
       "<torch._C.Generator at 0x79c0fd4a28f0>"
      ]
     },
     "execution_count": 4,
     "metadata": {},
     "output_type": "execute_result"
    }
   ],
   "source": [
    "np.random.seed(Setting.seed)\n",
    "torch.manual_seed(Setting.seed)"
   ]
  },
  {
   "cell_type": "code",
   "execution_count": 5,
   "metadata": {
    "execution": {
     "iopub.execute_input": "2024-04-22T12:11:45.329393Z",
     "iopub.status.busy": "2024-04-22T12:11:45.329125Z",
     "iopub.status.idle": "2024-04-22T12:11:54.687029Z",
     "shell.execute_reply": "2024-04-22T12:11:54.685983Z",
     "shell.execute_reply.started": "2024-04-22T12:11:45.329370Z"
    }
   },
   "outputs": [
    {
     "name": "stdout",
     "output_type": "stream",
     "text": [
      "<class 'pandas.core.frame.DataFrame'>\n",
      "RangeIndex: 27442 entries, 0 to 27441\n",
      "Data columns (total 2 columns):\n",
      " #   Column      Non-Null Count  Dtype \n",
      "---  ------      --------------  ----- \n",
      " 0   tokens      27442 non-null  object\n",
      " 1   pii_labels  27442 non-null  object\n",
      "dtypes: object(2)\n",
      "memory usage: 428.9+ KB\n"
     ]
    }
   ],
   "source": [
    "# read and combine all dataset\n",
    "df_train = pd.read_json(Setting.data_train)\n",
    "df_nbroad = pd.read_json(Setting.data_nbroad)\n",
    "df_valentinwerner = pd.read_json(Setting.data_valentinwerner)\n",
    "df_alejopaulier = pd.read_json(Setting.data_alejopaulier)\n",
    "df_pjmathematician = pd.read_json(Setting.data_pjmathematician)\n",
    "df_minhsienweng = pd.read_json(Setting.data_minhsienweng)\n",
    "df_mandrilator = pd.read_json(Setting.data_mandrilator)\n",
    "\n",
    "features = ['tokens', 'labels']\n",
    "df = pd.concat([df_train[features],\n",
    "                   df_nbroad[features],\n",
    "                   df_valentinwerner[features],\n",
    "                   df_alejopaulier[features],\n",
    "                   df_pjmathematician[features],\n",
    "                   df_minhsienweng[features],\n",
    "                   df_mandrilator[features]],\n",
    "                   ignore_index=True)\n",
    "\n",
    "df = df[['tokens', 'labels']]\n",
    "df.rename(columns={\"labels\": \"pii_labels\"}, inplace=True)\n",
    "df.info()"
   ]
  },
  {
   "cell_type": "code",
   "execution_count": 6,
   "metadata": {
    "execution": {
     "iopub.execute_input": "2024-04-22T12:11:54.689175Z",
     "iopub.status.busy": "2024-04-22T12:11:54.688486Z",
     "iopub.status.idle": "2024-04-22T12:11:54.701634Z",
     "shell.execute_reply": "2024-04-22T12:11:54.700582Z",
     "shell.execute_reply.started": "2024-04-22T12:11:54.689140Z"
    }
   },
   "outputs": [],
   "source": [
    "def plot_bar_chart(data, target_column, title, xlabel, ylabel):\n",
    "    target = data[target_column].value_counts(sort=False).reset_index(name='total')\n",
    "    ax = sns.barplot(\n",
    "        data=target,\n",
    "        y='total',\n",
    "        x=target_column,\n",
    "        hue=target_column,\n",
    "        palette='cool',\n",
    "        estimator=lambda x: sum(x)*100.00/target['total'].sum())\n",
    "    plt.tight_layout()\n",
    "    plt.xlabel(xlabel, fontdict={'weight': 'bold'})\n",
    "    plt.ylabel(ylabel, fontdict={'weight': 'bold'})\n",
    "    plt.title(title)\n",
    "    plt.xticks(rotation=0)\n",
    "    plt.tick_params(axis='both', which='major', labelsize=9)\n",
    "    # show percentage on bar for first 3 bars\n",
    "    for index, row in target.iterrows():\n",
    "        y = row.total*100.00/target['total'].sum()\n",
    "        ax.text(row.name, y + 0.15, f'{y:.2f}%', fontsize=9)\n",
    "    ax.get_legend().remove()\n",
    "    plt.show()\n",
    "\n",
    "def down_sample(df, down_sample_ratio, seed):\n",
    "    df['non_pii_entity_only'] = df['pii_labels'].apply(lambda x: sum(label=='O' for label in x)==len(x))\n",
    "\n",
    "    df_non_pii_entity_only = df[df['non_pii_entity_only']].sample(frac=down_sample_ratio, random_state=seed)\n",
    "    df_with_pii_entity = df[~df['non_pii_entity_only']]\n",
    "    df = pd.concat([df_with_pii_entity, df_non_pii_entity_only])\n",
    "\n",
    "    plot_bar_chart(df, 'non_pii_entity_only', \"% of Documents with Non-PII Entity ('O' Label) Only\", \"Non-PII Entity\", \"Percentage\")\n",
    "    print(df['non_pii_entity_only'].value_counts())\n",
    "\n",
    "    df.drop(columns=['non_pii_entity_only'], inplace=True)\n",
    "    return df"
   ]
  },
  {
   "cell_type": "code",
   "execution_count": 7,
   "metadata": {
    "execution": {
     "iopub.execute_input": "2024-04-22T12:11:54.703461Z",
     "iopub.status.busy": "2024-04-22T12:11:54.703109Z",
     "iopub.status.idle": "2024-04-22T12:11:56.023699Z",
     "shell.execute_reply": "2024-04-22T12:11:56.022758Z",
     "shell.execute_reply.started": "2024-04-22T12:11:54.703429Z"
    }
   },
   "outputs": [
    {
     "data": {
      "image/png": "[encoded data removed]",
      "text/plain": [
       "<Figure size 640x480 with 1 Axes>"
      ]
     },
     "metadata": {},
     "output_type": "display_data"
    },
    {
     "name": "stdout",
     "output_type": "stream",
     "text": [
      "non_pii_entity_only\n",
      "False    20430\n",
      "True      2104\n",
      "Name: count, dtype: int64\n",
      "<class 'pandas.core.frame.DataFrame'>\n",
      "Index: 22534 entries, 0 to 23091\n",
      "Data columns (total 2 columns):\n",
      " #   Column      Non-Null Count  Dtype \n",
      "---  ------      --------------  ----- \n",
      " 0   tokens      22534 non-null  object\n",
      " 1   pii_labels  22534 non-null  object\n",
      "dtypes: object(2)\n",
      "memory usage: 528.1+ KB\n"
     ]
    }
   ],
   "source": [
    "df = down_sample(df, Setting.down_sample_ratio, Setting.seed)\n",
    "df.info()"
   ]
  },
  {
   "cell_type": "code",
   "execution_count": 8,
   "metadata": {
    "execution": {
     "iopub.execute_input": "2024-04-22T12:11:56.025314Z",
     "iopub.status.busy": "2024-04-22T12:11:56.024969Z",
     "iopub.status.idle": "2024-04-22T12:11:58.519979Z",
     "shell.execute_reply": "2024-04-22T12:11:58.519019Z",
     "shell.execute_reply.started": "2024-04-22T12:11:56.025286Z"
    }
   },
   "outputs": [
    {
     "data": {
      "text/plain": [
       "Dataset({\n",
       "    features: ['tokens', 'pii_labels', '__index_level_0__'],\n",
       "    num_rows: 22534\n",
       "})"
      ]
     },
     "execution_count": 8,
     "metadata": {},
     "output_type": "execute_result"
    }
   ],
   "source": [
    "ds = Dataset.from_pandas(df)\n",
    "ds"
   ]
  },
  {
   "cell_type": "code",
   "execution_count": 9,
   "metadata": {
    "execution": {
     "iopub.execute_input": "2024-04-22T12:11:58.521496Z",
     "iopub.status.busy": "2024-04-22T12:11:58.521176Z",
     "iopub.status.idle": "2024-04-22T12:11:58.528743Z",
     "shell.execute_reply": "2024-04-22T12:11:58.527867Z",
     "shell.execute_reply.started": "2024-04-22T12:11:58.521471Z"
    }
   },
   "outputs": [],
   "source": [
    "def tokenize_and_align_labels(examples, tokenizer, label2id, max_length):\n",
    "    tokenized_inputs = tokenizer(examples[\"tokens\"], truncation=True, max_length=max_length, is_split_into_words=True)\n",
    "    labels = []\n",
    "    for i, label in enumerate(examples[\"pii_labels\"]):\n",
    "        word_ids = tokenized_inputs.word_ids(batch_index=i)  # Map tokens to their respective word.       \n",
    "        previous_word_idx = None\n",
    "        label_ids = []\n",
    "        for word_idx in word_ids:  # Set the special tokens to -100.\n",
    "            if word_idx is None:\n",
    "                label_ids.append(-100)\n",
    "            elif word_idx != previous_word_idx:  # Only label the first token of a given word.\n",
    "                label_ids.append(label2id[label[word_idx]])\n",
    "            else:\n",
    "                label_ids.append(-100)\n",
    "            previous_word_idx = word_idx\n",
    "        labels.append(label_ids)\n",
    "\n",
    "    tokenized_inputs[\"labels\"] = labels\n",
    "    return tokenized_inputs"
   ]
  },
  {
   "cell_type": "code",
   "execution_count": 10,
   "metadata": {
    "execution": {
     "iopub.execute_input": "2024-04-22T12:11:58.531419Z",
     "iopub.status.busy": "2024-04-22T12:11:58.531172Z",
     "iopub.status.idle": "2024-04-22T12:11:58.544794Z",
     "shell.execute_reply": "2024-04-22T12:11:58.544069Z",
     "shell.execute_reply.started": "2024-04-22T12:11:58.531394Z"
    }
   },
   "outputs": [],
   "source": [
    "def compute_metrics(p, id2label):\n",
    "    predictions, labels = p\n",
    "    predictions = np.argmax(predictions, axis=2)\n",
    "\n",
    "    true_predictions = [\n",
    "        [id2label[p] for (p, l) in zip(prediction, label) if l != -100]\n",
    "        for prediction, label in zip(predictions, labels)\n",
    "    ]\n",
    "    true_labels = [\n",
    "        [id2label[l] for (p, l) in zip(prediction, label) if l != -100]\n",
    "        for prediction, label in zip(predictions, labels)\n",
    "    ]\n",
    "    \n",
    "    report = classification_report(y_true=true_labels, y_pred=true_predictions, output_dict=True)\n",
    "    micro_avg = report.pop(\"micro avg\")    \n",
    "    \n",
    "    precision = micro_avg[\"precision\"]\n",
    "    recall = micro_avg[\"recall\"]\n",
    "    beta = 5\n",
    "    fbeta = ((1+(beta**2))*precision*recall) / ((beta**2)*precision + recall)\n",
    "    \n",
    "    return {\n",
    "        \"precision\": precision,\n",
    "        \"recall\": recall,\n",
    "        \"f1\": micro_avg[\"f1-score\"],\n",
    "        \"fb-5\": fbeta\n",
    "    }"
   ]
  },
  {
   "cell_type": "code",
   "execution_count": 11,
   "metadata": {
    "execution": {
     "iopub.execute_input": "2024-04-22T12:11:58.546417Z",
     "iopub.status.busy": "2024-04-22T12:11:58.546079Z",
     "iopub.status.idle": "2024-04-22T12:14:28.107517Z",
     "shell.execute_reply": "2024-04-22T12:14:28.106668Z",
     "shell.execute_reply.started": "2024-04-22T12:11:58.546388Z"
    }
   },
   "outputs": [
    {
     "name": "stderr",
     "output_type": "stream",
     "text": [
      "100%|██████████| 5/5 [02:29<00:00, 29.91s/it]\n"
     ]
    }
   ],
   "source": [
    "folds = [\n",
    "    (\n",
    "        np.array([i for i, d in enumerate(ds[\"pii_labels\"]) if i % Setting.n_split != s]),\n",
    "        np.array([i for i, d in enumerate(ds[\"pii_labels\"]) if i % Setting.n_split == s])\n",
    "    )\n",
    "    for s in tqdm(range(Setting.n_split))\n",
    "]"
   ]
  },
  {
   "cell_type": "code",
   "execution_count": 12,
   "metadata": {
    "execution": {
     "iopub.execute_input": "2024-04-22T12:14:48.820517Z",
     "iopub.status.busy": "2024-04-22T12:14:48.820189Z",
     "iopub.status.idle": "2024-04-22T12:14:59.489960Z",
     "shell.execute_reply": "2024-04-22T12:14:59.488972Z",
     "shell.execute_reply.started": "2024-04-22T12:14:48.820492Z"
    }
   },
   "outputs": [],
   "source": [
    "gc.collect()\n",
    "torch.cuda.empty_cache()\n",
    "time.sleep(10)"
   ]
  },
  {
   "cell_type": "code",
   "execution_count": null,
   "metadata": {
    "execution": {
     "iopub.execute_input": "2024-04-22T07:11:21.276223Z",
     "iopub.status.busy": "2024-04-22T07:11:21.275589Z"
    }
   },
   "outputs": [
    {
     "name": "stdout",
     "output_type": "stream",
     "text": [
      "Fold: 0, train_ds: 18027, val_ds:  4507\n"
     ]
    },
    {
     "data": {
      "application/vnd.jupyter.widget-view+json": {
       "model_id": "1497c0a6205e458294b648e290efc2ee",
       "version_major": 2,
       "version_minor": 0
      },
      "text/plain": [
       "Map:   0%|          | 0/18027 [00:00<?, ? examples/s]"
      ]
     },
     "metadata": {},
     "output_type": "display_data"
    },
    {
     "data": {
      "application/vnd.jupyter.widget-view+json": {
       "model_id": "ab94f7191e4d4db08edf1f3daa966f26",
       "version_major": 2,
       "version_minor": 0
      },
      "text/plain": [
       "Map:   0%|          | 0/4507 [00:00<?, ? examples/s]"
      ]
     },
     "metadata": {},
     "output_type": "display_data"
    },
    {
     "name": "stdout",
     "output_type": "stream",
     "text": [
      "Fold: 0, tokenized_train_ds: 18027, tokenized_val_ds:  4507\n"
     ]
    },
    {
     "name": "stderr",
     "output_type": "stream",
     "text": [
      "Some weights of DebertaV2ForTokenClassification were not initialized from the model checkpoint at microsoft/deberta-v3-small and are newly initialized: ['classifier.bias', 'classifier.weight']\n",
      "You should probably TRAIN this model on a down-stream task to be able to use it for predictions and inference.\n"
     ]
    },
    {
     "data": {
      "text/html": [
       "\n",
       "    <div>\n",
       "      \n",
       "      <progress value='4506' max='4506' style='width:300px; height:20px; vertical-align: middle;'></progress>\n",
       "      [4506/4506 1:12:16, Epoch 1/2]\n",
       "    </div>\n",
       "    <table border=\"1\" class=\"dataframe\">\n",
       "  <thead>\n",
       " <tr style=\"text-align: left;\">\n",
       "      <th>Epoch</th>\n",
       "      <th>Training Loss</th>\n",
       "      <th>Validation Loss</th>\n",
       "      <th>Precision</th>\n",
       "      <th>Recall</th>\n",
       "      <th>F1</th>\n",
       "      <th>Fb-5</th>\n",
       "    </tr>\n",
       "  </thead>\n",
       "  <tbody>\n",
       "    <tr>\n",
       "      <td>0</td>\n",
       "      <td>0.007500</td>\n",
       "      <td>0.008340</td>\n",
       "      <td>0.955940</td>\n",
       "      <td>0.892964</td>\n",
       "      <td>0.923380</td>\n",
       "      <td>0.895233</td>\n",
       "    </tr>\n",
       "    <tr>\n",
       "      <td>1</td>\n",
       "      <td>0.002900</td>\n",
       "      <td>0.007203</td>\n",
       "      <td>0.936750</td>\n",
       "      <td>0.927790</td>\n",
       "      <td>0.932248</td>\n",
       "      <td>0.928131</td>\n",
       "    </tr>\n",
       "  </tbody>\n",
       "</table><p>"
      ],
      "text/plain": [
       "<IPython.core.display.HTML object>"
      ]
     },
     "metadata": {},
     "output_type": "display_data"
    },
    {
     "name": "stderr",
     "output_type": "stream",
     "text": [
      "/opt/conda/lib/python3.10/site-packages/torch/nn/parallel/_functions.py:68: UserWarning: Was asked to gather along dimension 0, but all input tensors were scalars; will instead unsqueeze and return a vector.\n",
      "  warnings.warn('Was asked to gather along dimension 0, but all '\n"
     ]
    },
    {
     "name": "stdout",
     "output_type": "stream",
     "text": [
      "/kaggle/working/model/train/checkpoint-4506\n",
      "------------------------------------------------------\n",
      "Fold: 1, train_ds: 18027, val_ds:  4507\n"
     ]
    },
    {
     "data": {
      "application/vnd.jupyter.widget-view+json": {
       "model_id": "9cdb2e60c9d04950a7f8803babc8831a",
       "version_major": 2,
       "version_minor": 0
      },
      "text/plain": [
       "Map:   0%|          | 0/18027 [00:00<?, ? examples/s]"
      ]
     },
     "metadata": {},
     "output_type": "display_data"
    },
    {
     "data": {
      "application/vnd.jupyter.widget-view+json": {
       "model_id": "081d1c99c05c4db39ebbe1bde129dadc",
       "version_major": 2,
       "version_minor": 0
      },
      "text/plain": [
       "Map:   0%|          | 0/4507 [00:00<?, ? examples/s]"
      ]
     },
     "metadata": {},
     "output_type": "display_data"
    },
    {
     "name": "stdout",
     "output_type": "stream",
     "text": [
      "Fold: 1, tokenized_train_ds: 18027, tokenized_val_ds:  4507\n"
     ]
    },
    {
     "name": "stderr",
     "output_type": "stream",
     "text": [
      "/opt/conda/lib/python3.10/site-packages/accelerate/accelerator.py:432: FutureWarning: Passing the following arguments to `Accelerator` is deprecated and will be removed in version 1.0 of Accelerate: dict_keys(['dispatch_batches', 'split_batches', 'even_batches', 'use_seedable_sampler']). Please pass an `accelerate.DataLoaderConfiguration` instead: \n",
      "dataloader_config = DataLoaderConfiguration(dispatch_batches=None, split_batches=False, even_batches=True, use_seedable_sampler=True)\n",
      "  warnings.warn(\n",
      "/opt/conda/lib/python3.10/site-packages/torch/nn/parallel/_functions.py:68: UserWarning: Was asked to gather along dimension 0, but all input tensors were scalars; will instead unsqueeze and return a vector.\n",
      "  warnings.warn('Was asked to gather along dimension 0, but all '\n"
     ]
    },
    {
     "data": {
      "text/html": [
       "\n",
       "    <div>\n",
       "      \n",
       "      <progress value='1016' max='4506' style='width:300px; height:20px; vertical-align: middle;'></progress>\n",
       "      [1016/4506 14:28 < 49:48, 1.17 it/s, Epoch 0.45/2]\n",
       "    </div>\n",
       "    <table border=\"1\" class=\"dataframe\">\n",
       "  <thead>\n",
       " <tr style=\"text-align: left;\">\n",
       "      <th>Epoch</th>\n",
       "      <th>Training Loss</th>\n",
       "      <th>Validation Loss</th>\n",
       "    </tr>\n",
       "  </thead>\n",
       "  <tbody>\n",
       "  </tbody>\n",
       "</table><p>"
      ],
      "text/plain": [
       "<IPython.core.display.HTML object>"
      ]
     },
     "metadata": {},
     "output_type": "display_data"
    }
   ],
   "source": [
    "tokenizer = AutoTokenizer.from_pretrained(Setting.model_checkpoint, add_prefix_space=True)\n",
    "data_collator = DataCollatorForTokenClassification(tokenizer=tokenizer)\n",
    "\n",
    "training_args = TrainingArguments(\n",
    "    output_dir=Setting.model_train,\n",
    "    num_train_epochs=Setting.epochs,\n",
    "    learning_rate=Setting.learning_rate,\n",
    "    lr_scheduler_type=Setting.lr_scheduler_type,\n",
    "    warmup_ratio=Setting.warmup_ratio,\n",
    "    weight_decay=Setting.weight_decay,\n",
    "    gradient_accumulation_steps=Setting.grad_steps,\n",
    "    per_device_train_batch_size=Setting.batch_size,\n",
    "    per_device_eval_batch_size=Setting.batch_size,\n",
    "    seed=Setting.seed,\n",
    "    evaluation_strategy=\"epoch\",\n",
    "    save_strategy=\"epoch\",\n",
    "    metric_for_best_model=\"fb-5\",\n",
    "    logging_steps=10,\n",
    "    greater_is_better=True,\n",
    "    load_best_model_at_end=True\n",
    ")\n",
    "\n",
    "for fold_idx, (train_idx, val_idx) in enumerate(folds):        \n",
    "    train_ds = ds.select(train_idx)\n",
    "    val_ds = ds.select(val_idx)\n",
    "    print(f'Fold: {fold_idx}, train_ds: {train_ds.num_rows}, val_ds:  {val_ds.num_rows}')    \n",
    "    tokenized_train_ds = train_ds.map(tokenize_and_align_labels, \n",
    "                                         fn_kwargs={\"tokenizer\": tokenizer, \n",
    "                                                     \"label2id\": Setting.label2id, \n",
    "                                                     \"max_length\": Setting.max_length\n",
    "                                                    }, \n",
    "                                         batched=True)\n",
    "    tokenized_train_ds = tokenized_train_ds.remove_columns(['tokens', 'pii_labels'])\n",
    "    \n",
    "    tokenized_val_ds = val_ds.map(tokenize_and_align_labels, \n",
    "                                     fn_kwargs={\"tokenizer\": tokenizer, \n",
    "                                                 \"label2id\": Setting.label2id, \n",
    "                                                 \"max_length\": Setting.max_length\n",
    "                                                }, \n",
    "                                     batched=True)\n",
    "    tokenized_val_ds = tokenized_val_ds.remove_columns(['tokens', 'pii_labels'])\n",
    "    \n",
    "    print(f'Fold: {fold_idx}, tokenized_train_ds: {tokenized_train_ds.num_rows}, tokenized_val_ds:  {tokenized_val_ds.num_rows}') \n",
    "    \n",
    "    model = AutoModelForTokenClassification.from_pretrained(\n",
    "        Setting.model_checkpoint, \n",
    "        num_labels=Setting.num_labels, \n",
    "        id2label=Setting.id2label, \n",
    "        label2id=Setting.label2id\n",
    "    )\n",
    "\n",
    "    trainer = Trainer(\n",
    "        model=model,\n",
    "        args=training_args,\n",
    "        train_dataset=tokenized_train_ds,\n",
    "        eval_dataset=tokenized_val_ds,\n",
    "        tokenizer=tokenizer,\n",
    "        data_collator=data_collator,\n",
    "        compute_metrics=partial(compute_metrics, id2label=Setting.id2label)\n",
    "    )\n",
    "    \n",
    "    trainer.train()\n",
    "    # set best model checkpoint\n",
    "    Setting.model_checkpoint = trainer.state.best_model_checkpoint\n",
    "    print(Setting.model_checkpoint)\n",
    "    trainer.save_model(Setting.model_final)\n",
    "    tokenizer.save_pretrained(Setting.model_final)\n",
    "\n",
    "    del trainer\n",
    "    gc.collect()\n",
    "    torch.cuda.empty_cache()\n",
    "    print('------------------------------------------------------')"
   ]
  },
  {
   "cell_type": "code",
   "execution_count": 13,
   "metadata": {
    "execution": {
     "iopub.execute_input": "2024-04-22T12:15:12.401132Z",
     "iopub.status.busy": "2024-04-22T12:15:12.400482Z",
     "iopub.status.idle": "2024-04-22T12:15:12.405207Z",
     "shell.execute_reply": "2024-04-22T12:15:12.404206Z",
     "shell.execute_reply.started": "2024-04-22T12:15:12.401098Z"
    }
   },
   "outputs": [],
   "source": [
    "import shutil"
   ]
  },
  {
   "cell_type": "code",
   "execution_count": 14,
   "metadata": {
    "execution": {
     "iopub.execute_input": "2024-04-22T12:17:15.095639Z",
     "iopub.status.busy": "2024-04-22T12:17:15.095009Z",
     "iopub.status.idle": "2024-04-22T13:33:08.669252Z",
     "shell.execute_reply": "2024-04-22T13:33:08.667869Z",
     "shell.execute_reply.started": "2024-04-22T12:17:15.095608Z"
    }
   },
   "outputs": [
    {
     "name": "stdout",
     "output_type": "stream",
     "text": [
      "/kaggle/input/pii-data-with-deberta-v3-small/model/train/checkpoint-4506\n",
      "Fold: 1, train_ds: 18027, val_ds:  4507\n"
     ]
    },
    {
     "data": {
      "application/vnd.jupyter.widget-view+json": {
       "model_id": "cb06f9639aaa4e7a840f65ea18e280bc",
       "version_major": 2,
       "version_minor": 0
      },
      "text/plain": [
       "Map:   0%|          | 0/18027 [00:00<?, ? examples/s]"
      ]
     },
     "metadata": {},
     "output_type": "display_data"
    },
    {
     "data": {
      "application/vnd.jupyter.widget-view+json": {
       "model_id": "afc094ad2fa849d1984c662d0c3c7884",
       "version_major": 2,
       "version_minor": 0
      },
      "text/plain": [
       "Map:   0%|          | 0/4507 [00:00<?, ? examples/s]"
      ]
     },
     "metadata": {},
     "output_type": "display_data"
    },
    {
     "name": "stdout",
     "output_type": "stream",
     "text": [
      "Fold: 1, tokenized_train_ds: 18027, tokenized_val_ds:  4507\n"
     ]
    },
    {
     "name": "stderr",
     "output_type": "stream",
     "text": [
      "/opt/conda/lib/python3.10/site-packages/accelerate/accelerator.py:436: FutureWarning: Passing the following arguments to `Accelerator` is deprecated and will be removed in version 1.0 of Accelerate: dict_keys(['dispatch_batches', 'split_batches', 'even_batches', 'use_seedable_sampler']). Please pass an `accelerate.DataLoaderConfiguration` instead: \n",
      "dataloader_config = DataLoaderConfiguration(dispatch_batches=None, split_batches=False, even_batches=True, use_seedable_sampler=True)\n",
      "  warnings.warn(\n",
      "\u001b[34m\u001b[1mwandb\u001b[0m: Logging into wandb.ai. (Learn how to deploy a W&B server locally: https://wandb.me/wandb-server)\n",
      "\u001b[34m\u001b[1mwandb\u001b[0m: You can find your API key in your browser here: https://wandb.ai/authorize\n",
      "\u001b[34m\u001b[1mwandb\u001b[0m: Paste an API key from your profile and hit enter, or press ctrl+c to quit:"
     ]
    },
    {
     "name": "stdin",
     "output_type": "stream",
     "text": [
      "  ········································\n"
     ]
    },
    {
     "name": "stderr",
     "output_type": "stream",
     "text": [
      "\u001b[34m\u001b[1mwandb\u001b[0m: Appending key for api.wandb.ai to your netrc file: /root/.netrc\n"
     ]
    },
    {
     "data": {
      "text/html": [
       "Tracking run with wandb version 0.16.6"
      ],
      "text/plain": [
       "<IPython.core.display.HTML object>"
      ]
     },
     "metadata": {},
     "output_type": "display_data"
    },
    {
     "data": {
      "text/html": [
       "Run data is saved locally in <code>/kaggle/working/wandb/run-20240422_121911-qh029fur</code>"
      ],
      "text/plain": [
       "<IPython.core.display.HTML object>"
      ]
     },
     "metadata": {},
     "output_type": "display_data"
    },
    {
     "data": {
      "text/html": [
       "Syncing run <strong><a href='https://wandb.ai/bst_6041/huggingface/runs/qh029fur' target=\"_blank\">eager-dream-8</a></strong> to <a href='https://wandb.ai/bst_6041/huggingface' target=\"_blank\">Weights & Biases</a> (<a href='https://wandb.me/run' target=\"_blank\">docs</a>)<br/>"
      ],
      "text/plain": [
       "<IPython.core.display.HTML object>"
      ]
     },
     "metadata": {},
     "output_type": "display_data"
    },
    {
     "data": {
      "text/html": [
       " View project at <a href='https://wandb.ai/bst_6041/huggingface' target=\"_blank\">https://wandb.ai/bst_6041/huggingface</a>"
      ],
      "text/plain": [
       "<IPython.core.display.HTML object>"
      ]
     },
     "metadata": {},
     "output_type": "display_data"
    },
    {
     "data": {
      "text/html": [
       " View run at <a href='https://wandb.ai/bst_6041/huggingface/runs/qh029fur' target=\"_blank\">https://wandb.ai/bst_6041/huggingface/runs/qh029fur</a>"
      ],
      "text/plain": [
       "<IPython.core.display.HTML object>"
      ]
     },
     "metadata": {},
     "output_type": "display_data"
    },
    {
     "name": "stderr",
     "output_type": "stream",
     "text": [
      "/opt/conda/lib/python3.10/site-packages/torch/nn/parallel/_functions.py:68: UserWarning: Was asked to gather along dimension 0, but all input tensors were scalars; will instead unsqueeze and return a vector.\n",
      "  warnings.warn('Was asked to gather along dimension 0, but all '\n"
     ]
    },
    {
     "data": {
      "text/html": [
       "\n",
       "    <div>\n",
       "      \n",
       "      <progress value='4506' max='4506' style='width:300px; height:20px; vertical-align: middle;'></progress>\n",
       "      [4506/4506 1:12:37, Epoch 1/2]\n",
       "    </div>\n",
       "    <table border=\"1\" class=\"dataframe\">\n",
       "  <thead>\n",
       " <tr style=\"text-align: left;\">\n",
       "      <th>Epoch</th>\n",
       "      <th>Training Loss</th>\n",
       "      <th>Validation Loss</th>\n",
       "      <th>Precision</th>\n",
       "      <th>Recall</th>\n",
       "      <th>F1</th>\n",
       "      <th>Fb-5</th>\n",
       "    </tr>\n",
       "  </thead>\n",
       "  <tbody>\n",
       "    <tr>\n",
       "      <td>0</td>\n",
       "      <td>0.006400</td>\n",
       "      <td>0.007063</td>\n",
       "      <td>0.924102</td>\n",
       "      <td>0.902748</td>\n",
       "      <td>0.913300</td>\n",
       "      <td>0.903551</td>\n",
       "    </tr>\n",
       "    <tr>\n",
       "      <td>1</td>\n",
       "      <td>0.004700</td>\n",
       "      <td>0.005547</td>\n",
       "      <td>0.953396</td>\n",
       "      <td>0.927130</td>\n",
       "      <td>0.940080</td>\n",
       "      <td>0.928113</td>\n",
       "    </tr>\n",
       "  </tbody>\n",
       "</table><p>"
      ],
      "text/plain": [
       "<IPython.core.display.HTML object>"
      ]
     },
     "metadata": {},
     "output_type": "display_data"
    },
    {
     "name": "stderr",
     "output_type": "stream",
     "text": [
      "/opt/conda/lib/python3.10/site-packages/torch/nn/parallel/_functions.py:68: UserWarning: Was asked to gather along dimension 0, but all input tensors were scalars; will instead unsqueeze and return a vector.\n",
      "  warnings.warn('Was asked to gather along dimension 0, but all '\n"
     ]
    },
    {
     "name": "stdout",
     "output_type": "stream",
     "text": [
      "/kaggle/working/model/train/checkpoint-4506\n"
     ]
    },
    {
     "ename": "NameError",
     "evalue": "name 'trainer' is not defined",
     "output_type": "error",
     "traceback": [
      "\u001b[0;31m---------------------------------------------------------------------------\u001b[0m",
      "\u001b[0;31mNameError\u001b[0m                                 Traceback (most recent call last)",
      "Cell \u001b[0;32mIn[14], line 81\u001b[0m\n\u001b[1;32m     79\u001b[0m time\u001b[38;5;241m.\u001b[39msleep(\u001b[38;5;241m5\u001b[39m)\n\u001b[1;32m     80\u001b[0m shutil\u001b[38;5;241m.\u001b[39mmake_archive(\u001b[38;5;124m'\u001b[39m\u001b[38;5;124mmodel_final\u001b[39m\u001b[38;5;124m'\u001b[39m, \u001b[38;5;124m'\u001b[39m\u001b[38;5;124mzip\u001b[39m\u001b[38;5;124m'\u001b[39m, Setting\u001b[38;5;241m.\u001b[39mmodel_final)\n\u001b[0;32m---> 81\u001b[0m shutil\u001b[38;5;241m.\u001b[39mmake_archive(\u001b[38;5;124m'\u001b[39m\u001b[38;5;124mbest_model_checkpoint\u001b[39m\u001b[38;5;124m'\u001b[39m, \u001b[38;5;124m'\u001b[39m\u001b[38;5;124mzip\u001b[39m\u001b[38;5;124m'\u001b[39m, \u001b[43mtrainer\u001b[49m\u001b[38;5;241m.\u001b[39mstate\u001b[38;5;241m.\u001b[39mbest_model_checkpoint)\n\u001b[1;32m     82\u001b[0m \u001b[38;5;28mprint\u001b[39m(\u001b[38;5;124m'\u001b[39m\u001b[38;5;124m------------------------------------------------------\u001b[39m\u001b[38;5;124m'\u001b[39m)\n",
      "\u001b[0;31mNameError\u001b[0m: name 'trainer' is not defined"
     ]
    }
   ],
   "source": [
    "# Training crashed at fold #1, retrain from checkpoing /kaggle/working/model/train/checkpoint-4506\n",
    "Setting.model_checkpoint = '/kaggle/input/pii-data-with-deberta-v3-small/model/train/checkpoint-4506'\n",
    "print(Setting.model_checkpoint)\n",
    "\n",
    "tokenizer = AutoTokenizer.from_pretrained(Setting.model_checkpoint, add_prefix_space=True)\n",
    "data_collator = DataCollatorForTokenClassification(tokenizer=tokenizer)\n",
    "\n",
    "training_args = TrainingArguments(\n",
    "    output_dir=Setting.model_train,\n",
    "    num_train_epochs=Setting.epochs,\n",
    "    learning_rate=Setting.learning_rate,\n",
    "    lr_scheduler_type=Setting.lr_scheduler_type,\n",
    "    warmup_ratio=Setting.warmup_ratio,\n",
    "    weight_decay=Setting.weight_decay,\n",
    "    gradient_accumulation_steps=Setting.grad_steps,\n",
    "    per_device_train_batch_size=Setting.batch_size,\n",
    "    per_device_eval_batch_size=1,\n",
    "    seed=Setting.seed,\n",
    "    evaluation_strategy=\"epoch\",\n",
    "    save_strategy=\"epoch\",\n",
    "    metric_for_best_model=\"fb-5\",\n",
    "    logging_steps=100,\n",
    "    greater_is_better=True,\n",
    "    load_best_model_at_end=True\n",
    ")\n",
    "\n",
    "for fold_idx, (train_idx, val_idx) in enumerate(folds):\n",
    "    if fold_idx < 1:\n",
    "        # skip fold 0\n",
    "        continue\n",
    "    train_ds = ds.select(train_idx)\n",
    "    val_ds = ds.select(val_idx)\n",
    "    print(f'Fold: {fold_idx}, train_ds: {train_ds.num_rows}, val_ds:  {val_ds.num_rows}')    \n",
    "    tokenized_train_ds = train_ds.map(tokenize_and_align_labels, \n",
    "                                         fn_kwargs={\"tokenizer\": tokenizer, \n",
    "                                                     \"label2id\": Setting.label2id, \n",
    "                                                     \"max_length\": Setting.max_length\n",
    "                                                    }, \n",
    "                                         batched=True)\n",
    "    tokenized_train_ds = tokenized_train_ds.remove_columns(['tokens', 'pii_labels'])\n",
    "    \n",
    "    tokenized_val_ds = val_ds.map(tokenize_and_align_labels, \n",
    "                                     fn_kwargs={\"tokenizer\": tokenizer, \n",
    "                                                 \"label2id\": Setting.label2id, \n",
    "                                                 \"max_length\": Setting.max_length\n",
    "                                                }, \n",
    "                                     batched=True)\n",
    "    tokenized_val_ds = tokenized_val_ds.remove_columns(['tokens', 'pii_labels'])\n",
    "    \n",
    "    print(f'Fold: {fold_idx}, tokenized_train_ds: {tokenized_train_ds.num_rows}, tokenized_val_ds:  {tokenized_val_ds.num_rows}') \n",
    "    \n",
    "    model = AutoModelForTokenClassification.from_pretrained(\n",
    "        Setting.model_checkpoint, \n",
    "        num_labels=Setting.num_labels, \n",
    "        id2label=Setting.id2label, \n",
    "        label2id=Setting.label2id\n",
    "    )\n",
    "\n",
    "    trainer = Trainer(\n",
    "        model=model,\n",
    "        args=training_args,\n",
    "        train_dataset=tokenized_train_ds,\n",
    "        eval_dataset=tokenized_val_ds,\n",
    "        tokenizer=tokenizer,\n",
    "        data_collator=data_collator,\n",
    "        compute_metrics=partial(compute_metrics, id2label=Setting.id2label)\n",
    "    )\n",
    "    \n",
    "    trainer.train()\n",
    "    # set best model checkpoint\n",
    "    Setting.model_checkpoint = trainer.state.best_model_checkpoint\n",
    "    print(Setting.model_checkpoint)\n",
    "    trainer.save_model(Setting.model_final)\n",
    "    tokenizer.save_pretrained(Setting.model_final)\n",
    "\n",
    "    del trainer\n",
    "    gc.collect()\n",
    "    torch.cuda.empty_cache()\n",
    "    time.sleep(5)\n",
    "    shutil.make_archive('model_final', 'zip', Setting.model_final)\n",
    "    shutil.make_archive('best_model_checkpoint', 'zip', ng.model_checkpoint)\n",
    "    print('------------------------------------------------------')"
   ]
  },
  {
   "cell_type": "code",
   "execution_count": 16,
   "metadata": {
    "execution": {
     "iopub.execute_input": "2024-04-22T13:43:46.711548Z",
     "iopub.status.busy": "2024-04-22T13:43:46.710798Z",
     "iopub.status.idle": "2024-04-22T13:45:52.121571Z",
     "shell.execute_reply": "2024-04-22T13:45:52.120368Z",
     "shell.execute_reply.started": "2024-04-22T13:43:46.711517Z"
    }
   },
   "outputs": [
    {
     "data": {
      "text/plain": [
       "'/kaggle/working/checkpoint-4506.zip'"
      ]
     },
     "execution_count": 16,
     "metadata": {},
     "output_type": "execute_result"
    }
   ],
   "source": [
    "shutil.make_archive('model_final_1', 'zip', Setting.model_final)\n",
    "shutil.make_archive('checkpoint-4506', 'zip', Setting.model_checkpoint)"
   ]
  },
  {
   "cell_type": "code",
   "execution_count": 17,
   "metadata": {
    "execution": {
     "iopub.execute_input": "2024-04-22T13:45:52.124005Z",
     "iopub.status.busy": "2024-04-22T13:45:52.123625Z",
     "iopub.status.idle": "2024-04-22T13:45:52.134131Z",
     "shell.execute_reply": "2024-04-22T13:45:52.132968Z",
     "shell.execute_reply.started": "2024-04-22T13:45:52.123969Z"
    }
   },
   "outputs": [
    {
     "name": "stdout",
     "output_type": "stream",
     "text": [
      "/kaggle/working/model/train/checkpoint-4506\n"
     ]
    }
   ],
   "source": [
    "print(Setting.model_checkpoint)"
   ]
  },
  {
   "cell_type": "code",
   "execution_count": 19,
   "metadata": {
    "execution": {
     "iopub.execute_input": "2024-04-22T13:46:07.211458Z",
     "iopub.status.busy": "2024-04-22T13:46:07.211101Z",
     "iopub.status.idle": "2024-04-22T15:01:12.108646Z",
     "shell.execute_reply": "2024-04-22T15:01:12.107206Z",
     "shell.execute_reply.started": "2024-04-22T13:46:07.211424Z"
    }
   },
   "outputs": [
    {
     "name": "stdout",
     "output_type": "stream",
     "text": [
      "Fold: 2, train_ds: 18027, val_ds:  4507\n"
     ]
    },
    {
     "data": {
      "application/vnd.jupyter.widget-view+json": {
       "model_id": "0b0d12529033422cbb66bf3a7d1269e9",
       "version_major": 2,
       "version_minor": 0
      },
      "text/plain": [
       "Map:   0%|          | 0/18027 [00:00<?, ? examples/s]"
      ]
     },
     "metadata": {},
     "output_type": "display_data"
    },
    {
     "data": {
      "application/vnd.jupyter.widget-view+json": {
       "model_id": "aa456ec65751449f948dc857b4bb3ccf",
       "version_major": 2,
       "version_minor": 0
      },
      "text/plain": [
       "Map:   0%|          | 0/4507 [00:00<?, ? examples/s]"
      ]
     },
     "metadata": {},
     "output_type": "display_data"
    },
    {
     "name": "stdout",
     "output_type": "stream",
     "text": [
      "Fold: 2, tokenized_train_ds: 18027, tokenized_val_ds:  4507\n"
     ]
    },
    {
     "name": "stderr",
     "output_type": "stream",
     "text": [
      "/opt/conda/lib/python3.10/site-packages/accelerate/accelerator.py:436: FutureWarning: Passing the following arguments to `Accelerator` is deprecated and will be removed in version 1.0 of Accelerate: dict_keys(['dispatch_batches', 'split_batches', 'even_batches', 'use_seedable_sampler']). Please pass an `accelerate.DataLoaderConfiguration` instead: \n",
      "dataloader_config = DataLoaderConfiguration(dispatch_batches=None, split_batches=False, even_batches=True, use_seedable_sampler=True)\n",
      "  warnings.warn(\n",
      "/opt/conda/lib/python3.10/site-packages/torch/nn/parallel/_functions.py:68: UserWarning: Was asked to gather along dimension 0, but all input tensors were scalars; will instead unsqueeze and return a vector.\n",
      "  warnings.warn('Was asked to gather along dimension 0, but all '\n"
     ]
    },
    {
     "data": {
      "text/html": [
       "\n",
       "    <div>\n",
       "      \n",
       "      <progress value='4506' max='4506' style='width:300px; height:20px; vertical-align: middle;'></progress>\n",
       "      [4506/4506 1:12:46, Epoch 1/2]\n",
       "    </div>\n",
       "    <table border=\"1\" class=\"dataframe\">\n",
       "  <thead>\n",
       " <tr style=\"text-align: left;\">\n",
       "      <th>Epoch</th>\n",
       "      <th>Training Loss</th>\n",
       "      <th>Validation Loss</th>\n",
       "      <th>Precision</th>\n",
       "      <th>Recall</th>\n",
       "      <th>F1</th>\n",
       "      <th>Fb-5</th>\n",
       "    </tr>\n",
       "  </thead>\n",
       "  <tbody>\n",
       "    <tr>\n",
       "      <td>0</td>\n",
       "      <td>0.006900</td>\n",
       "      <td>0.005764</td>\n",
       "      <td>0.969645</td>\n",
       "      <td>0.915381</td>\n",
       "      <td>0.941732</td>\n",
       "      <td>0.917356</td>\n",
       "    </tr>\n",
       "    <tr>\n",
       "      <td>1</td>\n",
       "      <td>0.003100</td>\n",
       "      <td>0.005110</td>\n",
       "      <td>0.960509</td>\n",
       "      <td>0.938333</td>\n",
       "      <td>0.949291</td>\n",
       "      <td>0.939167</td>\n",
       "    </tr>\n",
       "  </tbody>\n",
       "</table><p>"
      ],
      "text/plain": [
       "<IPython.core.display.HTML object>"
      ]
     },
     "metadata": {},
     "output_type": "display_data"
    },
    {
     "name": "stderr",
     "output_type": "stream",
     "text": [
      "/opt/conda/lib/python3.10/site-packages/torch/nn/parallel/_functions.py:68: UserWarning: Was asked to gather along dimension 0, but all input tensors were scalars; will instead unsqueeze and return a vector.\n",
      "  warnings.warn('Was asked to gather along dimension 0, but all '\n"
     ]
    },
    {
     "name": "stdout",
     "output_type": "stream",
     "text": [
      "/kaggle/working/model/train/checkpoint-4506\n"
     ]
    },
    {
     "ename": "NameError",
     "evalue": "name 'ng' is not defined",
     "output_type": "error",
     "traceback": [
      "\u001b[0;31m---------------------------------------------------------------------------\u001b[0m",
      "\u001b[0;31mNameError\u001b[0m                                 Traceback (most recent call last)",
      "Cell \u001b[0;32mIn[19], line 77\u001b[0m\n\u001b[1;32m     75\u001b[0m time\u001b[38;5;241m.\u001b[39msleep(\u001b[38;5;241m5\u001b[39m)\n\u001b[1;32m     76\u001b[0m shutil\u001b[38;5;241m.\u001b[39mmake_archive(\u001b[38;5;124mf\u001b[39m\u001b[38;5;124m'\u001b[39m\u001b[38;5;124mmodel_final_\u001b[39m\u001b[38;5;132;01m{\u001b[39;00mfold_idx\u001b[38;5;132;01m}\u001b[39;00m\u001b[38;5;124m'\u001b[39m, \u001b[38;5;124m'\u001b[39m\u001b[38;5;124mzip\u001b[39m\u001b[38;5;124m'\u001b[39m, Setting\u001b[38;5;241m.\u001b[39mmodel_final)\n\u001b[0;32m---> 77\u001b[0m shutil\u001b[38;5;241m.\u001b[39mmake_archive(\u001b[38;5;124mf\u001b[39m\u001b[38;5;124m'\u001b[39m\u001b[38;5;124mbest_model_checkpoint_\u001b[39m\u001b[38;5;132;01m{\u001b[39;00mfold_idx\u001b[38;5;132;01m}\u001b[39;00m\u001b[38;5;124m'\u001b[39m, \u001b[38;5;124m'\u001b[39m\u001b[38;5;124mzip\u001b[39m\u001b[38;5;124m'\u001b[39m, \u001b[43mng\u001b[49m\u001b[38;5;241m.\u001b[39mmodel_checkpoint)\n\u001b[1;32m     78\u001b[0m \u001b[38;5;28mprint\u001b[39m(\u001b[38;5;124m'\u001b[39m\u001b[38;5;124m------------------------------------------------------\u001b[39m\u001b[38;5;124m'\u001b[39m)\n",
      "\u001b[0;31mNameError\u001b[0m: name 'ng' is not defined"
     ]
    }
   ],
   "source": [
    "tokenizer = AutoTokenizer.from_pretrained(Setting.model_checkpoint, add_prefix_space=True)\n",
    "data_collator = DataCollatorForTokenClassification(tokenizer=tokenizer)\n",
    "\n",
    "training_args = TrainingArguments(\n",
    "    output_dir=Setting.model_train,\n",
    "    num_train_epochs=Setting.epochs,\n",
    "    learning_rate=Setting.learning_rate,\n",
    "    lr_scheduler_type=Setting.lr_scheduler_type,\n",
    "    warmup_ratio=Setting.warmup_ratio,\n",
    "    weight_decay=Setting.weight_decay,\n",
    "    gradient_accumulation_steps=Setting.grad_steps,\n",
    "    per_device_train_batch_size=Setting.batch_size,\n",
    "    per_device_eval_batch_size=1,\n",
    "    seed=Setting.seed,\n",
    "    evaluation_strategy=\"epoch\",\n",
    "    save_strategy=\"epoch\",\n",
    "    metric_for_best_model=\"fb-5\",\n",
    "    logging_steps=100,\n",
    "    greater_is_better=True,\n",
    "    load_best_model_at_end=True\n",
    ")\n",
    "\n",
    "for fold_idx, (train_idx, val_idx) in enumerate(folds):\n",
    "    if fold_idx < 2:\n",
    "        # skip fold 0 and 1\n",
    "        continue\n",
    "    train_ds = ds.select(train_idx)\n",
    "    val_ds = ds.select(val_idx)\n",
    "    print(f'Fold: {fold_idx}, train_ds: {train_ds.num_rows}, val_ds:  {val_ds.num_rows}')    \n",
    "    tokenized_train_ds = train_ds.map(tokenize_and_align_labels, \n",
    "                                         fn_kwargs={\"tokenizer\": tokenizer, \n",
    "                                                     \"label2id\": Setting.label2id, \n",
    "                                                     \"max_length\": Setting.max_length\n",
    "                                                    }, \n",
    "                                         batched=True)\n",
    "    tokenized_train_ds = tokenized_train_ds.remove_columns(['tokens', 'pii_labels'])\n",
    "    \n",
    "    tokenized_val_ds = val_ds.map(tokenize_and_align_labels, \n",
    "                                     fn_kwargs={\"tokenizer\": tokenizer, \n",
    "                                                 \"label2id\": Setting.label2id, \n",
    "                                                 \"max_length\": Setting.max_length\n",
    "                                                }, \n",
    "                                     batched=True)\n",
    "    tokenized_val_ds = tokenized_val_ds.remove_columns(['tokens', 'pii_labels'])\n",
    "    \n",
    "    print(f'Fold: {fold_idx}, tokenized_train_ds: {tokenized_train_ds.num_rows}, tokenized_val_ds:  {tokenized_val_ds.num_rows}') \n",
    "    \n",
    "    model = AutoModelForTokenClassification.from_pretrained(\n",
    "        Setting.model_checkpoint, \n",
    "        num_labels=Setting.num_labels, \n",
    "        id2label=Setting.id2label, \n",
    "        label2id=Setting.label2id\n",
    "    )\n",
    "\n",
    "    trainer = Trainer(\n",
    "        model=model,\n",
    "        args=training_args,\n",
    "        train_dataset=tokenized_train_ds,\n",
    "        eval_dataset=tokenized_val_ds,\n",
    "        tokenizer=tokenizer,\n",
    "        data_collator=data_collator,\n",
    "        compute_metrics=partial(compute_metrics, id2label=Setting.id2label)\n",
    "    )\n",
    "    \n",
    "    trainer.train()\n",
    "    # set best model checkpoint\n",
    "    Setting.model_checkpoint = trainer.state.best_model_checkpoint\n",
    "    print(Setting.model_checkpoint)\n",
    "    trainer.save_model(Setting.model_final)\n",
    "    tokenizer.save_pretrained(Setting.model_final)\n",
    "\n",
    "    del trainer\n",
    "    gc.collect()\n",
    "    torch.cuda.empty_cache()\n",
    "    time.sleep(5)\n",
    "    shutil.make_archive(f'model_final_{fold_idx}', 'zip', Setting.model_final)\n",
    "    shutil.make_archive(f'best_model_checkpoint_{fold_idx}', 'zip', Setting.model_checkpoint)\n",
    "    print('------------------------------------------------------')"
   ]
  },
  {
   "cell_type": "code",
   "execution_count": 20,
   "metadata": {
    "execution": {
     "iopub.execute_input": "2024-04-22T15:06:15.914848Z",
     "iopub.status.busy": "2024-04-22T15:06:15.913972Z",
     "iopub.status.idle": "2024-04-22T17:38:55.931381Z",
     "shell.execute_reply": "2024-04-22T17:38:55.930366Z",
     "shell.execute_reply.started": "2024-04-22T15:06:15.914805Z"
    }
   },
   "outputs": [
    {
     "name": "stdout",
     "output_type": "stream",
     "text": [
      "Fold: 3, train_ds: 18027, val_ds:  4507\n"
     ]
    },
    {
     "data": {
      "application/vnd.jupyter.widget-view+json": {
       "model_id": "587821b62aeb42a284901071b8e075b7",
       "version_major": 2,
       "version_minor": 0
      },
      "text/plain": [
       "Map:   0%|          | 0/18027 [00:00<?, ? examples/s]"
      ]
     },
     "metadata": {},
     "output_type": "display_data"
    },
    {
     "data": {
      "application/vnd.jupyter.widget-view+json": {
       "model_id": "7b33c805a0a645ac8051e66ae33701e6",
       "version_major": 2,
       "version_minor": 0
      },
      "text/plain": [
       "Map:   0%|          | 0/4507 [00:00<?, ? examples/s]"
      ]
     },
     "metadata": {},
     "output_type": "display_data"
    },
    {
     "name": "stdout",
     "output_type": "stream",
     "text": [
      "Fold: 3, tokenized_train_ds: 18027, tokenized_val_ds:  4507\n"
     ]
    },
    {
     "name": "stderr",
     "output_type": "stream",
     "text": [
      "/opt/conda/lib/python3.10/site-packages/accelerate/accelerator.py:436: FutureWarning: Passing the following arguments to `Accelerator` is deprecated and will be removed in version 1.0 of Accelerate: dict_keys(['dispatch_batches', 'split_batches', 'even_batches', 'use_seedable_sampler']). Please pass an `accelerate.DataLoaderConfiguration` instead: \n",
      "dataloader_config = DataLoaderConfiguration(dispatch_batches=None, split_batches=False, even_batches=True, use_seedable_sampler=True)\n",
      "  warnings.warn(\n",
      "/opt/conda/lib/python3.10/site-packages/torch/nn/parallel/_functions.py:68: UserWarning: Was asked to gather along dimension 0, but all input tensors were scalars; will instead unsqueeze and return a vector.\n",
      "  warnings.warn('Was asked to gather along dimension 0, but all '\n"
     ]
    },
    {
     "data": {
      "text/html": [
       "\n",
       "    <div>\n",
       "      \n",
       "      <progress value='4506' max='4506' style='width:300px; height:20px; vertical-align: middle;'></progress>\n",
       "      [4506/4506 1:12:42, Epoch 1/2]\n",
       "    </div>\n",
       "    <table border=\"1\" class=\"dataframe\">\n",
       "  <thead>\n",
       " <tr style=\"text-align: left;\">\n",
       "      <th>Epoch</th>\n",
       "      <th>Training Loss</th>\n",
       "      <th>Validation Loss</th>\n",
       "      <th>Precision</th>\n",
       "      <th>Recall</th>\n",
       "      <th>F1</th>\n",
       "      <th>Fb-5</th>\n",
       "    </tr>\n",
       "  </thead>\n",
       "  <tbody>\n",
       "    <tr>\n",
       "      <td>0</td>\n",
       "      <td>0.004600</td>\n",
       "      <td>0.004575</td>\n",
       "      <td>0.969520</td>\n",
       "      <td>0.932434</td>\n",
       "      <td>0.950615</td>\n",
       "      <td>0.933808</td>\n",
       "    </tr>\n",
       "    <tr>\n",
       "      <td>1</td>\n",
       "      <td>0.002900</td>\n",
       "      <td>0.003831</td>\n",
       "      <td>0.968108</td>\n",
       "      <td>0.943906</td>\n",
       "      <td>0.955854</td>\n",
       "      <td>0.944814</td>\n",
       "    </tr>\n",
       "  </tbody>\n",
       "</table><p>"
      ],
      "text/plain": [
       "<IPython.core.display.HTML object>"
      ]
     },
     "metadata": {},
     "output_type": "display_data"
    },
    {
     "name": "stderr",
     "output_type": "stream",
     "text": [
      "/opt/conda/lib/python3.10/site-packages/torch/nn/parallel/_functions.py:68: UserWarning: Was asked to gather along dimension 0, but all input tensors were scalars; will instead unsqueeze and return a vector.\n",
      "  warnings.warn('Was asked to gather along dimension 0, but all '\n"
     ]
    },
    {
     "name": "stdout",
     "output_type": "stream",
     "text": [
      "/kaggle/working/model/train/checkpoint-4506\n",
      "------------------------------------------------------\n",
      "Fold: 4, train_ds: 18028, val_ds:  4506\n"
     ]
    },
    {
     "data": {
      "application/vnd.jupyter.widget-view+json": {
       "model_id": "ffd48086c77941068ea2352fac0b0a02",
       "version_major": 2,
       "version_minor": 0
      },
      "text/plain": [
       "Map:   0%|          | 0/18028 [00:00<?, ? examples/s]"
      ]
     },
     "metadata": {},
     "output_type": "display_data"
    },
    {
     "data": {
      "application/vnd.jupyter.widget-view+json": {
       "model_id": "864fcc7316754b0daa598da58886de38",
       "version_major": 2,
       "version_minor": 0
      },
      "text/plain": [
       "Map:   0%|          | 0/4506 [00:00<?, ? examples/s]"
      ]
     },
     "metadata": {},
     "output_type": "display_data"
    },
    {
     "name": "stdout",
     "output_type": "stream",
     "text": [
      "Fold: 4, tokenized_train_ds: 18028, tokenized_val_ds:  4506\n"
     ]
    },
    {
     "name": "stderr",
     "output_type": "stream",
     "text": [
      "/opt/conda/lib/python3.10/site-packages/accelerate/accelerator.py:436: FutureWarning: Passing the following arguments to `Accelerator` is deprecated and will be removed in version 1.0 of Accelerate: dict_keys(['dispatch_batches', 'split_batches', 'even_batches', 'use_seedable_sampler']). Please pass an `accelerate.DataLoaderConfiguration` instead: \n",
      "dataloader_config = DataLoaderConfiguration(dispatch_batches=None, split_batches=False, even_batches=True, use_seedable_sampler=True)\n",
      "  warnings.warn(\n",
      "/opt/conda/lib/python3.10/site-packages/torch/nn/parallel/_functions.py:68: UserWarning: Was asked to gather along dimension 0, but all input tensors were scalars; will instead unsqueeze and return a vector.\n",
      "  warnings.warn('Was asked to gather along dimension 0, but all '\n"
     ]
    },
    {
     "data": {
      "text/html": [
       "\n",
       "    <div>\n",
       "      \n",
       "      <progress value='4506' max='4506' style='width:300px; height:20px; vertical-align: middle;'></progress>\n",
       "      [4506/4506 1:12:47, Epoch 1/2]\n",
       "    </div>\n",
       "    <table border=\"1\" class=\"dataframe\">\n",
       "  <thead>\n",
       " <tr style=\"text-align: left;\">\n",
       "      <th>Epoch</th>\n",
       "      <th>Training Loss</th>\n",
       "      <th>Validation Loss</th>\n",
       "      <th>Precision</th>\n",
       "      <th>Recall</th>\n",
       "      <th>F1</th>\n",
       "      <th>Fb-5</th>\n",
       "    </tr>\n",
       "  </thead>\n",
       "  <tbody>\n",
       "    <tr>\n",
       "      <td>0</td>\n",
       "      <td>0.003600</td>\n",
       "      <td>0.004316</td>\n",
       "      <td>0.936411</td>\n",
       "      <td>0.970269</td>\n",
       "      <td>0.953039</td>\n",
       "      <td>0.968921</td>\n",
       "    </tr>\n",
       "    <tr>\n",
       "      <td>1</td>\n",
       "      <td>0.002900</td>\n",
       "      <td>0.003076</td>\n",
       "      <td>0.974843</td>\n",
       "      <td>0.956807</td>\n",
       "      <td>0.965741</td>\n",
       "      <td>0.957488</td>\n",
       "    </tr>\n",
       "  </tbody>\n",
       "</table><p>"
      ],
      "text/plain": [
       "<IPython.core.display.HTML object>"
      ]
     },
     "metadata": {},
     "output_type": "display_data"
    },
    {
     "name": "stderr",
     "output_type": "stream",
     "text": [
      "/opt/conda/lib/python3.10/site-packages/torch/nn/parallel/_functions.py:68: UserWarning: Was asked to gather along dimension 0, but all input tensors were scalars; will instead unsqueeze and return a vector.\n",
      "  warnings.warn('Was asked to gather along dimension 0, but all '\n"
     ]
    },
    {
     "name": "stdout",
     "output_type": "stream",
     "text": [
      "/kaggle/working/model/train/checkpoint-2253\n",
      "------------------------------------------------------\n"
     ]
    }
   ],
   "source": [
    "tokenizer = AutoTokenizer.from_pretrained(Setting.model_checkpoint, add_prefix_space=True)\n",
    "data_collator = DataCollatorForTokenClassification(tokenizer=tokenizer)\n",
    "\n",
    "training_args = TrainingArguments(\n",
    "    output_dir=Setting.model_train,\n",
    "    num_train_epochs=Setting.epochs,\n",
    "    learning_rate=Setting.learning_rate,\n",
    "    lr_scheduler_type=Setting.lr_scheduler_type,\n",
    "    warmup_ratio=Setting.warmup_ratio,\n",
    "    weight_decay=Setting.weight_decay,\n",
    "    gradient_accumulation_steps=Setting.grad_steps,\n",
    "    per_device_train_batch_size=Setting.batch_size,\n",
    "    per_device_eval_batch_size=1,\n",
    "    seed=Setting.seed,\n",
    "    evaluation_strategy=\"epoch\",\n",
    "    save_strategy=\"epoch\",\n",
    "    metric_for_best_model=\"fb-5\",\n",
    "    logging_steps=100,\n",
    "    greater_is_better=True,\n",
    "    load_best_model_at_end=True\n",
    ")\n",
    "\n",
    "for fold_idx, (train_idx, val_idx) in enumerate(folds):\n",
    "    if fold_idx < 3:\n",
    "        # skip fold 0 to 2\n",
    "        continue\n",
    "    train_ds = ds.select(train_idx)\n",
    "    val_ds = ds.select(val_idx)\n",
    "    print(f'Fold: {fold_idx}, train_ds: {train_ds.num_rows}, val_ds:  {val_ds.num_rows}')    \n",
    "    tokenized_train_ds = train_ds.map(tokenize_and_align_labels, \n",
    "                                         fn_kwargs={\"tokenizer\": tokenizer, \n",
    "                                                     \"label2id\": Setting.label2id, \n",
    "                                                     \"max_length\": Setting.max_length\n",
    "                                                    }, \n",
    "                                         batched=True)\n",
    "    tokenized_train_ds = tokenized_train_ds.remove_columns(['tokens', 'pii_labels'])\n",
    "    \n",
    "    tokenized_val_ds = val_ds.map(tokenize_and_align_labels, \n",
    "                                     fn_kwargs={\"tokenizer\": tokenizer, \n",
    "                                                 \"label2id\": Setting.label2id, \n",
    "                                                 \"max_length\": Setting.max_length\n",
    "                                                }, \n",
    "                                     batched=True)\n",
    "    tokenized_val_ds = tokenized_val_ds.remove_columns(['tokens', 'pii_labels'])\n",
    "    \n",
    "    print(f'Fold: {fold_idx}, tokenized_train_ds: {tokenized_train_ds.num_rows}, tokenized_val_ds:  {tokenized_val_ds.num_rows}') \n",
    "    \n",
    "    model = AutoModelForTokenClassification.from_pretrained(\n",
    "        Setting.model_checkpoint, \n",
    "        num_labels=Setting.num_labels, \n",
    "        id2label=Setting.id2label, \n",
    "        label2id=Setting.label2id\n",
    "    )\n",
    "\n",
    "    trainer = Trainer(\n",
    "        model=model,\n",
    "        args=training_args,\n",
    "        train_dataset=tokenized_train_ds,\n",
    "        eval_dataset=tokenized_val_ds,\n",
    "        tokenizer=tokenizer,\n",
    "        data_collator=data_collator,\n",
    "        compute_metrics=partial(compute_metrics, id2label=Setting.id2label)\n",
    "    )\n",
    "    \n",
    "    trainer.train()\n",
    "    # set best model checkpoint\n",
    "    Setting.model_checkpoint = trainer.state.best_model_checkpoint\n",
    "    print(Setting.model_checkpoint)\n",
    "    trainer.save_model(Setting.model_final)\n",
    "    tokenizer.save_pretrained(Setting.model_final)\n",
    "\n",
    "    del trainer\n",
    "    gc.collect()\n",
    "    torch.cuda.empty_cache()\n",
    "    time.sleep(5)\n",
    "    shutil.make_archive(f'model_final_{fold_idx}', 'zip', Setting.model_final)\n",
    "    shutil.make_archive(f'best_model_checkpoint_{fold_idx}', 'zip', Setting.model_checkpoint)\n",
    "    print('------------------------------------------------------')"
   ]
  }
 ],
 "metadata": {
  "kaggle": {
   "accelerator": "nvidiaTeslaT4",
   "dataSources": [
    {
     "datasetId": 4843115,
     "sourceId": 8180467,
     "sourceType": "datasetVersion"
    },
    {
     "datasetId": 4843126,
     "sourceId": 8180483,
     "sourceType": "datasetVersion"
    },
    {
     "datasetId": 4843137,
     "sourceId": 8180504,
     "sourceType": "datasetVersion"
    },
    {
     "datasetId": 4843155,
     "sourceId": 8180531,
     "sourceType": "datasetVersion"
    },
    {
     "datasetId": 4843171,
     "sourceId": 8180557,
     "sourceType": "datasetVersion"
    },
    {
     "sourceId": 173312449,
     "sourceType": "kernelVersion"
    }
   ],
   "dockerImageVersionId": 30698,
   "isGpuEnabled": true,
   "isInternetEnabled": true,
   "language": "python",
   "sourceType": "notebook"
  },
  "kernelspec": {
   "display_name": "Python 3 (ipykernel)",
   "language": "python",
   "name": "python3"
  },
  "language_info": {
   "codemirror_mode": {
    "name": "ipython",
    "version": 3
   },
   "file_extension": ".py",
   "mimetype": "text/x-python",
   "name": "python",
   "nbconvert_exporter": "python",
   "pygments_lexer": "ipython3",
   "version": "3.10.10"
  }
 },
 "nbformat": 4,
 "nbformat_minor": 4
}
