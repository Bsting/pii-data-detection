{
 "cells": [
  {
   "cell_type": "markdown",
   "id": "9cbc21eb-9562-4364-b3bf-7daef4787f4c",
   "metadata": {},
   "source": [
    "### V7: Fine-Tune DistilBERT \n",
    "- Train Data\n",
    "- Stride 64\n",
    "- Down Sampling 'O' Label 0.30\n",
    "- External Dataset\n",
    "- Evaluation Metric F-Beta5\n",
    "- Cross Validation\n",
    "\n",
    "Trained on local machine with RTX 3050 x1\n",
    "\n",
    "Leaderboard \n",
    "- Public Score: 0.892\n",
    "- Private Score: 0.895"
   ]
  },
  {
   "cell_type": "code",
   "execution_count": 1,
   "id": "c0605b11-2d95-4de5-9b44-007a23388cdd",
   "metadata": {},
   "outputs": [],
   "source": [
    "import gc\n",
    "import matplotlib.pyplot as plt\n",
    "import numpy as np\n",
    "import os\n",
    "import pandas as pd\n",
    "import seaborn as sns\n",
    "import torch\n",
    "\n",
    "from datasets import Dataset\n",
    "from functools import partial\n",
    "from seqeval.metrics import accuracy_score, classification_report\n",
    "from transformers import AutoTokenizer\n",
    "from transformers import DataCollatorForTokenClassification\n",
    "from transformers import AutoModelForTokenClassification, TrainingArguments, Trainer\n",
    "from tqdm import tqdm"
   ]
  },
  {
   "cell_type": "code",
   "execution_count": 2,
   "id": "3bf2ea24-ff74-4da6-a057-fb8bf9ebb5eb",
   "metadata": {},
   "outputs": [],
   "source": [
    "class Setting:\n",
    "    seed = 42\n",
    "    \n",
    "    # data\n",
    "    data_train = \"./data/pii-detection-removal-from-educational-data/train.json\"\n",
    "    data_nbroad = \"./data/pii-dd-mistral-generated/mixtral-8x7b-v1.json\"\n",
    "    data_valentinwerner = \"./data/pii-label-specific-data/all_labels.json\"\n",
    "    data_alejopaulier = \"./data/fix-punctuation-tokenization-external-dataset/pii_dataset_fixed.json\"\n",
    "    data_pjmathematician = \"./data/fix-punctuation-tokenization-external-dataset/moredata_dataset_fixed.json\"\n",
    "    data_minhsienweng = \"./data/ai-generated-text-dataset/pii_dataset_Gemma.json\"\n",
    "    data_mandrilator = \"./data/pii-mistral-2k-fit-competition-v2/all_labels.json\"\n",
    "    down_sample_ratio = 0.30\n",
    "    n_split = 5\n",
    "    \n",
    "    # model\n",
    "    model_checkpoint = \"./model/distilbert/distilbert-base-uncased\"\n",
    "    model_train = './model/v7/train'\n",
    "    model_final = './model/v7/final'\n",
    "    max_length = 512\n",
    "    stride = 64\n",
    "    \n",
    "    # hyperparameter\n",
    "    epochs = 2\n",
    "    learning_rate = 3e-5\n",
    "    warmup_ratio = 0.1\n",
    "    lr_scheduler_type='cosine'\n",
    "    weight_decay = 0.01\n",
    "    grad_steps = 2\n",
    "    batch_size = 8\n",
    "    \n",
    "    # PII (NER) tags\n",
    "    labels = [\"B-EMAIL\", \"B-ID_NUM\", \"B-NAME_STUDENT\", \"B-PHONE_NUM\",\n",
    "              \"B-STREET_ADDRESS\", \"B-URL_PERSONAL\", \"B-USERNAME\",\n",
    "              \"I-ID_NUM\", \"I-NAME_STUDENT\", \"I-PHONE_NUM\",\n",
    "              \"I-STREET_ADDRESS\",\"I-URL_PERSONAL\",\"O\"]\n",
    "    id2label = dict(enumerate(labels)) # integer label to BIO format label mapping\n",
    "    label2id = {v:k for k,v in id2label.items()} # BIO format label to integer label mapping\n",
    "    num_labels = len(labels) # number of PII (NER) tags"
   ]
  },
  {
   "cell_type": "code",
   "execution_count": 3,
   "id": "fca3b6d9-d35f-40e8-b1b5-da42f45a08d3",
   "metadata": {},
   "outputs": [
    {
     "data": {
      "text/plain": [
       "<torch._C.Generator at 0x257d268db90>"
      ]
     },
     "execution_count": 3,
     "metadata": {},
     "output_type": "execute_result"
    }
   ],
   "source": [
    "np.random.seed(Setting.seed)\n",
    "torch.manual_seed(Setting.seed)"
   ]
  },
  {
   "cell_type": "code",
   "execution_count": 4,
   "id": "ff978023-b5f3-4c84-8101-a45f2d55216e",
   "metadata": {},
   "outputs": [
    {
     "name": "stdout",
     "output_type": "stream",
     "text": [
      "<class 'pandas.core.frame.DataFrame'>\n",
      "RangeIndex: 27442 entries, 0 to 27441\n",
      "Data columns (total 2 columns):\n",
      " #   Column      Non-Null Count  Dtype \n",
      "---  ------      --------------  ----- \n",
      " 0   tokens      27442 non-null  object\n",
      " 1   pii_labels  27442 non-null  object\n",
      "dtypes: object(2)\n",
      "memory usage: 428.9+ KB\n"
     ]
    }
   ],
   "source": [
    "# read and combine all dataset\n",
    "df_train = pd.read_json(Setting.data_train)\n",
    "df_nbroad = pd.read_json(Setting.data_nbroad)\n",
    "df_valentinwerner = pd.read_json(Setting.data_valentinwerner)\n",
    "df_alejopaulier = pd.read_json(Setting.data_alejopaulier)\n",
    "df_pjmathematician = pd.read_json(Setting.data_pjmathematician)\n",
    "df_minhsienweng = pd.read_json(Setting.data_minhsienweng)\n",
    "df_mandrilator = pd.read_json(Setting.data_mandrilator)\n",
    "\n",
    "features = ['tokens', 'labels']\n",
    "df = pd.concat([df_train[features], \n",
    "                   df_nbroad[features], \n",
    "                   df_valentinwerner[features], \n",
    "                   df_alejopaulier[features], \n",
    "                   df_pjmathematician[features],\n",
    "                   df_minhsienweng[features],\n",
    "                   df_mandrilator[features]],\n",
    "                   ignore_index=True)\n",
    "\n",
    "df = df[['tokens', 'labels']]\n",
    "df.rename(columns={\"labels\": \"pii_labels\"}, inplace=True)\n",
    "df.info()"
   ]
  },
  {
   "cell_type": "code",
   "execution_count": 5,
   "id": "a85c7a51-f38b-4261-9f73-13f24a3115c9",
   "metadata": {},
   "outputs": [],
   "source": [
    "def plot_bar_chart(data, target_column, title, xlabel, ylabel):\n",
    "    target = data[target_column].value_counts(sort=False).reset_index(name='total')\n",
    "    ax = sns.barplot(\n",
    "        data=target,\n",
    "        y='total',\n",
    "        x=target_column, \n",
    "        hue=target_column,\n",
    "        palette='cool',\n",
    "        estimator=lambda x: sum(x)*100.00/target['total'].sum())\n",
    "    plt.tight_layout()\n",
    "    plt.xlabel(xlabel, fontdict={'weight': 'bold'})\n",
    "    plt.ylabel(ylabel, fontdict={'weight': 'bold'})\n",
    "    plt.title(title)\n",
    "    plt.xticks(rotation=0)\n",
    "    plt.tick_params(axis='both', which='major', labelsize=9)\n",
    "    # show percentage on bar for first 3 bars\n",
    "    for index, row in target.iterrows():\n",
    "        y = row.total*100.00/target['total'].sum()\n",
    "        ax.text(row.name, y + 0.15, f'{y:.2f}%', fontsize=9)        \n",
    "    ax.get_legend().remove()\n",
    "    plt.show()\n",
    "\n",
    "def down_sample(df, down_sample_ratio, seed):\n",
    "    df['non_pii_entity_only'] = df['pii_labels'].apply(lambda x: sum(label=='O' for label in x)==len(x))\n",
    "    \n",
    "    df_non_pii_entity_only = df[df['non_pii_entity_only']].sample(frac=down_sample_ratio, random_state=seed)\n",
    "    df_with_pii_entity = df[~df['non_pii_entity_only']]\n",
    "    df = pd.concat([df_with_pii_entity, df_non_pii_entity_only])\n",
    "    \n",
    "    plot_bar_chart(df, 'non_pii_entity_only', \"% of Documents with Non-PII Entity ('O' Label) Only\", \"Non-PII Entity\", \"Percentage\")\n",
    "    print(df['non_pii_entity_only'].value_counts())\n",
    "    \n",
    "    df.drop(columns=['non_pii_entity_only'], inplace=True)\n",
    "    return df"
   ]
  },
  {
   "cell_type": "code",
   "execution_count": 6,
   "id": "1f60d164-3719-4b4c-beb8-9e38c71473c4",
   "metadata": {},
   "outputs": [
    {
     "data": {
      "image/png": "[encoded data removed]",
      "text/plain": [
       "<Figure size 640x480 with 1 Axes>"
      ]
     },
     "metadata": {},
     "output_type": "display_data"
    },
    {
     "name": "stdout",
     "output_type": "stream",
     "text": [
      "non_pii_entity_only\n",
      "False    20430\n",
      "True      2104\n",
      "Name: count, dtype: int64\n",
      "<class 'pandas.core.frame.DataFrame'>\n",
      "Index: 22534 entries, 0 to 23091\n",
      "Data columns (total 2 columns):\n",
      " #   Column      Non-Null Count  Dtype \n",
      "---  ------      --------------  ----- \n",
      " 0   tokens      22534 non-null  object\n",
      " 1   pii_labels  22534 non-null  object\n",
      "dtypes: object(2)\n",
      "memory usage: 528.1+ KB\n"
     ]
    }
   ],
   "source": [
    "df = down_sample(df, Setting.down_sample_ratio, Setting.seed)\n",
    "df.info()"
   ]
  },
  {
   "cell_type": "code",
   "execution_count": 7,
   "id": "fbc40957-3e29-4c84-a091-c059510a9652",
   "metadata": {},
   "outputs": [
    {
     "data": {
      "text/plain": [
       "Dataset({\n",
       "    features: ['tokens', 'pii_labels', '__index_level_0__'],\n",
       "    num_rows: 22534\n",
       "})"
      ]
     },
     "execution_count": 7,
     "metadata": {},
     "output_type": "execute_result"
    }
   ],
   "source": [
    "ds = Dataset.from_pandas(df)\n",
    "ds"
   ]
  },
  {
   "cell_type": "code",
   "execution_count": 8,
   "id": "75f2ba8c-229a-460a-9c16-d31829fa028b",
   "metadata": {},
   "outputs": [],
   "source": [
    "def tokenize_and_align_labels(example, tokenizer, label2id, max_length, stride):\n",
    "    tokenized_inputs = tokenizer(example[\"tokens\"], \n",
    "                                 truncation=True,\n",
    "                                 max_length=max_length,                                  \n",
    "                                 stride=stride, \n",
    "                                 padding=\"max_length\", \n",
    "                                 is_split_into_words=True,\n",
    "                                 return_overflowing_tokens=True)\n",
    "    tokenized_overflow_mappings = tokenized_inputs.overflow_to_sample_mapping\n",
    "    labels = []\n",
    "    #print(len(example[\"tokens\"]), len(tokenized_overflow_mappings))\n",
    "    for idx, overflow_mapping_id in enumerate(tokenized_overflow_mappings):\n",
    "        label_ids = []\n",
    "        previous_word_idx = None\n",
    "        word_ids = tokenized_inputs.word_ids(batch_index=idx) # map tokens to their respective words\n",
    "        label = example[\"pii_labels\"]\n",
    "        # using the overflow_mapping_id\n",
    "        for word_idx in word_ids:  # Set the special tokens to -100.\n",
    "            if word_idx is None:\n",
    "                label_ids.append(-100)\n",
    "            elif word_idx != previous_word_idx:  # Only label the first token of a given word.\n",
    "                label_ids.append(label2id[label[word_idx]])\n",
    "            else:\n",
    "                label_ids.append(-100)\n",
    "            previous_word_idx = word_idx\n",
    "        labels.append(label_ids)\n",
    "\n",
    "    tokenized_inputs[\"labels\"] = labels\n",
    "    return tokenized_inputs"
   ]
  },
  {
   "cell_type": "code",
   "execution_count": 9,
   "id": "0f20c876-04dd-482a-a911-7254e0a00b70",
   "metadata": {},
   "outputs": [],
   "source": [
    "def rearrange_tokenized_input(dataset):\n",
    "    # rearrange tokenized data to model input format\n",
    "    tokenized = {   \n",
    "        \"input_ids\": [],\n",
    "        \"labels\": [],\n",
    "        \"attention_mask\": [],       \n",
    "    }\n",
    "    #for i in tqdm(range(len(dataset))):\n",
    "    for i in range(len(dataset)):\n",
    "        doc = dataset[i]\n",
    "        for j in range(len(doc[\"input_ids\"])):\n",
    "            tokenized[\"input_ids\"].append(doc[\"input_ids\"][j])\n",
    "            tokenized[\"labels\"].append(doc[\"labels\"][j])\n",
    "            tokenized[\"attention_mask\"].append(doc[\"attention_mask\"][j])\n",
    "    return tokenized"
   ]
  },
  {
   "attachments": {
    "05030abc-336a-464a-b560-1f241a978c62.png": {
     "image/png": "[encoded data removed]"
    }
   },
   "cell_type": "markdown",
   "id": "203ace45-998e-4a13-9fd3-687fd75a0fc6",
   "metadata": {},
   "source": [
    "![image.png](attachment:05030abc-336a-464a-b560-1f241a978c62.png)\n",
    "- The value of β is set to 5, which means that recall is weighted 5 times more heavily than precision."
   ]
  },
  {
   "cell_type": "code",
   "execution_count": 10,
   "id": "760c4a41-e297-447f-92ff-2ec24176f783",
   "metadata": {},
   "outputs": [],
   "source": [
    "def compute_metrics(p, id2label):\n",
    "    predictions, labels = p\n",
    "    predictions = np.argmax(predictions, axis=2)\n",
    "\n",
    "    true_predictions = [\n",
    "        [id2label[p] for (p, l) in zip(prediction, label) if l != -100]\n",
    "        for prediction, label in zip(predictions, labels)\n",
    "    ]\n",
    "    true_labels = [\n",
    "        [id2label[l] for (p, l) in zip(prediction, label) if l != -100]\n",
    "        for prediction, label in zip(predictions, labels)\n",
    "    ]\n",
    "    \n",
    "    report = classification_report(y_true=true_labels, y_pred=true_predictions, output_dict=True)\n",
    "    micro_avg = report.pop(\"micro avg\")    \n",
    "    \n",
    "    precision = micro_avg[\"precision\"]\n",
    "    recall = micro_avg[\"recall\"]\n",
    "    beta = 5\n",
    "    fbeta = ((1+(beta**2))*precision*recall) / ((beta**2)*precision + recall)\n",
    "    \n",
    "    return {\n",
    "        \"precision\": precision,\n",
    "        \"recall\": recall,\n",
    "        \"f1\": micro_avg[\"f1-score\"],\n",
    "        \"fb-5\": fbeta\n",
    "    }"
   ]
  },
  {
   "cell_type": "code",
   "execution_count": 11,
   "id": "f2b69870-e8e6-4c1e-8077-cb04dbc3b5be",
   "metadata": {},
   "outputs": [
    {
     "name": "stderr",
     "output_type": "stream",
     "text": [
      "100%|████████████████████████████████████████████████████████████████████████████████████| 5/5 [01:30<00:00, 18.06s/it]\n"
     ]
    }
   ],
   "source": [
    "folds = [\n",
    "    (\n",
    "        np.array([i for i, d in enumerate(ds[\"pii_labels\"]) if i % Setting.n_split != s]),\n",
    "        np.array([i for i, d in enumerate(ds[\"pii_labels\"]) if i % Setting.n_split == s])\n",
    "    )\n",
    "    for s in tqdm(range(Setting.n_split))\n",
    "]"
   ]
  },
  {
   "cell_type": "code",
   "execution_count": 12,
   "id": "7e9ff12e-8a75-4fc9-96ce-b505584197a4",
   "metadata": {},
   "outputs": [
    {
     "name": "stdout",
     "output_type": "stream",
     "text": [
      "Fold: 0, train_ds: 18027, val_ds:  4507\n"
     ]
    },
    {
     "data": {
      "application/vnd.jupyter.widget-view+json": {
       "model_id": "2210e2e4fdbe47959c936936bd91acaa",
       "version_major": 2,
       "version_minor": 0
      },
      "text/plain": [
       "Map (num_proc=12):   0%|          | 0/18027 [00:00<?, ? examples/s]"
      ]
     },
     "metadata": {},
     "output_type": "display_data"
    },
    {
     "data": {
      "application/vnd.jupyter.widget-view+json": {
       "model_id": "f1e115b9a8cd4f76b6020b1243095b85",
       "version_major": 2,
       "version_minor": 0
      },
      "text/plain": [
       "Map (num_proc=12):   0%|          | 0/4507 [00:00<?, ? examples/s]"
      ]
     },
     "metadata": {},
     "output_type": "display_data"
    },
    {
     "name": "stdout",
     "output_type": "stream",
     "text": [
      "Fold: 0, tokenized_train_ds: 27580, tokenized_val_ds:  6887\n"
     ]
    },
    {
     "name": "stderr",
     "output_type": "stream",
     "text": [
      "Some weights of DistilBertForTokenClassification were not initialized from the model checkpoint at ./model/distilbert/distilbert-base-uncased and are newly initialized: ['classifier.bias', 'classifier.weight']\n",
      "You should probably TRAIN this model on a down-stream task to be able to use it for predictions and inference.\n",
      "D:\\program\\anaconda\\envs\\fws-dell\\lib\\site-packages\\accelerate\\accelerator.py:436: FutureWarning: Passing the following arguments to `Accelerator` is deprecated and will be removed in version 1.0 of Accelerate: dict_keys(['dispatch_batches', 'split_batches', 'even_batches', 'use_seedable_sampler']). Please pass an `accelerate.DataLoaderConfiguration` instead: \n",
      "dataloader_config = DataLoaderConfiguration(dispatch_batches=None, split_batches=False, even_batches=True, use_seedable_sampler=True)\n",
      "  warnings.warn(\n"
     ]
    },
    {
     "data": {
      "text/html": [
       "\n",
       "    <div>\n",
       "      \n",
       "      <progress value='3448' max='3448' style='width:300px; height:20px; vertical-align: middle;'></progress>\n",
       "      [3448/3448 1:15:57, Epoch 2/2]\n",
       "    </div>\n",
       "    <table border=\"1\" class=\"dataframe\">\n",
       "  <thead>\n",
       " <tr style=\"text-align: left;\">\n",
       "      <th>Epoch</th>\n",
       "      <th>Training Loss</th>\n",
       "      <th>Validation Loss</th>\n",
       "      <th>Precision</th>\n",
       "      <th>Recall</th>\n",
       "      <th>F1</th>\n",
       "      <th>Fb-5</th>\n",
       "    </tr>\n",
       "  </thead>\n",
       "  <tbody>\n",
       "    <tr>\n",
       "      <td>1</td>\n",
       "      <td>0.011800</td>\n",
       "      <td>0.009773</td>\n",
       "      <td>0.929751</td>\n",
       "      <td>0.874628</td>\n",
       "      <td>0.901347</td>\n",
       "      <td>0.876627</td>\n",
       "    </tr>\n",
       "    <tr>\n",
       "      <td>2</td>\n",
       "      <td>0.007400</td>\n",
       "      <td>0.008245</td>\n",
       "      <td>0.947409</td>\n",
       "      <td>0.876828</td>\n",
       "      <td>0.910753</td>\n",
       "      <td>0.879348</td>\n",
       "    </tr>\n",
       "  </tbody>\n",
       "</table><p>"
      ],
      "text/plain": [
       "<IPython.core.display.HTML object>"
      ]
     },
     "metadata": {},
     "output_type": "display_data"
    },
    {
     "name": "stdout",
     "output_type": "stream",
     "text": [
      "./model/v7/train\\checkpoint-3448\n",
      "------------------------------------------------------\n",
      "Fold: 1, train_ds: 18027, val_ds:  4507\n"
     ]
    },
    {
     "data": {
      "application/vnd.jupyter.widget-view+json": {
       "model_id": "0a55db1ac4ec4e06bf0661c45aa4ca85",
       "version_major": 2,
       "version_minor": 0
      },
      "text/plain": [
       "Map (num_proc=12):   0%|          | 0/18027 [00:00<?, ? examples/s]"
      ]
     },
     "metadata": {},
     "output_type": "display_data"
    },
    {
     "data": {
      "application/vnd.jupyter.widget-view+json": {
       "model_id": "049af0d3d3b34fbca2a61991ff3c0323",
       "version_major": 2,
       "version_minor": 0
      },
      "text/plain": [
       "Map (num_proc=12):   0%|          | 0/4507 [00:00<?, ? examples/s]"
      ]
     },
     "metadata": {},
     "output_type": "display_data"
    },
    {
     "name": "stdout",
     "output_type": "stream",
     "text": [
      "Fold: 1, tokenized_train_ds: 27549, tokenized_val_ds:  6918\n"
     ]
    },
    {
     "name": "stderr",
     "output_type": "stream",
     "text": [
      "D:\\program\\anaconda\\envs\\fws-dell\\lib\\site-packages\\accelerate\\accelerator.py:436: FutureWarning: Passing the following arguments to `Accelerator` is deprecated and will be removed in version 1.0 of Accelerate: dict_keys(['dispatch_batches', 'split_batches', 'even_batches', 'use_seedable_sampler']). Please pass an `accelerate.DataLoaderConfiguration` instead: \n",
      "dataloader_config = DataLoaderConfiguration(dispatch_batches=None, split_batches=False, even_batches=True, use_seedable_sampler=True)\n",
      "  warnings.warn(\n"
     ]
    },
    {
     "data": {
      "text/html": [
       "\n",
       "    <div>\n",
       "      \n",
       "      <progress value='3444' max='3444' style='width:300px; height:20px; vertical-align: middle;'></progress>\n",
       "      [3444/3444 1:33:10, Epoch 2/2]\n",
       "    </div>\n",
       "    <table border=\"1\" class=\"dataframe\">\n",
       "  <thead>\n",
       " <tr style=\"text-align: left;\">\n",
       "      <th>Epoch</th>\n",
       "      <th>Training Loss</th>\n",
       "      <th>Validation Loss</th>\n",
       "      <th>Precision</th>\n",
       "      <th>Recall</th>\n",
       "      <th>F1</th>\n",
       "      <th>Fb-5</th>\n",
       "    </tr>\n",
       "  </thead>\n",
       "  <tbody>\n",
       "    <tr>\n",
       "      <td>1</td>\n",
       "      <td>0.007700</td>\n",
       "      <td>0.006622</td>\n",
       "      <td>0.955132</td>\n",
       "      <td>0.884109</td>\n",
       "      <td>0.918249</td>\n",
       "      <td>0.886645</td>\n",
       "    </tr>\n",
       "    <tr>\n",
       "      <td>2</td>\n",
       "      <td>0.005400</td>\n",
       "      <td>0.006107</td>\n",
       "      <td>0.955504</td>\n",
       "      <td>0.893276</td>\n",
       "      <td>0.923343</td>\n",
       "      <td>0.895519</td>\n",
       "    </tr>\n",
       "  </tbody>\n",
       "</table><p>"
      ],
      "text/plain": [
       "<IPython.core.display.HTML object>"
      ]
     },
     "metadata": {},
     "output_type": "display_data"
    },
    {
     "name": "stdout",
     "output_type": "stream",
     "text": [
      "./model/v7/train\\checkpoint-3444\n",
      "------------------------------------------------------\n",
      "Fold: 2, train_ds: 18027, val_ds:  4507\n"
     ]
    },
    {
     "data": {
      "application/vnd.jupyter.widget-view+json": {
       "model_id": "8102920ddedf46c9b8ec6119f5723203",
       "version_major": 2,
       "version_minor": 0
      },
      "text/plain": [
       "Map (num_proc=12):   0%|          | 0/18027 [00:00<?, ? examples/s]"
      ]
     },
     "metadata": {},
     "output_type": "display_data"
    },
    {
     "data": {
      "application/vnd.jupyter.widget-view+json": {
       "model_id": "45a90d88faa04fc588ad748c7d470d72",
       "version_major": 2,
       "version_minor": 0
      },
      "text/plain": [
       "Map (num_proc=12):   0%|          | 0/4507 [00:00<?, ? examples/s]"
      ]
     },
     "metadata": {},
     "output_type": "display_data"
    },
    {
     "name": "stdout",
     "output_type": "stream",
     "text": [
      "Fold: 2, tokenized_train_ds: 27619, tokenized_val_ds:  6848\n"
     ]
    },
    {
     "name": "stderr",
     "output_type": "stream",
     "text": [
      "D:\\program\\anaconda\\envs\\fws-dell\\lib\\site-packages\\accelerate\\accelerator.py:436: FutureWarning: Passing the following arguments to `Accelerator` is deprecated and will be removed in version 1.0 of Accelerate: dict_keys(['dispatch_batches', 'split_batches', 'even_batches', 'use_seedable_sampler']). Please pass an `accelerate.DataLoaderConfiguration` instead: \n",
      "dataloader_config = DataLoaderConfiguration(dispatch_batches=None, split_batches=False, even_batches=True, use_seedable_sampler=True)\n",
      "  warnings.warn(\n"
     ]
    },
    {
     "data": {
      "text/html": [
       "\n",
       "    <div>\n",
       "      \n",
       "      <progress value='3452' max='3452' style='width:300px; height:20px; vertical-align: middle;'></progress>\n",
       "      [3452/3452 1:27:37, Epoch 1/2]\n",
       "    </div>\n",
       "    <table border=\"1\" class=\"dataframe\">\n",
       "  <thead>\n",
       " <tr style=\"text-align: left;\">\n",
       "      <th>Epoch</th>\n",
       "      <th>Training Loss</th>\n",
       "      <th>Validation Loss</th>\n",
       "      <th>Precision</th>\n",
       "      <th>Recall</th>\n",
       "      <th>F1</th>\n",
       "      <th>Fb-5</th>\n",
       "    </tr>\n",
       "  </thead>\n",
       "  <tbody>\n",
       "    <tr>\n",
       "      <td>0</td>\n",
       "      <td>0.006500</td>\n",
       "      <td>0.005982</td>\n",
       "      <td>0.965053</td>\n",
       "      <td>0.891742</td>\n",
       "      <td>0.926950</td>\n",
       "      <td>0.894355</td>\n",
       "    </tr>\n",
       "    <tr>\n",
       "      <td>1</td>\n",
       "      <td>0.004100</td>\n",
       "      <td>0.004989</td>\n",
       "      <td>0.948063</td>\n",
       "      <td>0.920306</td>\n",
       "      <td>0.933978</td>\n",
       "      <td>0.921344</td>\n",
       "    </tr>\n",
       "  </tbody>\n",
       "</table><p>"
      ],
      "text/plain": [
       "<IPython.core.display.HTML object>"
      ]
     },
     "metadata": {},
     "output_type": "display_data"
    },
    {
     "name": "stdout",
     "output_type": "stream",
     "text": [
      "./model/v7/train\\checkpoint-3452\n",
      "------------------------------------------------------\n",
      "Fold: 3, train_ds: 18027, val_ds:  4507\n"
     ]
    },
    {
     "data": {
      "application/vnd.jupyter.widget-view+json": {
       "model_id": "42d15a725d744161bbb1494859f36db1",
       "version_major": 2,
       "version_minor": 0
      },
      "text/plain": [
       "Map (num_proc=12):   0%|          | 0/18027 [00:00<?, ? examples/s]"
      ]
     },
     "metadata": {},
     "output_type": "display_data"
    },
    {
     "data": {
      "application/vnd.jupyter.widget-view+json": {
       "model_id": "ed153304d48b485996d518d53b495171",
       "version_major": 2,
       "version_minor": 0
      },
      "text/plain": [
       "Map (num_proc=12):   0%|          | 0/4507 [00:00<?, ? examples/s]"
      ]
     },
     "metadata": {},
     "output_type": "display_data"
    },
    {
     "name": "stdout",
     "output_type": "stream",
     "text": [
      "Fold: 3, tokenized_train_ds: 27597, tokenized_val_ds:  6870\n"
     ]
    },
    {
     "name": "stderr",
     "output_type": "stream",
     "text": [
      "D:\\program\\anaconda\\envs\\fws-dell\\lib\\site-packages\\accelerate\\accelerator.py:436: FutureWarning: Passing the following arguments to `Accelerator` is deprecated and will be removed in version 1.0 of Accelerate: dict_keys(['dispatch_batches', 'split_batches', 'even_batches', 'use_seedable_sampler']). Please pass an `accelerate.DataLoaderConfiguration` instead: \n",
      "dataloader_config = DataLoaderConfiguration(dispatch_batches=None, split_batches=False, even_batches=True, use_seedable_sampler=True)\n",
      "  warnings.warn(\n"
     ]
    },
    {
     "data": {
      "text/html": [
       "\n",
       "    <div>\n",
       "      \n",
       "      <progress value='3450' max='3450' style='width:300px; height:20px; vertical-align: middle;'></progress>\n",
       "      [3450/3450 2:56:17, Epoch 2/2]\n",
       "    </div>\n",
       "    <table border=\"1\" class=\"dataframe\">\n",
       "  <thead>\n",
       " <tr style=\"text-align: left;\">\n",
       "      <th>Epoch</th>\n",
       "      <th>Training Loss</th>\n",
       "      <th>Validation Loss</th>\n",
       "      <th>Precision</th>\n",
       "      <th>Recall</th>\n",
       "      <th>F1</th>\n",
       "      <th>Fb-5</th>\n",
       "    </tr>\n",
       "  </thead>\n",
       "  <tbody>\n",
       "    <tr>\n",
       "      <td>1</td>\n",
       "      <td>0.005000</td>\n",
       "      <td>0.004186</td>\n",
       "      <td>0.977066</td>\n",
       "      <td>0.906025</td>\n",
       "      <td>0.940205</td>\n",
       "      <td>0.908566</td>\n",
       "    </tr>\n",
       "    <tr>\n",
       "      <td>2</td>\n",
       "      <td>0.003000</td>\n",
       "      <td>0.003534</td>\n",
       "      <td>0.963959</td>\n",
       "      <td>0.948592</td>\n",
       "      <td>0.956213</td>\n",
       "      <td>0.949174</td>\n",
       "    </tr>\n",
       "  </tbody>\n",
       "</table><p>"
      ],
      "text/plain": [
       "<IPython.core.display.HTML object>"
      ]
     },
     "metadata": {},
     "output_type": "display_data"
    },
    {
     "name": "stdout",
     "output_type": "stream",
     "text": [
      "./model/v7/train\\checkpoint-3450\n",
      "------------------------------------------------------\n",
      "Fold: 4, train_ds: 18028, val_ds:  4506\n"
     ]
    },
    {
     "data": {
      "application/vnd.jupyter.widget-view+json": {
       "model_id": "8c668b166db74b92bc9ec5295a73ad7f",
       "version_major": 2,
       "version_minor": 0
      },
      "text/plain": [
       "Map (num_proc=12):   0%|          | 0/18028 [00:00<?, ? examples/s]"
      ]
     },
     "metadata": {},
     "output_type": "display_data"
    },
    {
     "data": {
      "application/vnd.jupyter.widget-view+json": {
       "model_id": "094a10ae4df044b1a3f0870977f28a05",
       "version_major": 2,
       "version_minor": 0
      },
      "text/plain": [
       "Map (num_proc=12):   0%|          | 0/4506 [00:00<?, ? examples/s]"
      ]
     },
     "metadata": {},
     "output_type": "display_data"
    },
    {
     "name": "stdout",
     "output_type": "stream",
     "text": [
      "Fold: 4, tokenized_train_ds: 27523, tokenized_val_ds:  6944\n"
     ]
    },
    {
     "name": "stderr",
     "output_type": "stream",
     "text": [
      "D:\\program\\anaconda\\envs\\fws-dell\\lib\\site-packages\\accelerate\\accelerator.py:436: FutureWarning: Passing the following arguments to `Accelerator` is deprecated and will be removed in version 1.0 of Accelerate: dict_keys(['dispatch_batches', 'split_batches', 'even_batches', 'use_seedable_sampler']). Please pass an `accelerate.DataLoaderConfiguration` instead: \n",
      "dataloader_config = DataLoaderConfiguration(dispatch_batches=None, split_batches=False, even_batches=True, use_seedable_sampler=True)\n",
      "  warnings.warn(\n"
     ]
    },
    {
     "data": {
      "text/html": [
       "\n",
       "    <div>\n",
       "      \n",
       "      <progress value='3440' max='3440' style='width:300px; height:20px; vertical-align: middle;'></progress>\n",
       "      [3440/3440 1:16:29, Epoch 1/2]\n",
       "    </div>\n",
       "    <table border=\"1\" class=\"dataframe\">\n",
       "  <thead>\n",
       " <tr style=\"text-align: left;\">\n",
       "      <th>Epoch</th>\n",
       "      <th>Training Loss</th>\n",
       "      <th>Validation Loss</th>\n",
       "      <th>Precision</th>\n",
       "      <th>Recall</th>\n",
       "      <th>F1</th>\n",
       "      <th>Fb-5</th>\n",
       "    </tr>\n",
       "  </thead>\n",
       "  <tbody>\n",
       "    <tr>\n",
       "      <td>0</td>\n",
       "      <td>0.003900</td>\n",
       "      <td>0.002974</td>\n",
       "      <td>0.959678</td>\n",
       "      <td>0.960769</td>\n",
       "      <td>0.960223</td>\n",
       "      <td>0.960727</td>\n",
       "    </tr>\n",
       "    <tr>\n",
       "      <td>1</td>\n",
       "      <td>0.002000</td>\n",
       "      <td>0.002171</td>\n",
       "      <td>0.974016</td>\n",
       "      <td>0.966582</td>\n",
       "      <td>0.970285</td>\n",
       "      <td>0.966866</td>\n",
       "    </tr>\n",
       "  </tbody>\n",
       "</table><p>"
      ],
      "text/plain": [
       "<IPython.core.display.HTML object>"
      ]
     },
     "metadata": {},
     "output_type": "display_data"
    },
    {
     "name": "stdout",
     "output_type": "stream",
     "text": [
      "./model/v7/train\\checkpoint-3440\n",
      "------------------------------------------------------\n"
     ]
    }
   ],
   "source": [
    "tokenizer = AutoTokenizer.from_pretrained(Setting.model_checkpoint)\n",
    "data_collator = DataCollatorForTokenClassification(tokenizer=tokenizer)\n",
    "\n",
    "training_args = TrainingArguments(\n",
    "    output_dir=Setting.model_train,\n",
    "    num_train_epochs=Setting.epochs,\n",
    "    learning_rate=Setting.learning_rate,\n",
    "    lr_scheduler_type=Setting.lr_scheduler_type,\n",
    "    warmup_ratio=Setting.warmup_ratio,\n",
    "    weight_decay=Setting.weight_decay,\n",
    "    gradient_accumulation_steps=Setting.grad_steps,\n",
    "    per_device_train_batch_size=Setting.batch_size,\n",
    "    seed=Setting.seed,\n",
    "    evaluation_strategy=\"epoch\",\n",
    "    save_strategy=\"epoch\",\n",
    "    metric_for_best_model=\"fb-5\",\n",
    "    greater_is_better=True,\n",
    "    load_best_model_at_end=True\n",
    ")\n",
    "\n",
    "for fold_idx, (train_idx, val_idx) in enumerate(folds):        \n",
    "    train_ds = ds.select(train_idx)\n",
    "    val_ds = ds.select(val_idx)\n",
    "    print(f'Fold: {fold_idx}, train_ds: {train_ds.num_rows}, val_ds:  {val_ds.num_rows}')    \n",
    "    tokenized_train_ds = train_ds.map(tokenize_and_align_labels, \n",
    "                                         fn_kwargs={\"tokenizer\": tokenizer, \n",
    "                                                     \"label2id\": Setting.label2id, \n",
    "                                                     \"max_length\": Setting.max_length,\n",
    "                                                     \"stride\": Setting.stride\n",
    "                                                    }, \n",
    "                                         num_proc=os.cpu_count())    \n",
    "    tokenized_train_ds = tokenized_train_ds.remove_columns(['tokens', 'pii_labels', 'overflow_to_sample_mapping'])    \n",
    "    tokenized_train_ds = Dataset.from_dict(rearrange_tokenized_input(tokenized_train_ds))    \n",
    "    tokenized_val_ds = val_ds.map(tokenize_and_align_labels, \n",
    "                                     fn_kwargs={\"tokenizer\": tokenizer, \n",
    "                                                 \"label2id\": Setting.label2id, \n",
    "                                                 \"max_length\": Setting.max_length,\n",
    "                                                 \"stride\": Setting.stride\n",
    "                                                }, \n",
    "                                     num_proc=os.cpu_count()) \n",
    "    tokenized_val_ds = tokenized_val_ds.remove_columns(['tokens', 'pii_labels', 'overflow_to_sample_mapping'])    \n",
    "    tokenized_val_ds = Dataset.from_dict(rearrange_tokenized_input(tokenized_val_ds))\n",
    "    print(f'Fold: {fold_idx}, tokenized_train_ds: {tokenized_train_ds.num_rows}, tokenized_val_ds:  {tokenized_val_ds.num_rows}') \n",
    "    \n",
    "    model = AutoModelForTokenClassification.from_pretrained(\n",
    "        Setting.model_checkpoint, \n",
    "        num_labels=Setting.num_labels, \n",
    "        id2label=Setting.id2label, \n",
    "        label2id=Setting.label2id\n",
    "    )\n",
    "\n",
    "    trainer = Trainer(\n",
    "        model=model,\n",
    "        args=training_args,\n",
    "        train_dataset=tokenized_train_ds,\n",
    "        eval_dataset=tokenized_val_ds,\n",
    "        tokenizer=tokenizer,\n",
    "        data_collator=data_collator,\n",
    "        compute_metrics=partial(compute_metrics, id2label=Setting.id2label)\n",
    "    )\n",
    "    \n",
    "    trainer.train()\n",
    "    # set best model checkpoint\n",
    "    Setting.model_checkpoint = trainer.state.best_model_checkpoint\n",
    "    print(Setting.model_checkpoint)\n",
    "    trainer.save_model(Setting.model_final)\n",
    "    tokenizer.save_pretrained(Setting.model_final)\n",
    "\n",
    "    del trainer\n",
    "    gc.collect()\n",
    "    torch.cuda.empty_cache()\n",
    "    print('------------------------------------------------------')"
   ]
  },
  {
   "cell_type": "code",
   "execution_count": 12,
   "id": "520c97d3-f68d-48e6-b2bb-0d0cf0d7e799",
   "metadata": {},
   "outputs": [
    {
     "name": "stdout",
     "output_type": "stream",
     "text": [
      "./model/distilbert/distilbert-base-uncased\n",
      "1\n"
     ]
    }
   ],
   "source": [
    "Setting.epochs = 1\n",
    "print(Setting.model_checkpoint)\n",
    "print(Setting.epochs)"
   ]
  },
  {
   "cell_type": "code",
   "execution_count": 15,
   "id": "5a7ff21a-5898-4e5a-b3fb-3399d5d32a5f",
   "metadata": {},
   "outputs": [
    {
     "name": "stdout",
     "output_type": "stream",
     "text": [
      "Fold: 0, train_ds: 18027, val_ds:  4507\n"
     ]
    },
    {
     "data": {
      "application/vnd.jupyter.widget-view+json": {
       "model_id": "46f376f3eead4daebfb056ba2d30be9e",
       "version_major": 2,
       "version_minor": 0
      },
      "text/plain": [
       "Map (num_proc=12):   0%|          | 0/18027 [00:00<?, ? examples/s]"
      ]
     },
     "metadata": {},
     "output_type": "display_data"
    },
    {
     "data": {
      "application/vnd.jupyter.widget-view+json": {
       "model_id": "291fbeab221643b9b2ae4110d00fc93b",
       "version_major": 2,
       "version_minor": 0
      },
      "text/plain": [
       "Map (num_proc=12):   0%|          | 0/4507 [00:00<?, ? examples/s]"
      ]
     },
     "metadata": {},
     "output_type": "display_data"
    },
    {
     "name": "stdout",
     "output_type": "stream",
     "text": [
      "Fold: 0, tokenized_train_ds: 27580, tokenized_val_ds:  6887\n"
     ]
    },
    {
     "name": "stderr",
     "output_type": "stream",
     "text": [
      "D:\\program\\anaconda\\envs\\fws-dell\\lib\\site-packages\\accelerate\\accelerator.py:436: FutureWarning: Passing the following arguments to `Accelerator` is deprecated and will be removed in version 1.0 of Accelerate: dict_keys(['dispatch_batches', 'split_batches', 'even_batches', 'use_seedable_sampler']). Please pass an `accelerate.DataLoaderConfiguration` instead: \n",
      "dataloader_config = DataLoaderConfiguration(dispatch_batches=None, split_batches=False, even_batches=True, use_seedable_sampler=True)\n",
      "  warnings.warn(\n"
     ]
    },
    {
     "data": {
      "text/html": [
       "\n",
       "    <div>\n",
       "      \n",
       "      <progress value='1724' max='1724' style='width:300px; height:20px; vertical-align: middle;'></progress>\n",
       "      [1724/1724 1:11:11, Epoch 1/1]\n",
       "    </div>\n",
       "    <table border=\"1\" class=\"dataframe\">\n",
       "  <thead>\n",
       " <tr style=\"text-align: left;\">\n",
       "      <th>Epoch</th>\n",
       "      <th>Training Loss</th>\n",
       "      <th>Validation Loss</th>\n",
       "      <th>Precision</th>\n",
       "      <th>Recall</th>\n",
       "      <th>F1</th>\n",
       "      <th>Fb-5</th>\n",
       "    </tr>\n",
       "  </thead>\n",
       "  <tbody>\n",
       "    <tr>\n",
       "      <td>1</td>\n",
       "      <td>0.002500</td>\n",
       "      <td>0.001558</td>\n",
       "      <td>0.985338</td>\n",
       "      <td>0.980841</td>\n",
       "      <td>0.983084</td>\n",
       "      <td>0.981014</td>\n",
       "    </tr>\n",
       "  </tbody>\n",
       "</table><p>"
      ],
      "text/plain": [
       "<IPython.core.display.HTML object>"
      ]
     },
     "metadata": {},
     "output_type": "display_data"
    },
    {
     "name": "stdout",
     "output_type": "stream",
     "text": [
      "./model/v7/train\\checkpoint-1724\n",
      "------------------------------------------------------\n",
      "Fold: 1, train_ds: 18027, val_ds:  4507\n"
     ]
    },
    {
     "data": {
      "application/vnd.jupyter.widget-view+json": {
       "model_id": "4f6a236c74774a879bbce00404994776",
       "version_major": 2,
       "version_minor": 0
      },
      "text/plain": [
       "Map (num_proc=12):   0%|          | 0/18027 [00:00<?, ? examples/s]"
      ]
     },
     "metadata": {},
     "output_type": "display_data"
    },
    {
     "data": {
      "application/vnd.jupyter.widget-view+json": {
       "model_id": "6effcd5ba4624e079b1398364cd79b15",
       "version_major": 2,
       "version_minor": 0
      },
      "text/plain": [
       "Map (num_proc=12):   0%|          | 0/4507 [00:00<?, ? examples/s]"
      ]
     },
     "metadata": {},
     "output_type": "display_data"
    },
    {
     "name": "stdout",
     "output_type": "stream",
     "text": [
      "Fold: 1, tokenized_train_ds: 27549, tokenized_val_ds:  6918\n"
     ]
    },
    {
     "name": "stderr",
     "output_type": "stream",
     "text": [
      "D:\\program\\anaconda\\envs\\fws-dell\\lib\\site-packages\\accelerate\\accelerator.py:436: FutureWarning: Passing the following arguments to `Accelerator` is deprecated and will be removed in version 1.0 of Accelerate: dict_keys(['dispatch_batches', 'split_batches', 'even_batches', 'use_seedable_sampler']). Please pass an `accelerate.DataLoaderConfiguration` instead: \n",
      "dataloader_config = DataLoaderConfiguration(dispatch_batches=None, split_batches=False, even_batches=True, use_seedable_sampler=True)\n",
      "  warnings.warn(\n"
     ]
    },
    {
     "data": {
      "text/html": [
       "\n",
       "    <div>\n",
       "      \n",
       "      <progress value='1722' max='1722' style='width:300px; height:20px; vertical-align: middle;'></progress>\n",
       "      [1722/1722 33:50, Epoch 1/1]\n",
       "    </div>\n",
       "    <table border=\"1\" class=\"dataframe\">\n",
       "  <thead>\n",
       " <tr style=\"text-align: left;\">\n",
       "      <th>Epoch</th>\n",
       "      <th>Training Loss</th>\n",
       "      <th>Validation Loss</th>\n",
       "      <th>Precision</th>\n",
       "      <th>Recall</th>\n",
       "      <th>F1</th>\n",
       "      <th>Fb-5</th>\n",
       "    </tr>\n",
       "  </thead>\n",
       "  <tbody>\n",
       "    <tr>\n",
       "      <td>1</td>\n",
       "      <td>0.002100</td>\n",
       "      <td>0.001343</td>\n",
       "      <td>0.987118</td>\n",
       "      <td>0.978821</td>\n",
       "      <td>0.982952</td>\n",
       "      <td>0.979137</td>\n",
       "    </tr>\n",
       "  </tbody>\n",
       "</table><p>"
      ],
      "text/plain": [
       "<IPython.core.display.HTML object>"
      ]
     },
     "metadata": {},
     "output_type": "display_data"
    },
    {
     "name": "stdout",
     "output_type": "stream",
     "text": [
      "./model/v7/train\\checkpoint-1722\n",
      "------------------------------------------------------\n",
      "Fold: 2, train_ds: 18027, val_ds:  4507\n"
     ]
    },
    {
     "data": {
      "application/vnd.jupyter.widget-view+json": {
       "model_id": "e93aafe93cd8462b8790e46a7f1139b2",
       "version_major": 2,
       "version_minor": 0
      },
      "text/plain": [
       "Map (num_proc=12):   0%|          | 0/18027 [00:00<?, ? examples/s]"
      ]
     },
     "metadata": {},
     "output_type": "display_data"
    },
    {
     "data": {
      "application/vnd.jupyter.widget-view+json": {
       "model_id": "2263d33b520b4218a94d283f4c89f2d4",
       "version_major": 2,
       "version_minor": 0
      },
      "text/plain": [
       "Map (num_proc=12):   0%|          | 0/4507 [00:00<?, ? examples/s]"
      ]
     },
     "metadata": {},
     "output_type": "display_data"
    },
    {
     "name": "stdout",
     "output_type": "stream",
     "text": [
      "Fold: 2, tokenized_train_ds: 27619, tokenized_val_ds:  6848\n"
     ]
    },
    {
     "name": "stderr",
     "output_type": "stream",
     "text": [
      "D:\\program\\anaconda\\envs\\fws-dell\\lib\\site-packages\\accelerate\\accelerator.py:436: FutureWarning: Passing the following arguments to `Accelerator` is deprecated and will be removed in version 1.0 of Accelerate: dict_keys(['dispatch_batches', 'split_batches', 'even_batches', 'use_seedable_sampler']). Please pass an `accelerate.DataLoaderConfiguration` instead: \n",
      "dataloader_config = DataLoaderConfiguration(dispatch_batches=None, split_batches=False, even_batches=True, use_seedable_sampler=True)\n",
      "  warnings.warn(\n"
     ]
    },
    {
     "data": {
      "text/html": [
       "\n",
       "    <div>\n",
       "      \n",
       "      <progress value='1726' max='1726' style='width:300px; height:20px; vertical-align: middle;'></progress>\n",
       "      [1726/1726 33:51, Epoch 0/1]\n",
       "    </div>\n",
       "    <table border=\"1\" class=\"dataframe\">\n",
       "  <thead>\n",
       " <tr style=\"text-align: left;\">\n",
       "      <th>Epoch</th>\n",
       "      <th>Training Loss</th>\n",
       "      <th>Validation Loss</th>\n",
       "      <th>Precision</th>\n",
       "      <th>Recall</th>\n",
       "      <th>F1</th>\n",
       "      <th>Fb-5</th>\n",
       "    </tr>\n",
       "  </thead>\n",
       "  <tbody>\n",
       "    <tr>\n",
       "      <td>0</td>\n",
       "      <td>0.001700</td>\n",
       "      <td>0.001269</td>\n",
       "      <td>0.985808</td>\n",
       "      <td>0.984210</td>\n",
       "      <td>0.985009</td>\n",
       "      <td>0.984272</td>\n",
       "    </tr>\n",
       "  </tbody>\n",
       "</table><p>"
      ],
      "text/plain": [
       "<IPython.core.display.HTML object>"
      ]
     },
     "metadata": {},
     "output_type": "display_data"
    },
    {
     "name": "stdout",
     "output_type": "stream",
     "text": [
      "./model/v7/train\\checkpoint-1726\n",
      "------------------------------------------------------\n",
      "Fold: 3, train_ds: 18027, val_ds:  4507\n"
     ]
    },
    {
     "data": {
      "application/vnd.jupyter.widget-view+json": {
       "model_id": "b4276858a04a4b09b5b0870e1c59bdc2",
       "version_major": 2,
       "version_minor": 0
      },
      "text/plain": [
       "Map (num_proc=12):   0%|          | 0/18027 [00:00<?, ? examples/s]"
      ]
     },
     "metadata": {},
     "output_type": "display_data"
    },
    {
     "data": {
      "application/vnd.jupyter.widget-view+json": {
       "model_id": "86895f95dfa14660b7bd99c1f6563530",
       "version_major": 2,
       "version_minor": 0
      },
      "text/plain": [
       "Map (num_proc=12):   0%|          | 0/4507 [00:00<?, ? examples/s]"
      ]
     },
     "metadata": {},
     "output_type": "display_data"
    },
    {
     "name": "stdout",
     "output_type": "stream",
     "text": [
      "Fold: 3, tokenized_train_ds: 27597, tokenized_val_ds:  6870\n"
     ]
    },
    {
     "name": "stderr",
     "output_type": "stream",
     "text": [
      "D:\\program\\anaconda\\envs\\fws-dell\\lib\\site-packages\\accelerate\\accelerator.py:436: FutureWarning: Passing the following arguments to `Accelerator` is deprecated and will be removed in version 1.0 of Accelerate: dict_keys(['dispatch_batches', 'split_batches', 'even_batches', 'use_seedable_sampler']). Please pass an `accelerate.DataLoaderConfiguration` instead: \n",
      "dataloader_config = DataLoaderConfiguration(dispatch_batches=None, split_batches=False, even_batches=True, use_seedable_sampler=True)\n",
      "  warnings.warn(\n"
     ]
    },
    {
     "data": {
      "text/html": [
       "\n",
       "    <div>\n",
       "      \n",
       "      <progress value='1725' max='1725' style='width:300px; height:20px; vertical-align: middle;'></progress>\n",
       "      [1725/1725 33:51, Epoch 1/1]\n",
       "    </div>\n",
       "    <table border=\"1\" class=\"dataframe\">\n",
       "  <thead>\n",
       " <tr style=\"text-align: left;\">\n",
       "      <th>Epoch</th>\n",
       "      <th>Training Loss</th>\n",
       "      <th>Validation Loss</th>\n",
       "      <th>Precision</th>\n",
       "      <th>Recall</th>\n",
       "      <th>F1</th>\n",
       "      <th>Fb-5</th>\n",
       "    </tr>\n",
       "  </thead>\n",
       "  <tbody>\n",
       "    <tr>\n",
       "      <td>1</td>\n",
       "      <td>0.001300</td>\n",
       "      <td>0.001085</td>\n",
       "      <td>0.990164</td>\n",
       "      <td>0.986096</td>\n",
       "      <td>0.988126</td>\n",
       "      <td>0.986252</td>\n",
       "    </tr>\n",
       "  </tbody>\n",
       "</table><p>"
      ],
      "text/plain": [
       "<IPython.core.display.HTML object>"
      ]
     },
     "metadata": {},
     "output_type": "display_data"
    },
    {
     "name": "stdout",
     "output_type": "stream",
     "text": [
      "./model/v7/train\\checkpoint-1725\n",
      "------------------------------------------------------\n",
      "Fold: 4, train_ds: 18028, val_ds:  4506\n"
     ]
    },
    {
     "data": {
      "application/vnd.jupyter.widget-view+json": {
       "model_id": "136f99c1c2fc40fe99e1322f5f228609",
       "version_major": 2,
       "version_minor": 0
      },
      "text/plain": [
       "Map (num_proc=12):   0%|          | 0/18028 [00:00<?, ? examples/s]"
      ]
     },
     "metadata": {},
     "output_type": "display_data"
    },
    {
     "data": {
      "application/vnd.jupyter.widget-view+json": {
       "model_id": "0503894ed30746ca93c8206fc43dc170",
       "version_major": 2,
       "version_minor": 0
      },
      "text/plain": [
       "Map (num_proc=12):   0%|          | 0/4506 [00:00<?, ? examples/s]"
      ]
     },
     "metadata": {},
     "output_type": "display_data"
    },
    {
     "name": "stdout",
     "output_type": "stream",
     "text": [
      "Fold: 4, tokenized_train_ds: 27523, tokenized_val_ds:  6944\n"
     ]
    },
    {
     "name": "stderr",
     "output_type": "stream",
     "text": [
      "D:\\program\\anaconda\\envs\\fws-dell\\lib\\site-packages\\accelerate\\accelerator.py:436: FutureWarning: Passing the following arguments to `Accelerator` is deprecated and will be removed in version 1.0 of Accelerate: dict_keys(['dispatch_batches', 'split_batches', 'even_batches', 'use_seedable_sampler']). Please pass an `accelerate.DataLoaderConfiguration` instead: \n",
      "dataloader_config = DataLoaderConfiguration(dispatch_batches=None, split_batches=False, even_batches=True, use_seedable_sampler=True)\n",
      "  warnings.warn(\n"
     ]
    },
    {
     "data": {
      "text/html": [
       "\n",
       "    <div>\n",
       "      \n",
       "      <progress value='1720' max='1720' style='width:300px; height:20px; vertical-align: middle;'></progress>\n",
       "      [1720/1720 34:16, Epoch 0/1]\n",
       "    </div>\n",
       "    <table border=\"1\" class=\"dataframe\">\n",
       "  <thead>\n",
       " <tr style=\"text-align: left;\">\n",
       "      <th>Epoch</th>\n",
       "      <th>Training Loss</th>\n",
       "      <th>Validation Loss</th>\n",
       "      <th>Precision</th>\n",
       "      <th>Recall</th>\n",
       "      <th>F1</th>\n",
       "      <th>Fb-5</th>\n",
       "    </tr>\n",
       "  </thead>\n",
       "  <tbody>\n",
       "    <tr>\n",
       "      <td>0</td>\n",
       "      <td>0.001100</td>\n",
       "      <td>0.000826</td>\n",
       "      <td>0.994880</td>\n",
       "      <td>0.990809</td>\n",
       "      <td>0.992841</td>\n",
       "      <td>0.990965</td>\n",
       "    </tr>\n",
       "  </tbody>\n",
       "</table><p>"
      ],
      "text/plain": [
       "<IPython.core.display.HTML object>"
      ]
     },
     "metadata": {},
     "output_type": "display_data"
    },
    {
     "name": "stdout",
     "output_type": "stream",
     "text": [
      "./model/v7/train\\checkpoint-1720\n",
      "------------------------------------------------------\n"
     ]
    }
   ],
   "source": [
    "training_args = TrainingArguments(\n",
    "    output_dir=Setting.model_train,\n",
    "    num_train_epochs=Setting.epochs,\n",
    "    learning_rate=Setting.learning_rate,\n",
    "    lr_scheduler_type=Setting.lr_scheduler_type,\n",
    "    warmup_ratio=Setting.warmup_ratio,\n",
    "    weight_decay=Setting.weight_decay,\n",
    "    gradient_accumulation_steps=Setting.grad_steps,\n",
    "    per_device_train_batch_size=Setting.batch_size,\n",
    "    seed=Setting.seed,\n",
    "    evaluation_strategy=\"epoch\",\n",
    "    save_strategy=\"epoch\",\n",
    "    metric_for_best_model=\"fb-5\",\n",
    "    greater_is_better=True,\n",
    "    load_best_model_at_end=True\n",
    ")\n",
    "\n",
    "for fold_idx, (train_idx, val_idx) in enumerate(folds):        \n",
    "    train_ds = ds.select(train_idx)\n",
    "    val_ds = ds.select(val_idx)\n",
    "    print(f'Fold: {fold_idx}, train_ds: {train_ds.num_rows}, val_ds:  {val_ds.num_rows}')    \n",
    "    tokenized_train_ds = train_ds.map(tokenize_and_align_labels, \n",
    "                                         fn_kwargs={\"tokenizer\": tokenizer, \n",
    "                                                     \"label2id\": Setting.label2id, \n",
    "                                                     \"max_length\": Setting.max_length,\n",
    "                                                     \"stride\": Setting.stride\n",
    "                                                    }, \n",
    "                                         num_proc=os.cpu_count())    \n",
    "    tokenized_train_ds = tokenized_train_ds.remove_columns(['tokens', 'pii_labels', 'overflow_to_sample_mapping'])    \n",
    "    tokenized_train_ds = Dataset.from_dict(rearrange_tokenized_input(tokenized_train_ds))    \n",
    "    tokenized_val_ds = val_ds.map(tokenize_and_align_labels, \n",
    "                                     fn_kwargs={\"tokenizer\": tokenizer, \n",
    "                                                 \"label2id\": Setting.label2id, \n",
    "                                                 \"max_length\": Setting.max_length,\n",
    "                                                 \"stride\": Setting.stride\n",
    "                                                }, \n",
    "                                     num_proc=os.cpu_count()) \n",
    "    tokenized_val_ds = tokenized_val_ds.remove_columns(['tokens', 'pii_labels', 'overflow_to_sample_mapping'])    \n",
    "    tokenized_val_ds = Dataset.from_dict(rearrange_tokenized_input(tokenized_val_ds))\n",
    "    print(f'Fold: {fold_idx}, tokenized_train_ds: {tokenized_train_ds.num_rows}, tokenized_val_ds:  {tokenized_val_ds.num_rows}') \n",
    "    \n",
    "    model = AutoModelForTokenClassification.from_pretrained(\n",
    "        Setting.model_checkpoint, \n",
    "        num_labels=Setting.num_labels, \n",
    "        id2label=Setting.id2label, \n",
    "        label2id=Setting.label2id\n",
    "    )\n",
    "\n",
    "    trainer = Trainer(\n",
    "        model=model,\n",
    "        args=training_args,\n",
    "        train_dataset=tokenized_train_ds,\n",
    "        eval_dataset=tokenized_val_ds,\n",
    "        tokenizer=tokenizer,\n",
    "        data_collator=data_collator,\n",
    "        compute_metrics=partial(compute_metrics, id2label=Setting.id2label)\n",
    "    )\n",
    "    \n",
    "    trainer.train()\n",
    "    # set best model checkpoint\n",
    "    Setting.model_checkpoint = trainer.state.best_model_checkpoint\n",
    "    print(Setting.model_checkpoint)\n",
    "    trainer.save_model(Setting.model_final)\n",
    "    tokenizer.save_pretrained(Setting.model_final)\n",
    "\n",
    "    del trainer\n",
    "    gc.collect()\n",
    "    torch.cuda.empty_cache()\n",
    "    print('------------------------------------------------------')"
   ]
  },
  {
   "cell_type": "code",
   "execution_count": 12,
   "id": "87129fae-1b26-474d-9eea-95b2d258ce7b",
   "metadata": {},
   "outputs": [
    {
     "name": "stdout",
     "output_type": "stream",
     "text": [
      "./model/v7/train/checkpoint-1720\n",
      "1\n"
     ]
    }
   ],
   "source": [
    "Setting.epochs = 1\n",
    "Setting.model_checkpoint = \"./model/v7/train/checkpoint-1720\"\n",
    "print(Setting.model_checkpoint)\n",
    "print(Setting.epochs)"
   ]
  },
  {
   "cell_type": "code",
   "execution_count": 13,
   "id": "09486cc7-07d6-46c0-a5b4-64347f69854c",
   "metadata": {},
   "outputs": [],
   "source": [
    "tokenizer = AutoTokenizer.from_pretrained(Setting.model_checkpoint)\n",
    "data_collator = DataCollatorForTokenClassification(tokenizer=tokenizer)"
   ]
  },
  {
   "cell_type": "code",
   "execution_count": 14,
   "id": "8617a7e1-e5d1-4765-a92f-c85ad7d4534e",
   "metadata": {},
   "outputs": [
    {
     "name": "stdout",
     "output_type": "stream",
     "text": [
      "Fold: 0, train_ds: 18027, val_ds:  4507\n"
     ]
    },
    {
     "data": {
      "application/vnd.jupyter.widget-view+json": {
       "model_id": "9291a0df0f2147fa960513f13594a9c6",
       "version_major": 2,
       "version_minor": 0
      },
      "text/plain": [
       "Map (num_proc=12):   0%|          | 0/18027 [00:00<?, ? examples/s]"
      ]
     },
     "metadata": {},
     "output_type": "display_data"
    },
    {
     "data": {
      "application/vnd.jupyter.widget-view+json": {
       "model_id": "a4cae24b633c4dbb990f7550fa922c6f",
       "version_major": 2,
       "version_minor": 0
      },
      "text/plain": [
       "Map (num_proc=12):   0%|          | 0/4507 [00:00<?, ? examples/s]"
      ]
     },
     "metadata": {},
     "output_type": "display_data"
    },
    {
     "name": "stdout",
     "output_type": "stream",
     "text": [
      "Fold: 0, tokenized_train_ds: 27580, tokenized_val_ds:  6887\n"
     ]
    },
    {
     "name": "stderr",
     "output_type": "stream",
     "text": [
      "D:\\program\\anaconda\\envs\\fws-dell\\lib\\site-packages\\accelerate\\accelerator.py:436: FutureWarning: Passing the following arguments to `Accelerator` is deprecated and will be removed in version 1.0 of Accelerate: dict_keys(['dispatch_batches', 'split_batches', 'even_batches', 'use_seedable_sampler']). Please pass an `accelerate.DataLoaderConfiguration` instead: \n",
      "dataloader_config = DataLoaderConfiguration(dispatch_batches=None, split_batches=False, even_batches=True, use_seedable_sampler=True)\n",
      "  warnings.warn(\n"
     ]
    },
    {
     "data": {
      "text/html": [
       "\n",
       "    <div>\n",
       "      \n",
       "      <progress value='1724' max='1724' style='width:300px; height:20px; vertical-align: middle;'></progress>\n",
       "      [1724/1724 42:25, Epoch 1/1]\n",
       "    </div>\n",
       "    <table border=\"1\" class=\"dataframe\">\n",
       "  <thead>\n",
       " <tr style=\"text-align: left;\">\n",
       "      <th>Epoch</th>\n",
       "      <th>Training Loss</th>\n",
       "      <th>Validation Loss</th>\n",
       "      <th>Precision</th>\n",
       "      <th>Recall</th>\n",
       "      <th>F1</th>\n",
       "      <th>Fb-5</th>\n",
       "    </tr>\n",
       "  </thead>\n",
       "  <tbody>\n",
       "    <tr>\n",
       "      <td>1</td>\n",
       "      <td>0.001300</td>\n",
       "      <td>0.000718</td>\n",
       "      <td>0.993008</td>\n",
       "      <td>0.992751</td>\n",
       "      <td>0.992879</td>\n",
       "      <td>0.992761</td>\n",
       "    </tr>\n",
       "  </tbody>\n",
       "</table><p>"
      ],
      "text/plain": [
       "<IPython.core.display.HTML object>"
      ]
     },
     "metadata": {},
     "output_type": "display_data"
    },
    {
     "name": "stdout",
     "output_type": "stream",
     "text": [
      "./model/v7/train\\checkpoint-1724\n",
      "------------------------------------------------------\n",
      "Fold: 1, train_ds: 18027, val_ds:  4507\n"
     ]
    },
    {
     "data": {
      "application/vnd.jupyter.widget-view+json": {
       "model_id": "c05804fe15cf4a8bad18b3f1941a022d",
       "version_major": 2,
       "version_minor": 0
      },
      "text/plain": [
       "Map (num_proc=12):   0%|          | 0/18027 [00:00<?, ? examples/s]"
      ]
     },
     "metadata": {},
     "output_type": "display_data"
    },
    {
     "data": {
      "application/vnd.jupyter.widget-view+json": {
       "model_id": "4d9df2dcce0d4e31b3beefd99e670684",
       "version_major": 2,
       "version_minor": 0
      },
      "text/plain": [
       "Map (num_proc=12):   0%|          | 0/4507 [00:00<?, ? examples/s]"
      ]
     },
     "metadata": {},
     "output_type": "display_data"
    },
    {
     "name": "stdout",
     "output_type": "stream",
     "text": [
      "Fold: 1, tokenized_train_ds: 27549, tokenized_val_ds:  6918\n"
     ]
    },
    {
     "name": "stderr",
     "output_type": "stream",
     "text": [
      "D:\\program\\anaconda\\envs\\fws-dell\\lib\\site-packages\\accelerate\\accelerator.py:436: FutureWarning: Passing the following arguments to `Accelerator` is deprecated and will be removed in version 1.0 of Accelerate: dict_keys(['dispatch_batches', 'split_batches', 'even_batches', 'use_seedable_sampler']). Please pass an `accelerate.DataLoaderConfiguration` instead: \n",
      "dataloader_config = DataLoaderConfiguration(dispatch_batches=None, split_batches=False, even_batches=True, use_seedable_sampler=True)\n",
      "  warnings.warn(\n"
     ]
    },
    {
     "data": {
      "text/html": [
       "\n",
       "    <div>\n",
       "      \n",
       "      <progress value='1722' max='1722' style='width:300px; height:20px; vertical-align: middle;'></progress>\n",
       "      [1722/1722 40:40, Epoch 1/1]\n",
       "    </div>\n",
       "    <table border=\"1\" class=\"dataframe\">\n",
       "  <thead>\n",
       " <tr style=\"text-align: left;\">\n",
       "      <th>Epoch</th>\n",
       "      <th>Training Loss</th>\n",
       "      <th>Validation Loss</th>\n",
       "      <th>Precision</th>\n",
       "      <th>Recall</th>\n",
       "      <th>F1</th>\n",
       "      <th>Fb-5</th>\n",
       "    </tr>\n",
       "  </thead>\n",
       "  <tbody>\n",
       "    <tr>\n",
       "      <td>1</td>\n",
       "      <td>0.001200</td>\n",
       "      <td>0.000662</td>\n",
       "      <td>0.992477</td>\n",
       "      <td>0.991032</td>\n",
       "      <td>0.991754</td>\n",
       "      <td>0.991087</td>\n",
       "    </tr>\n",
       "  </tbody>\n",
       "</table><p>"
      ],
      "text/plain": [
       "<IPython.core.display.HTML object>"
      ]
     },
     "metadata": {},
     "output_type": "display_data"
    },
    {
     "name": "stdout",
     "output_type": "stream",
     "text": [
      "./model/v7/train\\checkpoint-1722\n",
      "------------------------------------------------------\n",
      "Fold: 2, train_ds: 18027, val_ds:  4507\n"
     ]
    },
    {
     "data": {
      "application/vnd.jupyter.widget-view+json": {
       "model_id": "1d6a284c69d64517be686ded584baf61",
       "version_major": 2,
       "version_minor": 0
      },
      "text/plain": [
       "Map (num_proc=12):   0%|          | 0/18027 [00:00<?, ? examples/s]"
      ]
     },
     "metadata": {},
     "output_type": "display_data"
    },
    {
     "data": {
      "application/vnd.jupyter.widget-view+json": {
       "model_id": "640eba9f3d2248388a691743dbbf594f",
       "version_major": 2,
       "version_minor": 0
      },
      "text/plain": [
       "Map (num_proc=12):   0%|          | 0/4507 [00:00<?, ? examples/s]"
      ]
     },
     "metadata": {},
     "output_type": "display_data"
    },
    {
     "name": "stdout",
     "output_type": "stream",
     "text": [
      "Fold: 2, tokenized_train_ds: 27619, tokenized_val_ds:  6848\n"
     ]
    },
    {
     "name": "stderr",
     "output_type": "stream",
     "text": [
      "D:\\program\\anaconda\\envs\\fws-dell\\lib\\site-packages\\accelerate\\accelerator.py:436: FutureWarning: Passing the following arguments to `Accelerator` is deprecated and will be removed in version 1.0 of Accelerate: dict_keys(['dispatch_batches', 'split_batches', 'even_batches', 'use_seedable_sampler']). Please pass an `accelerate.DataLoaderConfiguration` instead: \n",
      "dataloader_config = DataLoaderConfiguration(dispatch_batches=None, split_batches=False, even_batches=True, use_seedable_sampler=True)\n",
      "  warnings.warn(\n"
     ]
    },
    {
     "data": {
      "text/html": [
       "\n",
       "    <div>\n",
       "      \n",
       "      <progress value='1726' max='1726' style='width:300px; height:20px; vertical-align: middle;'></progress>\n",
       "      [1726/1726 43:50, Epoch 0/1]\n",
       "    </div>\n",
       "    <table border=\"1\" class=\"dataframe\">\n",
       "  <thead>\n",
       " <tr style=\"text-align: left;\">\n",
       "      <th>Epoch</th>\n",
       "      <th>Training Loss</th>\n",
       "      <th>Validation Loss</th>\n",
       "      <th>Precision</th>\n",
       "      <th>Recall</th>\n",
       "      <th>F1</th>\n",
       "      <th>Fb-5</th>\n",
       "    </tr>\n",
       "  </thead>\n",
       "  <tbody>\n",
       "    <tr>\n",
       "      <td>0</td>\n",
       "      <td>0.001100</td>\n",
       "      <td>0.001009</td>\n",
       "      <td>0.990904</td>\n",
       "      <td>0.989009</td>\n",
       "      <td>0.989956</td>\n",
       "      <td>0.989082</td>\n",
       "    </tr>\n",
       "  </tbody>\n",
       "</table><p>"
      ],
      "text/plain": [
       "<IPython.core.display.HTML object>"
      ]
     },
     "metadata": {},
     "output_type": "display_data"
    },
    {
     "name": "stdout",
     "output_type": "stream",
     "text": [
      "./model/v7/train\\checkpoint-1726\n",
      "------------------------------------------------------\n",
      "Fold: 3, train_ds: 18027, val_ds:  4507\n"
     ]
    },
    {
     "data": {
      "application/vnd.jupyter.widget-view+json": {
       "model_id": "f29129782a7247118cae33a78ec26153",
       "version_major": 2,
       "version_minor": 0
      },
      "text/plain": [
       "Map (num_proc=12):   0%|          | 0/18027 [00:00<?, ? examples/s]"
      ]
     },
     "metadata": {},
     "output_type": "display_data"
    },
    {
     "data": {
      "application/vnd.jupyter.widget-view+json": {
       "model_id": "3ed24079630e4b1eb1d1691d3eae6148",
       "version_major": 2,
       "version_minor": 0
      },
      "text/plain": [
       "Map (num_proc=12):   0%|          | 0/4507 [00:00<?, ? examples/s]"
      ]
     },
     "metadata": {},
     "output_type": "display_data"
    },
    {
     "name": "stdout",
     "output_type": "stream",
     "text": [
      "Fold: 3, tokenized_train_ds: 27597, tokenized_val_ds:  6870\n"
     ]
    },
    {
     "name": "stderr",
     "output_type": "stream",
     "text": [
      "D:\\program\\anaconda\\envs\\fws-dell\\lib\\site-packages\\accelerate\\accelerator.py:436: FutureWarning: Passing the following arguments to `Accelerator` is deprecated and will be removed in version 1.0 of Accelerate: dict_keys(['dispatch_batches', 'split_batches', 'even_batches', 'use_seedable_sampler']). Please pass an `accelerate.DataLoaderConfiguration` instead: \n",
      "dataloader_config = DataLoaderConfiguration(dispatch_batches=None, split_batches=False, even_batches=True, use_seedable_sampler=True)\n",
      "  warnings.warn(\n"
     ]
    },
    {
     "data": {
      "text/html": [
       "\n",
       "    <div>\n",
       "      \n",
       "      <progress value='1725' max='1725' style='width:300px; height:20px; vertical-align: middle;'></progress>\n",
       "      [1725/1725 45:29, Epoch 1/1]\n",
       "    </div>\n",
       "    <table border=\"1\" class=\"dataframe\">\n",
       "  <thead>\n",
       " <tr style=\"text-align: left;\">\n",
       "      <th>Epoch</th>\n",
       "      <th>Training Loss</th>\n",
       "      <th>Validation Loss</th>\n",
       "      <th>Precision</th>\n",
       "      <th>Recall</th>\n",
       "      <th>F1</th>\n",
       "      <th>Fb-5</th>\n",
       "    </tr>\n",
       "  </thead>\n",
       "  <tbody>\n",
       "    <tr>\n",
       "      <td>1</td>\n",
       "      <td>0.000900</td>\n",
       "      <td>0.000550</td>\n",
       "      <td>0.992351</td>\n",
       "      <td>0.993590</td>\n",
       "      <td>0.992970</td>\n",
       "      <td>0.993543</td>\n",
       "    </tr>\n",
       "  </tbody>\n",
       "</table><p>"
      ],
      "text/plain": [
       "<IPython.core.display.HTML object>"
      ]
     },
     "metadata": {},
     "output_type": "display_data"
    },
    {
     "name": "stdout",
     "output_type": "stream",
     "text": [
      "./model/v7/train\\checkpoint-1725\n",
      "------------------------------------------------------\n",
      "Fold: 4, train_ds: 18028, val_ds:  4506\n"
     ]
    },
    {
     "data": {
      "application/vnd.jupyter.widget-view+json": {
       "model_id": "0c2d37839ed34acfa03f47e0182fc28f",
       "version_major": 2,
       "version_minor": 0
      },
      "text/plain": [
       "Map (num_proc=12):   0%|          | 0/18028 [00:00<?, ? examples/s]"
      ]
     },
     "metadata": {},
     "output_type": "display_data"
    },
    {
     "data": {
      "application/vnd.jupyter.widget-view+json": {
       "model_id": "b8868fb5cba14373bcc74040cc55a818",
       "version_major": 2,
       "version_minor": 0
      },
      "text/plain": [
       "Map (num_proc=12):   0%|          | 0/4506 [00:00<?, ? examples/s]"
      ]
     },
     "metadata": {},
     "output_type": "display_data"
    },
    {
     "name": "stdout",
     "output_type": "stream",
     "text": [
      "Fold: 4, tokenized_train_ds: 27523, tokenized_val_ds:  6944\n"
     ]
    },
    {
     "name": "stderr",
     "output_type": "stream",
     "text": [
      "D:\\program\\anaconda\\envs\\fws-dell\\lib\\site-packages\\accelerate\\accelerator.py:436: FutureWarning: Passing the following arguments to `Accelerator` is deprecated and will be removed in version 1.0 of Accelerate: dict_keys(['dispatch_batches', 'split_batches', 'even_batches', 'use_seedable_sampler']). Please pass an `accelerate.DataLoaderConfiguration` instead: \n",
      "dataloader_config = DataLoaderConfiguration(dispatch_batches=None, split_batches=False, even_batches=True, use_seedable_sampler=True)\n",
      "  warnings.warn(\n"
     ]
    },
    {
     "data": {
      "text/html": [
       "\n",
       "    <div>\n",
       "      \n",
       "      <progress value='1720' max='1720' style='width:300px; height:20px; vertical-align: middle;'></progress>\n",
       "      [1720/1720 46:23, Epoch 0/1]\n",
       "    </div>\n",
       "    <table border=\"1\" class=\"dataframe\">\n",
       "  <thead>\n",
       " <tr style=\"text-align: left;\">\n",
       "      <th>Epoch</th>\n",
       "      <th>Training Loss</th>\n",
       "      <th>Validation Loss</th>\n",
       "      <th>Precision</th>\n",
       "      <th>Recall</th>\n",
       "      <th>F1</th>\n",
       "      <th>Fb-5</th>\n",
       "    </tr>\n",
       "  </thead>\n",
       "  <tbody>\n",
       "    <tr>\n",
       "      <td>0</td>\n",
       "      <td>0.000700</td>\n",
       "      <td>0.000675</td>\n",
       "      <td>0.993854</td>\n",
       "      <td>0.992563</td>\n",
       "      <td>0.993208</td>\n",
       "      <td>0.992613</td>\n",
       "    </tr>\n",
       "  </tbody>\n",
       "</table><p>"
      ],
      "text/plain": [
       "<IPython.core.display.HTML object>"
      ]
     },
     "metadata": {},
     "output_type": "display_data"
    },
    {
     "name": "stdout",
     "output_type": "stream",
     "text": [
      "./model/v7/train\\checkpoint-1720\n",
      "------------------------------------------------------\n"
     ]
    }
   ],
   "source": [
    "training_args = TrainingArguments(\n",
    "    output_dir=Setting.model_train,\n",
    "    num_train_epochs=Setting.epochs,\n",
    "    learning_rate=Setting.learning_rate,\n",
    "    lr_scheduler_type=Setting.lr_scheduler_type,\n",
    "    warmup_ratio=Setting.warmup_ratio,\n",
    "    weight_decay=Setting.weight_decay,\n",
    "    gradient_accumulation_steps=Setting.grad_steps,\n",
    "    per_device_train_batch_size=Setting.batch_size,\n",
    "    seed=Setting.seed,\n",
    "    evaluation_strategy=\"epoch\",\n",
    "    save_strategy=\"epoch\",\n",
    "    metric_for_best_model=\"fb-5\",\n",
    "    greater_is_better=True,\n",
    "    load_best_model_at_end=True\n",
    ")\n",
    "\n",
    "for fold_idx, (train_idx, val_idx) in enumerate(folds):        \n",
    "    train_ds = ds.select(train_idx)\n",
    "    val_ds = ds.select(val_idx)\n",
    "    print(f'Fold: {fold_idx}, train_ds: {train_ds.num_rows}, val_ds:  {val_ds.num_rows}')    \n",
    "    tokenized_train_ds = train_ds.map(tokenize_and_align_labels, \n",
    "                                         fn_kwargs={\"tokenizer\": tokenizer, \n",
    "                                                     \"label2id\": Setting.label2id, \n",
    "                                                     \"max_length\": Setting.max_length,\n",
    "                                                     \"stride\": Setting.stride\n",
    "                                                    }, \n",
    "                                         num_proc=os.cpu_count())    \n",
    "    tokenized_train_ds = tokenized_train_ds.remove_columns(['tokens', 'pii_labels', 'overflow_to_sample_mapping'])    \n",
    "    tokenized_train_ds = Dataset.from_dict(rearrange_tokenized_input(tokenized_train_ds))    \n",
    "    tokenized_val_ds = val_ds.map(tokenize_and_align_labels, \n",
    "                                     fn_kwargs={\"tokenizer\": tokenizer, \n",
    "                                                 \"label2id\": Setting.label2id, \n",
    "                                                 \"max_length\": Setting.max_length,\n",
    "                                                 \"stride\": Setting.stride\n",
    "                                                }, \n",
    "                                     num_proc=os.cpu_count()) \n",
    "    tokenized_val_ds = tokenized_val_ds.remove_columns(['tokens', 'pii_labels', 'overflow_to_sample_mapping'])    \n",
    "    tokenized_val_ds = Dataset.from_dict(rearrange_tokenized_input(tokenized_val_ds))\n",
    "    print(f'Fold: {fold_idx}, tokenized_train_ds: {tokenized_train_ds.num_rows}, tokenized_val_ds:  {tokenized_val_ds.num_rows}') \n",
    "    \n",
    "    model = AutoModelForTokenClassification.from_pretrained(\n",
    "        Setting.model_checkpoint, \n",
    "        num_labels=Setting.num_labels, \n",
    "        id2label=Setting.id2label, \n",
    "        label2id=Setting.label2id\n",
    "    )\n",
    "\n",
    "    trainer = Trainer(\n",
    "        model=model,\n",
    "        args=training_args,\n",
    "        train_dataset=tokenized_train_ds,\n",
    "        eval_dataset=tokenized_val_ds,\n",
    "        tokenizer=tokenizer,\n",
    "        data_collator=data_collator,\n",
    "        compute_metrics=partial(compute_metrics, id2label=Setting.id2label)\n",
    "    )\n",
    "    \n",
    "    trainer.train()\n",
    "    # set best model checkpoint\n",
    "    Setting.model_checkpoint = trainer.state.best_model_checkpoint\n",
    "    print(Setting.model_checkpoint)\n",
    "    trainer.save_model(Setting.model_final)\n",
    "    tokenizer.save_pretrained(Setting.model_final)\n",
    "\n",
    "    del trainer\n",
    "    gc.collect()\n",
    "    torch.cuda.empty_cache()\n",
    "    print('------------------------------------------------------')"
   ]
  },
  {
   "cell_type": "code",
   "execution_count": null,
   "id": "db15037b-cfcf-4616-aaee-25ae858d40fd",
   "metadata": {},
   "outputs": [],
   "source": []
  }
 ],
 "metadata": {
  "kernelspec": {
   "display_name": "Python 3 (ipykernel)",
   "language": "python",
   "name": "python3"
  },
  "language_info": {
   "codemirror_mode": {
    "name": "ipython",
    "version": 3
   },
   "file_extension": ".py",
   "mimetype": "text/x-python",
   "name": "python",
   "nbconvert_exporter": "python",
   "pygments_lexer": "ipython3",
   "version": "3.10.10"
  }
 },
 "nbformat": 4,
 "nbformat_minor": 5
}
