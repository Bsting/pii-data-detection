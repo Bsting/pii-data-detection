{
 "cells": [
  {
   "cell_type": "markdown",
   "id": "9cbc21eb-9562-4364-b3bf-7daef4787f4c",
   "metadata": {
    "id": "9cbc21eb-9562-4364-b3bf-7daef4787f4c"
   },
   "source": [
    "### V5: Fine Tune BERT\n",
    "- Train Data\n",
    "- Stride 64\n",
    "- Down Sampling 'O' Label 0.30\n",
    "- External Dataset"
   ]
  },
  {
   "cell_type": "code",
   "execution_count": 1,
   "id": "9h6NbkD4F-Cu",
   "metadata": {
    "colab": {
     "base_uri": "https://localhost:8080/"
    },
    "executionInfo": {
     "elapsed": 6111,
     "status": "ok",
     "timestamp": 1713359196946,
     "user": {
      "displayName": "ST Boo",
      "userId": "04912196624619410484"
     },
     "user_tz": -480
    },
    "id": "9h6NbkD4F-Cu",
    "outputId": "96e84484-730d-4cf1-8bf3-72e5aa473e59"
   },
   "outputs": [
    {
     "name": "stdout",
     "output_type": "stream",
     "text": [
      "Requirement already satisfied: seqeval in /usr/local/lib/python3.10/dist-packages (1.2.2)\n",
      "Requirement already satisfied: numpy>=1.14.0 in /usr/local/lib/python3.10/dist-packages (from seqeval) (1.25.2)\n",
      "Requirement already satisfied: scikit-learn>=0.21.3 in /usr/local/lib/python3.10/dist-packages (from seqeval) (1.2.2)\n",
      "Requirement already satisfied: scipy>=1.3.2 in /usr/local/lib/python3.10/dist-packages (from scikit-learn>=0.21.3->seqeval) (1.11.4)\n",
      "Requirement already satisfied: joblib>=1.1.1 in /usr/local/lib/python3.10/dist-packages (from scikit-learn>=0.21.3->seqeval) (1.4.0)\n",
      "Requirement already satisfied: threadpoolctl>=2.0.0 in /usr/local/lib/python3.10/dist-packages (from scikit-learn>=0.21.3->seqeval) (3.4.0)\n"
     ]
    }
   ],
   "source": [
    "!pip install seqeval"
   ]
  },
  {
   "cell_type": "code",
   "execution_count": 2,
   "id": "p8I123IkF-Mt",
   "metadata": {
    "colab": {
     "base_uri": "https://localhost:8080/"
    },
    "executionInfo": {
     "elapsed": 2759,
     "status": "ok",
     "timestamp": 1713359199699,
     "user": {
      "displayName": "ST Boo",
      "userId": "04912196624619410484"
     },
     "user_tz": -480
    },
    "id": "p8I123IkF-Mt",
    "outputId": "80f311d4-ba1f-4e97-9f4a-026ff8922f51"
   },
   "outputs": [
    {
     "name": "stdout",
     "output_type": "stream",
     "text": [
      "Drive already mounted at /content/drive; to attempt to forcibly remount, call drive.mount(\"/content/drive\", force_remount=True).\n"
     ]
    }
   ],
   "source": [
    "from google.colab import drive\n",
    "drive.mount('/content/drive')"
   ]
  },
  {
   "cell_type": "code",
   "execution_count": 3,
   "id": "c0605b11-2d95-4de5-9b44-007a23388cdd",
   "metadata": {
    "executionInfo": {
     "elapsed": 15537,
     "status": "ok",
     "timestamp": 1713359215231,
     "user": {
      "displayName": "ST Boo",
      "userId": "04912196624619410484"
     },
     "user_tz": -480
    },
    "id": "c0605b11-2d95-4de5-9b44-007a23388cdd"
   },
   "outputs": [],
   "source": [
    "import numpy as np\n",
    "import pandas as pd\n",
    "import matplotlib.pyplot as plt\n",
    "import seaborn as sns\n",
    "import torch\n",
    "\n",
    "from datasets import Dataset\n",
    "from functools import partial\n",
    "from seqeval.metrics import accuracy_score, classification_report\n",
    "from transformers import AutoTokenizer\n",
    "from transformers import DataCollatorForTokenClassification\n",
    "from transformers import AutoModelForTokenClassification, TrainingArguments, Trainer\n",
    "from tqdm import tqdm"
   ]
  },
  {
   "cell_type": "code",
   "execution_count": 18,
   "id": "3bf2ea24-ff74-4da6-a057-fb8bf9ebb5eb",
   "metadata": {
    "executionInfo": {
     "elapsed": 643,
     "status": "ok",
     "timestamp": 1713360874859,
     "user": {
      "displayName": "ST Boo",
      "userId": "04912196624619410484"
     },
     "user_tz": -480
    },
    "id": "3bf2ea24-ff74-4da6-a057-fb8bf9ebb5eb"
   },
   "outputs": [],
   "source": [
    "class Setting:\n",
    "    seed = 42\n",
    "    base_dir = \"/content/drive/MyDrive/Colab Notebooks/pii-detection\"\n",
    "\n",
    "    # data\n",
    "    data_train = f\"{base_dir}/data/pii-detection-removal-from-educational-data/train.json\"\n",
    "    data_nbroad = f\"{base_dir}/data/pii-dd-mistral-generated/mixtral-8x7b-v1.json\"\n",
    "    data_valentinwerner = f\"{base_dir}/data/pii-label-specific-data/all_labels.json\"\n",
    "    data_alejopaulier = f\"{base_dir}/data/fix-punctuation-tokenization-external-dataset/pii_dataset_fixed.json\"\n",
    "    data_pjmathematician = f\"{base_dir}/data/fix-punctuation-tokenization-external-dataset/moredata_dataset_fixed.json\"\n",
    "    data_minhsienweng = f\"{base_dir}/data/ai-generated-text-dataset/pii_dataset_Gemma.json\"\n",
    "    data_mandrilator = f\"{base_dir}/data/pii-mistral-2k-fit-competition-v2/all_labels.json\"\n",
    "\n",
    "    down_sample_ratio = 0.30\n",
    "\n",
    "    # model\n",
    "    model_checkpoint = \"google-bert/bert-base-uncased\"\n",
    "    model_train = './model/v5/train'\n",
    "    model_final = f'{base_dir}/model/v5/final'\n",
    "    max_length = 512\n",
    "    stride = 64\n",
    "\n",
    "    # hyperparameter\n",
    "    epochs = 5\n",
    "    learning_rate = 3e-5\n",
    "    warmup_ratio = 0.1\n",
    "    lr_scheduler_type='cosine'\n",
    "    weight_decay = 0.01\n",
    "    grad_steps = 2\n",
    "    batch_size = 16\n",
    "\n",
    "    # PII (NER) tags\n",
    "    labels = [\"B-EMAIL\", \"B-ID_NUM\", \"B-NAME_STUDENT\", \"B-PHONE_NUM\",\n",
    "              \"B-STREET_ADDRESS\", \"B-URL_PERSONAL\", \"B-USERNAME\",\n",
    "              \"I-ID_NUM\", \"I-NAME_STUDENT\", \"I-PHONE_NUM\",\n",
    "              \"I-STREET_ADDRESS\",\"I-URL_PERSONAL\",\"O\"]\n",
    "    id2label = dict(enumerate(labels)) # integer label to BIO format label mapping\n",
    "    label2id = {v:k for k,v in id2label.items()} # BIO format label to integer label mapping\n",
    "    num_labels = len(labels) # number of PII (NER) tags"
   ]
  },
  {
   "cell_type": "code",
   "execution_count": 5,
   "id": "fca3b6d9-d35f-40e8-b1b5-da42f45a08d3",
   "metadata": {
    "colab": {
     "base_uri": "https://localhost:8080/"
    },
    "executionInfo": {
     "elapsed": 17,
     "status": "ok",
     "timestamp": 1713359215231,
     "user": {
      "displayName": "ST Boo",
      "userId": "04912196624619410484"
     },
     "user_tz": -480
    },
    "id": "fca3b6d9-d35f-40e8-b1b5-da42f45a08d3",
    "outputId": "51ab7aba-5dab-4b73-e060-ef2cba087a77"
   },
   "outputs": [
    {
     "data": {
      "text/plain": [
       "<torch._C.Generator at 0x7c0ee0160ed0>"
      ]
     },
     "execution_count": 5,
     "metadata": {},
     "output_type": "execute_result"
    }
   ],
   "source": [
    "np.random.seed(Setting.seed)\n",
    "torch.manual_seed(Setting.seed)"
   ]
  },
  {
   "cell_type": "code",
   "execution_count": 6,
   "id": "ff978023-b5f3-4c84-8101-a45f2d55216e",
   "metadata": {
    "colab": {
     "base_uri": "https://localhost:8080/"
    },
    "executionInfo": {
     "elapsed": 11581,
     "status": "ok",
     "timestamp": 1713359226796,
     "user": {
      "displayName": "ST Boo",
      "userId": "04912196624619410484"
     },
     "user_tz": -480
    },
    "id": "ff978023-b5f3-4c84-8101-a45f2d55216e",
    "outputId": "07ac221e-8550-4a86-e163-3da641338d63"
   },
   "outputs": [
    {
     "name": "stdout",
     "output_type": "stream",
     "text": [
      "<class 'pandas.core.frame.DataFrame'>\n",
      "RangeIndex: 27442 entries, 0 to 27441\n",
      "Data columns (total 2 columns):\n",
      " #   Column      Non-Null Count  Dtype \n",
      "---  ------      --------------  ----- \n",
      " 0   tokens      27442 non-null  object\n",
      " 1   pii_labels  27442 non-null  object\n",
      "dtypes: object(2)\n",
      "memory usage: 428.9+ KB\n"
     ]
    }
   ],
   "source": [
    "# read and combine all dataset\n",
    "df_train = pd.read_json(Setting.data_train)\n",
    "df_nbroad = pd.read_json(Setting.data_nbroad)\n",
    "df_valentinwerner = pd.read_json(Setting.data_valentinwerner)\n",
    "df_alejopaulier = pd.read_json(Setting.data_alejopaulier)\n",
    "df_pjmathematician = pd.read_json(Setting.data_pjmathematician)\n",
    "df_minhsienweng = pd.read_json(Setting.data_minhsienweng)\n",
    "df_mandrilator = pd.read_json(Setting.data_mandrilator)\n",
    "\n",
    "features = ['tokens', 'labels']\n",
    "df = pd.concat([df_train[features],\n",
    "                   df_nbroad[features],\n",
    "                   df_valentinwerner[features],\n",
    "                   df_alejopaulier[features],\n",
    "                   df_pjmathematician[features],\n",
    "                   df_minhsienweng[features],\n",
    "                   df_mandrilator[features]],\n",
    "                   ignore_index=True)\n",
    "\n",
    "df = df[['tokens', 'labels']]\n",
    "df.rename(columns={\"labels\": \"pii_labels\"}, inplace=True)\n",
    "df.info()"
   ]
  },
  {
   "cell_type": "code",
   "execution_count": 7,
   "id": "a85c7a51-f38b-4261-9f73-13f24a3115c9",
   "metadata": {
    "executionInfo": {
     "elapsed": 13,
     "status": "ok",
     "timestamp": 1713359226797,
     "user": {
      "displayName": "ST Boo",
      "userId": "04912196624619410484"
     },
     "user_tz": -480
    },
    "id": "a85c7a51-f38b-4261-9f73-13f24a3115c9"
   },
   "outputs": [],
   "source": [
    "def plot_bar_chart(data, target_column, title, xlabel, ylabel):\n",
    "    target = data[target_column].value_counts(sort=False).reset_index(name='total')\n",
    "    ax = sns.barplot(\n",
    "        data=target,\n",
    "        y='total',\n",
    "        x=target_column,\n",
    "        hue=target_column,\n",
    "        palette='cool',\n",
    "        estimator=lambda x: sum(x)*100.00/target['total'].sum())\n",
    "    plt.tight_layout()\n",
    "    plt.xlabel(xlabel, fontdict={'weight': 'bold'})\n",
    "    plt.ylabel(ylabel, fontdict={'weight': 'bold'})\n",
    "    plt.title(title)\n",
    "    plt.xticks(rotation=0)\n",
    "    plt.tick_params(axis='both', which='major', labelsize=9)\n",
    "    # show percentage on bar for first 3 bars\n",
    "    for index, row in target.iterrows():\n",
    "        y = row.total*100.00/target['total'].sum()\n",
    "        ax.text(row.name, y + 0.15, f'{y:.2f}%', fontsize=9)\n",
    "    ax.get_legend().remove()\n",
    "    plt.show()\n",
    "\n",
    "def down_sample(df, down_sample_ratio, seed):\n",
    "    df['non_pii_entity_only'] = df['pii_labels'].apply(lambda x: sum(label=='O' for label in x)==len(x))\n",
    "\n",
    "    df_non_pii_entity_only = df[df['non_pii_entity_only']].sample(frac=down_sample_ratio, random_state=seed)\n",
    "    df_with_pii_entity = df[~df['non_pii_entity_only']]\n",
    "    df = pd.concat([df_with_pii_entity, df_non_pii_entity_only])\n",
    "\n",
    "    plot_bar_chart(df, 'non_pii_entity_only', \"% of Documents with Non-PII Entity ('O' Label) Only\", \"Non-PII Entity\", \"Percentage\")\n",
    "    print(df['non_pii_entity_only'].value_counts())\n",
    "\n",
    "    df.drop(columns=['non_pii_entity_only'], inplace=True)\n",
    "    return df"
   ]
  },
  {
   "cell_type": "code",
   "execution_count": 8,
   "id": "1f60d164-3719-4b4c-beb8-9e38c71473c4",
   "metadata": {
    "colab": {
     "base_uri": "https://localhost:8080/",
     "height": 734
    },
    "executionInfo": {
     "elapsed": 2627,
     "status": "ok",
     "timestamp": 1713359229412,
     "user": {
      "displayName": "ST Boo",
      "userId": "04912196624619410484"
     },
     "user_tz": -480
    },
    "id": "1f60d164-3719-4b4c-beb8-9e38c71473c4",
    "outputId": "66ff55e1-12bc-4a99-9aea-1ceda4747dfc"
   },
   "outputs": [
    {
     "data": {
      "image/png": "[encoded data removed]",
      "text/plain": [
       "<Figure size 640x480 with 1 Axes>"
      ]
     },
     "metadata": {},
     "output_type": "display_data"
    },
    {
     "name": "stdout",
     "output_type": "stream",
     "text": [
      "non_pii_entity_only\n",
      "False    20430\n",
      "True      2104\n",
      "Name: count, dtype: int64\n",
      "<class 'pandas.core.frame.DataFrame'>\n",
      "Index: 22534 entries, 0 to 23091\n",
      "Data columns (total 2 columns):\n",
      " #   Column      Non-Null Count  Dtype \n",
      "---  ------      --------------  ----- \n",
      " 0   tokens      22534 non-null  object\n",
      " 1   pii_labels  22534 non-null  object\n",
      "dtypes: object(2)\n",
      "memory usage: 528.1+ KB\n"
     ]
    }
   ],
   "source": [
    "df = down_sample(df, Setting.down_sample_ratio, Setting.seed)\n",
    "df.info()"
   ]
  },
  {
   "cell_type": "code",
   "execution_count": 9,
   "id": "fbc40957-3e29-4c84-a091-c059510a9652",
   "metadata": {
    "colab": {
     "base_uri": "https://localhost:8080/"
    },
    "executionInfo": {
     "elapsed": 6319,
     "status": "ok",
     "timestamp": 1713359235728,
     "user": {
      "displayName": "ST Boo",
      "userId": "04912196624619410484"
     },
     "user_tz": -480
    },
    "id": "fbc40957-3e29-4c84-a091-c059510a9652",
    "outputId": "547ff2d8-1fec-4bba-b8dc-d3f17003f1a7"
   },
   "outputs": [
    {
     "data": {
      "text/plain": [
       "Dataset({\n",
       "    features: ['tokens', 'pii_labels', '__index_level_0__'],\n",
       "    num_rows: 22534\n",
       "})"
      ]
     },
     "execution_count": 9,
     "metadata": {},
     "output_type": "execute_result"
    }
   ],
   "source": [
    "ds = Dataset.from_pandas(df)\n",
    "ds"
   ]
  },
  {
   "cell_type": "code",
   "execution_count": 10,
   "id": "217eba84-e002-41fc-a06c-6426a7088e89",
   "metadata": {
    "colab": {
     "base_uri": "https://localhost:8080/"
    },
    "executionInfo": {
     "elapsed": 15,
     "status": "ok",
     "timestamp": 1713359235729,
     "user": {
      "displayName": "ST Boo",
      "userId": "04912196624619410484"
     },
     "user_tz": -480
    },
    "id": "217eba84-e002-41fc-a06c-6426a7088e89",
    "outputId": "9fa98fd2-73cd-4ec5-8c8f-1bd2a24d010f"
   },
   "outputs": [
    {
     "data": {
      "text/plain": [
       "DatasetDict({\n",
       "    train: Dataset({\n",
       "        features: ['tokens', 'pii_labels', '__index_level_0__'],\n",
       "        num_rows: 16900\n",
       "    })\n",
       "    test: Dataset({\n",
       "        features: ['tokens', 'pii_labels', '__index_level_0__'],\n",
       "        num_rows: 5634\n",
       "    })\n",
       "})"
      ]
     },
     "execution_count": 10,
     "metadata": {},
     "output_type": "execute_result"
    }
   ],
   "source": [
    "ds = ds.train_test_split(test_size=0.25, seed=Setting.seed)\n",
    "ds"
   ]
  },
  {
   "cell_type": "code",
   "execution_count": 11,
   "id": "75f2ba8c-229a-460a-9c16-d31829fa028b",
   "metadata": {
    "executionInfo": {
     "elapsed": 14,
     "status": "ok",
     "timestamp": 1713359235729,
     "user": {
      "displayName": "ST Boo",
      "userId": "04912196624619410484"
     },
     "user_tz": -480
    },
    "id": "75f2ba8c-229a-460a-9c16-d31829fa028b"
   },
   "outputs": [],
   "source": [
    "def tokenize_and_align_labels(example, tokenizer, label2id, max_length, stride):\n",
    "    tokenized_inputs = tokenizer(example[\"tokens\"],\n",
    "                                 truncation=True,\n",
    "                                 max_length=max_length,\n",
    "                                 stride=stride,\n",
    "                                 padding=\"max_length\",\n",
    "                                 is_split_into_words=True,\n",
    "                                 return_overflowing_tokens=True)\n",
    "    tokenized_overflow_mappings = tokenized_inputs.overflow_to_sample_mapping\n",
    "    labels = []\n",
    "    #print(len(example[\"tokens\"]), len(tokenized_overflow_mappings))\n",
    "    for idx, overflow_mapping_id in enumerate(tokenized_overflow_mappings):\n",
    "        label_ids = []\n",
    "        previous_word_idx = None\n",
    "        word_ids = tokenized_inputs.word_ids(batch_index=idx) # map tokens to their respective words\n",
    "        label = example[\"pii_labels\"]\n",
    "        # using the overflow_mapping_id\n",
    "        for word_idx in word_ids:  # Set the special tokens to -100.\n",
    "            if word_idx is None:\n",
    "                label_ids.append(-100)\n",
    "            elif word_idx != previous_word_idx:  # Only label the first token of a given word.\n",
    "                label_ids.append(label2id[label[word_idx]])\n",
    "            else:\n",
    "                label_ids.append(-100)\n",
    "            previous_word_idx = word_idx\n",
    "        labels.append(label_ids)\n",
    "\n",
    "    tokenized_inputs[\"labels\"] = labels\n",
    "    return tokenized_inputs"
   ]
  },
  {
   "cell_type": "code",
   "execution_count": 12,
   "id": "c2d7e276-5958-4a41-adf0-e1a2befecd4e",
   "metadata": {
    "colab": {
     "base_uri": "https://localhost:8080/",
     "height": 393,
     "referenced_widgets": [
      "ba3ee12559b745bba445823cc0ef3afb",
      "7bcbef17ea5b4e4b94fd9f25dc8d1440",
      "b6272db306e241699f7e7b9d1f3b62a2",
      "4b14ee4ad3c841478e78570178c540dd",
      "b0d0d32f88e347279baefd63850c6611",
      "c9695579e6b34dbf907ea0a4fc59edb0",
      "16c6b9a732654ab49289a54338c1c2ab",
      "bb6b2a61559d44adba1538060c83a3a6",
      "ea4b8d1d7af842db8b4a0f9e7fc93ff0",
      "84644ae625ad4b1fa932ed84a5fa8a67",
      "d68c2d86ecd04df399e2ba27c4440eac",
      "99f692f4a37d437c9cd173cfecfb04fc",
      "806b14e98f5d4240b0b24839cbfc334d",
      "bf9bcf4408634adfa32eb42e48796d59",
      "6eb00cdf0a6b4d01b8577bb3e8a24bfb",
      "aa647e4c20034e98bad92247e440af2f",
      "8febf0c97208438cbea66f916f8f862c",
      "f2408213931b47e7a63b32218210efe8",
      "79cf15575bcb4323a155a243aedd968a",
      "6a7df70cd00d4fb890aaec68c66b78a4",
      "f001329338a74c6f8312dbbfe93819a1",
      "60194150affb4758bf73bdb5bc8ebdb3"
     ]
    },
    "executionInfo": {
     "elapsed": 147474,
     "status": "ok",
     "timestamp": 1713359383189,
     "user": {
      "displayName": "ST Boo",
      "userId": "04912196624619410484"
     },
     "user_tz": -480
    },
    "id": "c2d7e276-5958-4a41-adf0-e1a2befecd4e",
    "outputId": "3acd5d10-62b5-46a3-fec3-d65cf80dc1bf",
    "tags": []
   },
   "outputs": [
    {
     "name": "stderr",
     "output_type": "stream",
     "text": [
      "/usr/local/lib/python3.10/dist-packages/huggingface_hub/utils/_token.py:88: UserWarning: \n",
      "The secret `HF_TOKEN` does not exist in your Colab secrets.\n",
      "To authenticate with the Hugging Face Hub, create a token in your settings tab (https://huggingface.co/settings/tokens), set it as secret in your Google Colab and restart your session.\n",
      "You will be able to reuse this secret in all of your notebooks.\n",
      "Please note that authentication is recommended but still optional to access public models or datasets.\n",
      "  warnings.warn(\n",
      "/usr/local/lib/python3.10/dist-packages/multiprocess/popen_fork.py:66: RuntimeWarning: os.fork() was called. os.fork() is incompatible with multithreaded code, and JAX is multithreaded, so this will likely lead to a deadlock.\n",
      "  self.pid = os.fork()\n"
     ]
    },
    {
     "data": {
      "application/vnd.jupyter.widget-view+json": {
       "model_id": "ba3ee12559b745bba445823cc0ef3afb",
       "version_major": 2,
       "version_minor": 0
      },
      "text/plain": [
       "Map (num_proc=4):   0%|          | 0/16900 [00:00<?, ? examples/s]"
      ]
     },
     "metadata": {},
     "output_type": "display_data"
    },
    {
     "data": {
      "application/vnd.jupyter.widget-view+json": {
       "model_id": "99f692f4a37d437c9cd173cfecfb04fc",
       "version_major": 2,
       "version_minor": 0
      },
      "text/plain": [
       "Map (num_proc=4):   0%|          | 0/5634 [00:00<?, ? examples/s]"
      ]
     },
     "metadata": {},
     "output_type": "display_data"
    },
    {
     "data": {
      "text/plain": [
       "DatasetDict({\n",
       "    train: Dataset({\n",
       "        features: ['__index_level_0__', 'input_ids', 'token_type_ids', 'attention_mask', 'labels'],\n",
       "        num_rows: 16900\n",
       "    })\n",
       "    test: Dataset({\n",
       "        features: ['__index_level_0__', 'input_ids', 'token_type_ids', 'attention_mask', 'labels'],\n",
       "        num_rows: 5634\n",
       "    })\n",
       "})"
      ]
     },
     "execution_count": 12,
     "metadata": {},
     "output_type": "execute_result"
    }
   ],
   "source": [
    "tokenizer = AutoTokenizer.from_pretrained(Setting.model_checkpoint)\n",
    "\n",
    "tokenized_ds = ds.map(tokenize_and_align_labels,\n",
    "                      fn_kwargs={\"tokenizer\": tokenizer,\n",
    "                                 \"label2id\": Setting.label2id,\n",
    "                                 \"max_length\": Setting.max_length,\n",
    "                                 \"stride\": Setting.stride\n",
    "                                }, num_proc=4)\n",
    "tokenized_ds = tokenized_ds.remove_columns(['tokens', 'pii_labels', 'overflow_to_sample_mapping'])\n",
    "tokenized_ds"
   ]
  },
  {
   "cell_type": "code",
   "execution_count": 13,
   "id": "0f20c876-04dd-482a-a911-7254e0a00b70",
   "metadata": {
    "executionInfo": {
     "elapsed": 15,
     "status": "ok",
     "timestamp": 1713359383190,
     "user": {
      "displayName": "ST Boo",
      "userId": "04912196624619410484"
     },
     "user_tz": -480
    },
    "id": "0f20c876-04dd-482a-a911-7254e0a00b70"
   },
   "outputs": [],
   "source": [
    "def rearrange_tokenized_input(dataset):\n",
    "    tokenized = {\n",
    "        \"input_ids\": [],\n",
    "        \"labels\": [],\n",
    "        \"attention_mask\": [],\n",
    "    }\n",
    "    for i in tqdm(range(len(dataset))):\n",
    "        doc = dataset[i]\n",
    "        for j in range(len(doc[\"input_ids\"])):\n",
    "            tokenized[\"input_ids\"].append(doc[\"input_ids\"][j])\n",
    "            tokenized[\"labels\"].append(doc[\"labels\"][j])\n",
    "            tokenized[\"attention_mask\"].append(doc[\"attention_mask\"][j])\n",
    "    return tokenized"
   ]
  },
  {
   "cell_type": "code",
   "execution_count": 14,
   "id": "b5b27863-4fa2-419b-8b72-a856ead06782",
   "metadata": {
    "colab": {
     "base_uri": "https://localhost:8080/"
    },
    "executionInfo": {
     "elapsed": 45793,
     "status": "ok",
     "timestamp": 1713359428978,
     "user": {
      "displayName": "ST Boo",
      "userId": "04912196624619410484"
     },
     "user_tz": -480
    },
    "id": "b5b27863-4fa2-419b-8b72-a856ead06782",
    "outputId": "57f005bc-88c1-47e6-a4bc-1059fed28f25",
    "tags": []
   },
   "outputs": [
    {
     "name": "stderr",
     "output_type": "stream",
     "text": [
      "100%|██████████| 16900/16900 [00:26<00:00, 630.67it/s]\n",
      "100%|██████████| 5634/5634 [00:08<00:00, 704.10it/s]\n"
     ]
    },
    {
     "data": {
      "text/plain": [
       "DatasetDict({\n",
       "    train: Dataset({\n",
       "        features: ['input_ids', 'labels', 'attention_mask'],\n",
       "        num_rows: 25870\n",
       "    })\n",
       "    test: Dataset({\n",
       "        features: ['input_ids', 'labels', 'attention_mask'],\n",
       "        num_rows: 8597\n",
       "    })\n",
       "})"
      ]
     },
     "execution_count": 14,
     "metadata": {},
     "output_type": "execute_result"
    }
   ],
   "source": [
    "# rearrange tokenized data to model input format\n",
    "tokenized_ds[\"train\"] = Dataset.from_dict(rearrange_tokenized_input(tokenized_ds[\"train\"]))\n",
    "tokenized_ds[\"test\"] = Dataset.from_dict(rearrange_tokenized_input(tokenized_ds[\"test\"]))\n",
    "tokenized_ds"
   ]
  },
  {
   "cell_type": "code",
   "execution_count": 15,
   "id": "760c4a41-e297-447f-92ff-2ec24176f783",
   "metadata": {
    "executionInfo": {
     "elapsed": 17,
     "status": "ok",
     "timestamp": 1713359428978,
     "user": {
      "displayName": "ST Boo",
      "userId": "04912196624619410484"
     },
     "user_tz": -480
    },
    "id": "760c4a41-e297-447f-92ff-2ec24176f783"
   },
   "outputs": [],
   "source": [
    "def compute_metrics(p, id2label):\n",
    "    predictions, labels = p\n",
    "    predictions = np.argmax(predictions, axis=2)\n",
    "\n",
    "    true_predictions = [\n",
    "        [id2label[p] for (p, l) in zip(prediction, label) if l != -100]\n",
    "        for prediction, label in zip(predictions, labels)\n",
    "    ]\n",
    "    true_labels = [\n",
    "        [id2label[l] for (p, l) in zip(prediction, label) if l != -100]\n",
    "        for prediction, label in zip(predictions, labels)\n",
    "    ]\n",
    "\n",
    "    report = classification_report(y_true=true_labels, y_pred=true_predictions, output_dict=True)\n",
    "    micro_avg = report.pop(\"micro avg\")\n",
    "    accuracy = accuracy_score(y_true=true_labels, y_pred=true_predictions)\n",
    "\n",
    "    return {\n",
    "        \"precision\": micro_avg[\"precision\"],\n",
    "        \"recall\": micro_avg[\"recall\"],\n",
    "        \"f1\": micro_avg[\"f1-score\"],\n",
    "        \"accuracy\": accuracy\n",
    "    }"
   ]
  },
  {
   "cell_type": "code",
   "execution_count": 21,
   "id": "af8ea79b-b2a0-40d8-9e17-d8233f31d63e",
   "metadata": {
    "colab": {
     "base_uri": "https://localhost:8080/"
    },
    "executionInfo": {
     "elapsed": 1559,
     "status": "ok",
     "timestamp": 1713360912031,
     "user": {
      "displayName": "ST Boo",
      "userId": "04912196624619410484"
     },
     "user_tz": -480
    },
    "id": "af8ea79b-b2a0-40d8-9e17-d8233f31d63e",
    "outputId": "aefa2e21-dfae-4288-faaf-20bbebdbb742"
   },
   "outputs": [
    {
     "name": "stderr",
     "output_type": "stream",
     "text": [
      "Some weights of BertForTokenClassification were not initialized from the model checkpoint at google-bert/bert-base-uncased and are newly initialized: ['classifier.bias', 'classifier.weight']\n",
      "You should probably TRAIN this model on a down-stream task to be able to use it for predictions and inference.\n",
      "/usr/local/lib/python3.10/dist-packages/accelerate/accelerator.py:436: FutureWarning: Passing the following arguments to `Accelerator` is deprecated and will be removed in version 1.0 of Accelerate: dict_keys(['dispatch_batches', 'split_batches', 'even_batches', 'use_seedable_sampler']). Please pass an `accelerate.DataLoaderConfiguration` instead: \n",
      "dataloader_config = DataLoaderConfiguration(dispatch_batches=None, split_batches=False, even_batches=True, use_seedable_sampler=True)\n",
      "  warnings.warn(\n"
     ]
    }
   ],
   "source": [
    "data_collator = DataCollatorForTokenClassification(tokenizer=tokenizer)\n",
    "\n",
    "model = AutoModelForTokenClassification.from_pretrained(\n",
    "    Setting.model_checkpoint,\n",
    "    num_labels=Setting.num_labels,\n",
    "    id2label=Setting.id2label,\n",
    "    label2id=Setting.label2id\n",
    ")\n",
    "\n",
    "training_args = TrainingArguments(\n",
    "    output_dir=Setting.model_train,\n",
    "    num_train_epochs=Setting.epochs,\n",
    "    learning_rate=Setting.learning_rate,\n",
    "    lr_scheduler_type=Setting.lr_scheduler_type,\n",
    "    warmup_ratio=Setting.warmup_ratio,\n",
    "    weight_decay=Setting.weight_decay,\n",
    "    gradient_accumulation_steps=Setting.grad_steps,\n",
    "    per_device_train_batch_size=Setting.batch_size,\n",
    "    seed=Setting.seed,\n",
    "    evaluation_strategy=\"epoch\",\n",
    "    save_strategy=\"epoch\",\n",
    "    metric_for_best_model=\"f1\",\n",
    "    greater_is_better=True,\n",
    "    load_best_model_at_end=True\n",
    ")\n",
    "\n",
    "trainer = Trainer(\n",
    "    model=model,\n",
    "    args=training_args,\n",
    "    train_dataset=tokenized_ds[\"train\"],\n",
    "    eval_dataset=tokenized_ds[\"test\"],\n",
    "    tokenizer=tokenizer,\n",
    "    data_collator=data_collator,\n",
    "    compute_metrics=partial(compute_metrics, id2label=Setting.id2label)\n",
    ")"
   ]
  },
  {
   "cell_type": "code",
   "execution_count": 22,
   "id": "48bd5732-1109-423b-b33d-a388d87be935",
   "metadata": {
    "colab": {
     "base_uri": "https://localhost:8080/",
     "height": 460
    },
    "executionInfo": {
     "elapsed": 7292705,
     "status": "error",
     "timestamp": 1713368208167,
     "user": {
      "displayName": "ST Boo",
      "userId": "04912196624619410484"
     },
     "user_tz": -480
    },
    "id": "48bd5732-1109-423b-b33d-a388d87be935",
    "outputId": "2fbb16f2-32d3-446f-8ed0-230a3ee45b83"
   },
   "outputs": [
    {
     "data": {
      "text/html": [
       "\n",
       "    <div>\n",
       "      \n",
       "      <progress value='2216' max='4040' style='width:300px; height:20px; vertical-align: middle;'></progress>\n",
       "      [2216/4040 2:01:25 < 1:40:02, 0.30 it/s, Epoch 2.74/5]\n",
       "    </div>\n",
       "    <table border=\"1\" class=\"dataframe\">\n",
       "  <thead>\n",
       " <tr style=\"text-align: left;\">\n",
       "      <th>Epoch</th>\n",
       "      <th>Training Loss</th>\n",
       "      <th>Validation Loss</th>\n",
       "      <th>Precision</th>\n",
       "      <th>Recall</th>\n",
       "      <th>F1</th>\n",
       "      <th>Accuracy</th>\n",
       "    </tr>\n",
       "  </thead>\n",
       "  <tbody>\n",
       "    <tr>\n",
       "      <td>0</td>\n",
       "      <td>0.245600</td>\n",
       "      <td>0.011631</td>\n",
       "      <td>0.898642</td>\n",
       "      <td>0.847804</td>\n",
       "      <td>0.872483</td>\n",
       "      <td>0.996482</td>\n",
       "    </tr>\n",
       "    <tr>\n",
       "      <td>2</td>\n",
       "      <td>0.008800</td>\n",
       "      <td>0.008439</td>\n",
       "      <td>0.946852</td>\n",
       "      <td>0.865090</td>\n",
       "      <td>0.904126</td>\n",
       "      <td>0.997439</td>\n",
       "    </tr>\n",
       "  </tbody>\n",
       "</table><p>"
      ],
      "text/plain": [
       "<IPython.core.display.HTML object>"
      ]
     },
     "metadata": {},
     "output_type": "display_data"
    },
    {
     "ename": "KeyboardInterrupt",
     "evalue": "",
     "output_type": "error",
     "traceback": [
      "\u001b[0;31m---------------------------------------------------------------------------\u001b[0m",
      "\u001b[0;31mKeyboardInterrupt\u001b[0m                         Traceback (most recent call last)",
      "\u001b[0;32m<ipython-input-22-49f2fea7e23f>\u001b[0m in \u001b[0;36m<cell line: 1>\u001b[0;34m()\u001b[0m\n\u001b[0;32m----> 1\u001b[0;31m \u001b[0mtrainer\u001b[0m\u001b[0;34m.\u001b[0m\u001b[0mtrain\u001b[0m\u001b[0;34m(\u001b[0m\u001b[0;34m)\u001b[0m\u001b[0;34m\u001b[0m\u001b[0;34m\u001b[0m\u001b[0m\n\u001b[0m\u001b[1;32m      2\u001b[0m \u001b[0mprint\u001b[0m\u001b[0;34m(\u001b[0m\u001b[0mtrainer\u001b[0m\u001b[0;34m.\u001b[0m\u001b[0mstate\u001b[0m\u001b[0;34m.\u001b[0m\u001b[0mbest_model_checkpoint\u001b[0m\u001b[0;34m)\u001b[0m\u001b[0;34m\u001b[0m\u001b[0;34m\u001b[0m\u001b[0m\n\u001b[1;32m      3\u001b[0m \u001b[0mtrainer\u001b[0m\u001b[0;34m.\u001b[0m\u001b[0msave_model\u001b[0m\u001b[0;34m(\u001b[0m\u001b[0mSetting\u001b[0m\u001b[0;34m.\u001b[0m\u001b[0mmodel_final\u001b[0m\u001b[0;34m)\u001b[0m\u001b[0;34m\u001b[0m\u001b[0;34m\u001b[0m\u001b[0m\n\u001b[1;32m      4\u001b[0m \u001b[0mtokenizer\u001b[0m\u001b[0;34m.\u001b[0m\u001b[0msave_pretrained\u001b[0m\u001b[0;34m(\u001b[0m\u001b[0mSetting\u001b[0m\u001b[0;34m.\u001b[0m\u001b[0mmodel_final\u001b[0m\u001b[0;34m)\u001b[0m\u001b[0;34m\u001b[0m\u001b[0;34m\u001b[0m\u001b[0m\n",
      "\u001b[0;32m/usr/local/lib/python3.10/dist-packages/transformers/trainer.py\u001b[0m in \u001b[0;36mtrain\u001b[0;34m(self, resume_from_checkpoint, trial, ignore_keys_for_eval, **kwargs)\u001b[0m\n\u001b[1;32m   1622\u001b[0m                 \u001b[0mhf_hub_utils\u001b[0m\u001b[0;34m.\u001b[0m\u001b[0menable_progress_bars\u001b[0m\u001b[0;34m(\u001b[0m\u001b[0;34m)\u001b[0m\u001b[0;34m\u001b[0m\u001b[0;34m\u001b[0m\u001b[0m\n\u001b[1;32m   1623\u001b[0m         \u001b[0;32melse\u001b[0m\u001b[0;34m:\u001b[0m\u001b[0;34m\u001b[0m\u001b[0;34m\u001b[0m\u001b[0m\n\u001b[0;32m-> 1624\u001b[0;31m             return inner_training_loop(\n\u001b[0m\u001b[1;32m   1625\u001b[0m                 \u001b[0margs\u001b[0m\u001b[0;34m=\u001b[0m\u001b[0margs\u001b[0m\u001b[0;34m,\u001b[0m\u001b[0;34m\u001b[0m\u001b[0;34m\u001b[0m\u001b[0m\n\u001b[1;32m   1626\u001b[0m                 \u001b[0mresume_from_checkpoint\u001b[0m\u001b[0;34m=\u001b[0m\u001b[0mresume_from_checkpoint\u001b[0m\u001b[0;34m,\u001b[0m\u001b[0;34m\u001b[0m\u001b[0;34m\u001b[0m\u001b[0m\n",
      "\u001b[0;32m/usr/local/lib/python3.10/dist-packages/transformers/trainer.py\u001b[0m in \u001b[0;36m_inner_training_loop\u001b[0;34m(self, batch_size, args, resume_from_checkpoint, trial, ignore_keys_for_eval)\u001b[0m\n\u001b[1;32m   1964\u001b[0m                     \u001b[0margs\u001b[0m\u001b[0;34m.\u001b[0m\u001b[0mlogging_nan_inf_filter\u001b[0m\u001b[0;34m\u001b[0m\u001b[0;34m\u001b[0m\u001b[0m\n\u001b[1;32m   1965\u001b[0m                     \u001b[0;32mand\u001b[0m \u001b[0;32mnot\u001b[0m \u001b[0mis_torch_tpu_available\u001b[0m\u001b[0;34m(\u001b[0m\u001b[0;34m)\u001b[0m\u001b[0;34m\u001b[0m\u001b[0;34m\u001b[0m\u001b[0m\n\u001b[0;32m-> 1966\u001b[0;31m                     \u001b[0;32mand\u001b[0m \u001b[0;34m(\u001b[0m\u001b[0mtorch\u001b[0m\u001b[0;34m.\u001b[0m\u001b[0misnan\u001b[0m\u001b[0;34m(\u001b[0m\u001b[0mtr_loss_step\u001b[0m\u001b[0;34m)\u001b[0m \u001b[0;32mor\u001b[0m \u001b[0mtorch\u001b[0m\u001b[0;34m.\u001b[0m\u001b[0misinf\u001b[0m\u001b[0;34m(\u001b[0m\u001b[0mtr_loss_step\u001b[0m\u001b[0;34m)\u001b[0m\u001b[0;34m)\u001b[0m\u001b[0;34m\u001b[0m\u001b[0;34m\u001b[0m\u001b[0m\n\u001b[0m\u001b[1;32m   1967\u001b[0m                 ):\n\u001b[1;32m   1968\u001b[0m                     \u001b[0;31m# if loss is nan or inf simply add the average of previous logged losses\u001b[0m\u001b[0;34m\u001b[0m\u001b[0;34m\u001b[0m\u001b[0m\n",
      "\u001b[0;31mKeyboardInterrupt\u001b[0m: "
     ]
    }
   ],
   "source": [
    "trainer.train()\n",
    "print(trainer.state.best_model_checkpoint)\n",
    "trainer.save_model(Setting.model_final)\n",
    "tokenizer.save_pretrained(Setting.model_final)"
   ]
  },
  {
   "cell_type": "code",
   "execution_count": 23,
   "id": "YUtvOIa-tCW_",
   "metadata": {
    "colab": {
     "base_uri": "https://localhost:8080/",
     "height": 35
    },
    "executionInfo": {
     "elapsed": 452,
     "status": "ok",
     "timestamp": 1713368221664,
     "user": {
      "displayName": "ST Boo",
      "userId": "04912196624619410484"
     },
     "user_tz": -480
    },
    "id": "YUtvOIa-tCW_",
    "outputId": "d50a9dc9-e2f3-4aac-ad1f-eca9950d2044"
   },
   "outputs": [
    {
     "data": {
      "application/vnd.google.colaboratory.intrinsic+json": {
       "type": "string"
      },
      "text/plain": [
       "'./model/v5/train/checkpoint-1617'"
      ]
     },
     "execution_count": 23,
     "metadata": {},
     "output_type": "execute_result"
    }
   ],
   "source": [
    "trainer.state.best_model_checkpoint"
   ]
  },
  {
   "cell_type": "code",
   "execution_count": 30,
   "id": "iPh3c6fYtI7P",
   "metadata": {
    "executionInfo": {
     "elapsed": 3040,
     "status": "ok",
     "timestamp": 1713368369019,
     "user": {
      "displayName": "ST Boo",
      "userId": "04912196624619410484"
     },
     "user_tz": -480
    },
    "id": "iPh3c6fYtI7P"
   },
   "outputs": [],
   "source": [
    "trainer.save_model(Setting.model_final)"
   ]
  },
  {
   "cell_type": "code",
   "execution_count": 29,
   "id": "fywqFG24tVm5",
   "metadata": {
    "colab": {
     "base_uri": "https://localhost:8080/",
     "height": 35
    },
    "executionInfo": {
     "elapsed": 14,
     "status": "ok",
     "timestamp": 1713368361024,
     "user": {
      "displayName": "ST Boo",
      "userId": "04912196624619410484"
     },
     "user_tz": -480
    },
    "id": "fywqFG24tVm5",
    "outputId": "6349c1a2-46d3-408e-8138-d3580849e66e"
   },
   "outputs": [
    {
     "data": {
      "application/vnd.google.colaboratory.intrinsic+json": {
       "type": "string"
      },
      "text/plain": [
       "'/content/drive/MyDrive/Colab Notebooks/pii-detection/model/v5/final'"
      ]
     },
     "execution_count": 29,
     "metadata": {},
     "output_type": "execute_result"
    }
   ],
   "source": [
    "Setting.model_final = f'{Setting.base_dir}/model/v5/final'\n",
    "Setting.model_final"
   ]
  }
 ],
 "metadata": {
  "accelerator": "GPU",
  "colab": {
   "gpuType": "T4",
   "provenance": []
  },
  "kernelspec": {
   "display_name": "Python 3 (ipykernel)",
   "language": "python",
   "name": "python3"
  },
  "language_info": {
   "codemirror_mode": {
    "name": "ipython",
    "version": 3
   },
   "file_extension": ".py",
   "mimetype": "text/x-python",
   "name": "python",
   "nbconvert_exporter": "python",
   "pygments_lexer": "ipython3",
   "version": "3.10.10"
  },
  "widgets": {
   "application/vnd.jupyter.widget-state+json": {
    "16c6b9a732654ab49289a54338c1c2ab": {
     "model_module": "@jupyter-widgets/controls",
     "model_module_version": "1.5.0",
     "model_name": "DescriptionStyleModel",
     "state": {
      "_model_module": "@jupyter-widgets/controls",
      "_model_module_version": "1.5.0",
      "_model_name": "DescriptionStyleModel",
      "_view_count": null,
      "_view_module": "@jupyter-widgets/base",
      "_view_module_version": "1.2.0",
      "_view_name": "StyleView",
      "description_width": ""
     }
    },
    "4b14ee4ad3c841478e78570178c540dd": {
     "model_module": "@jupyter-widgets/controls",
     "model_module_version": "1.5.0",
     "model_name": "HTMLModel",
     "state": {
      "_dom_classes": [],
      "_model_module": "@jupyter-widgets/controls",
      "_model_module_version": "1.5.0",
      "_model_name": "HTMLModel",
      "_view_count": null,
      "_view_module": "@jupyter-widgets/controls",
      "_view_module_version": "1.5.0",
      "_view_name": "HTMLView",
      "description": "",
      "description_tooltip": null,
      "layout": "IPY_MODEL_84644ae625ad4b1fa932ed84a5fa8a67",
      "placeholder": "​",
      "style": "IPY_MODEL_d68c2d86ecd04df399e2ba27c4440eac",
      "value": " 16900/16900 [01:45&lt;00:00, 72.91 examples/s]"
     }
    },
    "60194150affb4758bf73bdb5bc8ebdb3": {
     "model_module": "@jupyter-widgets/controls",
     "model_module_version": "1.5.0",
     "model_name": "DescriptionStyleModel",
     "state": {
      "_model_module": "@jupyter-widgets/controls",
      "_model_module_version": "1.5.0",
      "_model_name": "DescriptionStyleModel",
      "_view_count": null,
      "_view_module": "@jupyter-widgets/base",
      "_view_module_version": "1.2.0",
      "_view_name": "StyleView",
      "description_width": ""
     }
    },
    "6a7df70cd00d4fb890aaec68c66b78a4": {
     "model_module": "@jupyter-widgets/controls",
     "model_module_version": "1.5.0",
     "model_name": "ProgressStyleModel",
     "state": {
      "_model_module": "@jupyter-widgets/controls",
      "_model_module_version": "1.5.0",
      "_model_name": "ProgressStyleModel",
      "_view_count": null,
      "_view_module": "@jupyter-widgets/base",
      "_view_module_version": "1.2.0",
      "_view_name": "StyleView",
      "bar_color": null,
      "description_width": ""
     }
    },
    "6eb00cdf0a6b4d01b8577bb3e8a24bfb": {
     "model_module": "@jupyter-widgets/controls",
     "model_module_version": "1.5.0",
     "model_name": "HTMLModel",
     "state": {
      "_dom_classes": [],
      "_model_module": "@jupyter-widgets/controls",
      "_model_module_version": "1.5.0",
      "_model_name": "HTMLModel",
      "_view_count": null,
      "_view_module": "@jupyter-widgets/controls",
      "_view_module_version": "1.5.0",
      "_view_name": "HTMLView",
      "description": "",
      "description_tooltip": null,
      "layout": "IPY_MODEL_f001329338a74c6f8312dbbfe93819a1",
      "placeholder": "​",
      "style": "IPY_MODEL_60194150affb4758bf73bdb5bc8ebdb3",
      "value": " 5634/5634 [00:39&lt;00:00, 186.72 examples/s]"
     }
    },
    "79cf15575bcb4323a155a243aedd968a": {
     "model_module": "@jupyter-widgets/base",
     "model_module_version": "1.2.0",
     "model_name": "LayoutModel",
     "state": {
      "_model_module": "@jupyter-widgets/base",
      "_model_module_version": "1.2.0",
      "_model_name": "LayoutModel",
      "_view_count": null,
      "_view_module": "@jupyter-widgets/base",
      "_view_module_version": "1.2.0",
      "_view_name": "LayoutView",
      "align_content": null,
      "align_items": null,
      "align_self": null,
      "border": null,
      "bottom": null,
      "display": null,
      "flex": null,
      "flex_flow": null,
      "grid_area": null,
      "grid_auto_columns": null,
      "grid_auto_flow": null,
      "grid_auto_rows": null,
      "grid_column": null,
      "grid_gap": null,
      "grid_row": null,
      "grid_template_areas": null,
      "grid_template_columns": null,
      "grid_template_rows": null,
      "height": null,
      "justify_content": null,
      "justify_items": null,
      "left": null,
      "margin": null,
      "max_height": null,
      "max_width": null,
      "min_height": null,
      "min_width": null,
      "object_fit": null,
      "object_position": null,
      "order": null,
      "overflow": null,
      "overflow_x": null,
      "overflow_y": null,
      "padding": null,
      "right": null,
      "top": null,
      "visibility": null,
      "width": null
     }
    },
    "7bcbef17ea5b4e4b94fd9f25dc8d1440": {
     "model_module": "@jupyter-widgets/controls",
     "model_module_version": "1.5.0",
     "model_name": "HTMLModel",
     "state": {
      "_dom_classes": [],
      "_model_module": "@jupyter-widgets/controls",
      "_model_module_version": "1.5.0",
      "_model_name": "HTMLModel",
      "_view_count": null,
      "_view_module": "@jupyter-widgets/controls",
      "_view_module_version": "1.5.0",
      "_view_name": "HTMLView",
      "description": "",
      "description_tooltip": null,
      "layout": "IPY_MODEL_c9695579e6b34dbf907ea0a4fc59edb0",
      "placeholder": "​",
      "style": "IPY_MODEL_16c6b9a732654ab49289a54338c1c2ab",
      "value": "Map (num_proc=4): 100%"
     }
    },
    "806b14e98f5d4240b0b24839cbfc334d": {
     "model_module": "@jupyter-widgets/controls",
     "model_module_version": "1.5.0",
     "model_name": "HTMLModel",
     "state": {
      "_dom_classes": [],
      "_model_module": "@jupyter-widgets/controls",
      "_model_module_version": "1.5.0",
      "_model_name": "HTMLModel",
      "_view_count": null,
      "_view_module": "@jupyter-widgets/controls",
      "_view_module_version": "1.5.0",
      "_view_name": "HTMLView",
      "description": "",
      "description_tooltip": null,
      "layout": "IPY_MODEL_8febf0c97208438cbea66f916f8f862c",
      "placeholder": "​",
      "style": "IPY_MODEL_f2408213931b47e7a63b32218210efe8",
      "value": "Map (num_proc=4): 100%"
     }
    },
    "84644ae625ad4b1fa932ed84a5fa8a67": {
     "model_module": "@jupyter-widgets/base",
     "model_module_version": "1.2.0",
     "model_name": "LayoutModel",
     "state": {
      "_model_module": "@jupyter-widgets/base",
      "_model_module_version": "1.2.0",
      "_model_name": "LayoutModel",
      "_view_count": null,
      "_view_module": "@jupyter-widgets/base",
      "_view_module_version": "1.2.0",
      "_view_name": "LayoutView",
      "align_content": null,
      "align_items": null,
      "align_self": null,
      "border": null,
      "bottom": null,
      "display": null,
      "flex": null,
      "flex_flow": null,
      "grid_area": null,
      "grid_auto_columns": null,
      "grid_auto_flow": null,
      "grid_auto_rows": null,
      "grid_column": null,
      "grid_gap": null,
      "grid_row": null,
      "grid_template_areas": null,
      "grid_template_columns": null,
      "grid_template_rows": null,
      "height": null,
      "justify_content": null,
      "justify_items": null,
      "left": null,
      "margin": null,
      "max_height": null,
      "max_width": null,
      "min_height": null,
      "min_width": null,
      "object_fit": null,
      "object_position": null,
      "order": null,
      "overflow": null,
      "overflow_x": null,
      "overflow_y": null,
      "padding": null,
      "right": null,
      "top": null,
      "visibility": null,
      "width": null
     }
    },
    "8febf0c97208438cbea66f916f8f862c": {
     "model_module": "@jupyter-widgets/base",
     "model_module_version": "1.2.0",
     "model_name": "LayoutModel",
     "state": {
      "_model_module": "@jupyter-widgets/base",
      "_model_module_version": "1.2.0",
      "_model_name": "LayoutModel",
      "_view_count": null,
      "_view_module": "@jupyter-widgets/base",
      "_view_module_version": "1.2.0",
      "_view_name": "LayoutView",
      "align_content": null,
      "align_items": null,
      "align_self": null,
      "border": null,
      "bottom": null,
      "display": null,
      "flex": null,
      "flex_flow": null,
      "grid_area": null,
      "grid_auto_columns": null,
      "grid_auto_flow": null,
      "grid_auto_rows": null,
      "grid_column": null,
      "grid_gap": null,
      "grid_row": null,
      "grid_template_areas": null,
      "grid_template_columns": null,
      "grid_template_rows": null,
      "height": null,
      "justify_content": null,
      "justify_items": null,
      "left": null,
      "margin": null,
      "max_height": null,
      "max_width": null,
      "min_height": null,
      "min_width": null,
      "object_fit": null,
      "object_position": null,
      "order": null,
      "overflow": null,
      "overflow_x": null,
      "overflow_y": null,
      "padding": null,
      "right": null,
      "top": null,
      "visibility": null,
      "width": null
     }
    },
    "99f692f4a37d437c9cd173cfecfb04fc": {
     "model_module": "@jupyter-widgets/controls",
     "model_module_version": "1.5.0",
     "model_name": "HBoxModel",
     "state": {
      "_dom_classes": [],
      "_model_module": "@jupyter-widgets/controls",
      "_model_module_version": "1.5.0",
      "_model_name": "HBoxModel",
      "_view_count": null,
      "_view_module": "@jupyter-widgets/controls",
      "_view_module_version": "1.5.0",
      "_view_name": "HBoxView",
      "box_style": "",
      "children": [
       "IPY_MODEL_806b14e98f5d4240b0b24839cbfc334d",
       "IPY_MODEL_bf9bcf4408634adfa32eb42e48796d59",
       "IPY_MODEL_6eb00cdf0a6b4d01b8577bb3e8a24bfb"
      ],
      "layout": "IPY_MODEL_aa647e4c20034e98bad92247e440af2f"
     }
    },
    "aa647e4c20034e98bad92247e440af2f": {
     "model_module": "@jupyter-widgets/base",
     "model_module_version": "1.2.0",
     "model_name": "LayoutModel",
     "state": {
      "_model_module": "@jupyter-widgets/base",
      "_model_module_version": "1.2.0",
      "_model_name": "LayoutModel",
      "_view_count": null,
      "_view_module": "@jupyter-widgets/base",
      "_view_module_version": "1.2.0",
      "_view_name": "LayoutView",
      "align_content": null,
      "align_items": null,
      "align_self": null,
      "border": null,
      "bottom": null,
      "display": null,
      "flex": null,
      "flex_flow": null,
      "grid_area": null,
      "grid_auto_columns": null,
      "grid_auto_flow": null,
      "grid_auto_rows": null,
      "grid_column": null,
      "grid_gap": null,
      "grid_row": null,
      "grid_template_areas": null,
      "grid_template_columns": null,
      "grid_template_rows": null,
      "height": null,
      "justify_content": null,
      "justify_items": null,
      "left": null,
      "margin": null,
      "max_height": null,
      "max_width": null,
      "min_height": null,
      "min_width": null,
      "object_fit": null,
      "object_position": null,
      "order": null,
      "overflow": null,
      "overflow_x": null,
      "overflow_y": null,
      "padding": null,
      "right": null,
      "top": null,
      "visibility": null,
      "width": null
     }
    },
    "b0d0d32f88e347279baefd63850c6611": {
     "model_module": "@jupyter-widgets/base",
     "model_module_version": "1.2.0",
     "model_name": "LayoutModel",
     "state": {
      "_model_module": "@jupyter-widgets/base",
      "_model_module_version": "1.2.0",
      "_model_name": "LayoutModel",
      "_view_count": null,
      "_view_module": "@jupyter-widgets/base",
      "_view_module_version": "1.2.0",
      "_view_name": "LayoutView",
      "align_content": null,
      "align_items": null,
      "align_self": null,
      "border": null,
      "bottom": null,
      "display": null,
      "flex": null,
      "flex_flow": null,
      "grid_area": null,
      "grid_auto_columns": null,
      "grid_auto_flow": null,
      "grid_auto_rows": null,
      "grid_column": null,
      "grid_gap": null,
      "grid_row": null,
      "grid_template_areas": null,
      "grid_template_columns": null,
      "grid_template_rows": null,
      "height": null,
      "justify_content": null,
      "justify_items": null,
      "left": null,
      "margin": null,
      "max_height": null,
      "max_width": null,
      "min_height": null,
      "min_width": null,
      "object_fit": null,
      "object_position": null,
      "order": null,
      "overflow": null,
      "overflow_x": null,
      "overflow_y": null,
      "padding": null,
      "right": null,
      "top": null,
      "visibility": null,
      "width": null
     }
    },
    "b6272db306e241699f7e7b9d1f3b62a2": {
     "model_module": "@jupyter-widgets/controls",
     "model_module_version": "1.5.0",
     "model_name": "FloatProgressModel",
     "state": {
      "_dom_classes": [],
      "_model_module": "@jupyter-widgets/controls",
      "_model_module_version": "1.5.0",
      "_model_name": "FloatProgressModel",
      "_view_count": null,
      "_view_module": "@jupyter-widgets/controls",
      "_view_module_version": "1.5.0",
      "_view_name": "ProgressView",
      "bar_style": "success",
      "description": "",
      "description_tooltip": null,
      "layout": "IPY_MODEL_bb6b2a61559d44adba1538060c83a3a6",
      "max": 16900,
      "min": 0,
      "orientation": "horizontal",
      "style": "IPY_MODEL_ea4b8d1d7af842db8b4a0f9e7fc93ff0",
      "value": 16900
     }
    },
    "ba3ee12559b745bba445823cc0ef3afb": {
     "model_module": "@jupyter-widgets/controls",
     "model_module_version": "1.5.0",
     "model_name": "HBoxModel",
     "state": {
      "_dom_classes": [],
      "_model_module": "@jupyter-widgets/controls",
      "_model_module_version": "1.5.0",
      "_model_name": "HBoxModel",
      "_view_count": null,
      "_view_module": "@jupyter-widgets/controls",
      "_view_module_version": "1.5.0",
      "_view_name": "HBoxView",
      "box_style": "",
      "children": [
       "IPY_MODEL_7bcbef17ea5b4e4b94fd9f25dc8d1440",
       "IPY_MODEL_b6272db306e241699f7e7b9d1f3b62a2",
       "IPY_MODEL_4b14ee4ad3c841478e78570178c540dd"
      ],
      "layout": "IPY_MODEL_b0d0d32f88e347279baefd63850c6611"
     }
    },
    "bb6b2a61559d44adba1538060c83a3a6": {
     "model_module": "@jupyter-widgets/base",
     "model_module_version": "1.2.0",
     "model_name": "LayoutModel",
     "state": {
      "_model_module": "@jupyter-widgets/base",
      "_model_module_version": "1.2.0",
      "_model_name": "LayoutModel",
      "_view_count": null,
      "_view_module": "@jupyter-widgets/base",
      "_view_module_version": "1.2.0",
      "_view_name": "LayoutView",
      "align_content": null,
      "align_items": null,
      "align_self": null,
      "border": null,
      "bottom": null,
      "display": null,
      "flex": null,
      "flex_flow": null,
      "grid_area": null,
      "grid_auto_columns": null,
      "grid_auto_flow": null,
      "grid_auto_rows": null,
      "grid_column": null,
      "grid_gap": null,
      "grid_row": null,
      "grid_template_areas": null,
      "grid_template_columns": null,
      "grid_template_rows": null,
      "height": null,
      "justify_content": null,
      "justify_items": null,
      "left": null,
      "margin": null,
      "max_height": null,
      "max_width": null,
      "min_height": null,
      "min_width": null,
      "object_fit": null,
      "object_position": null,
      "order": null,
      "overflow": null,
      "overflow_x": null,
      "overflow_y": null,
      "padding": null,
      "right": null,
      "top": null,
      "visibility": null,
      "width": null
     }
    },
    "bf9bcf4408634adfa32eb42e48796d59": {
     "model_module": "@jupyter-widgets/controls",
     "model_module_version": "1.5.0",
     "model_name": "FloatProgressModel",
     "state": {
      "_dom_classes": [],
      "_model_module": "@jupyter-widgets/controls",
      "_model_module_version": "1.5.0",
      "_model_name": "FloatProgressModel",
      "_view_count": null,
      "_view_module": "@jupyter-widgets/controls",
      "_view_module_version": "1.5.0",
      "_view_name": "ProgressView",
      "bar_style": "success",
      "description": "",
      "description_tooltip": null,
      "layout": "IPY_MODEL_79cf15575bcb4323a155a243aedd968a",
      "max": 5634,
      "min": 0,
      "orientation": "horizontal",
      "style": "IPY_MODEL_6a7df70cd00d4fb890aaec68c66b78a4",
      "value": 5634
     }
    },
    "c9695579e6b34dbf907ea0a4fc59edb0": {
     "model_module": "@jupyter-widgets/base",
     "model_module_version": "1.2.0",
     "model_name": "LayoutModel",
     "state": {
      "_model_module": "@jupyter-widgets/base",
      "_model_module_version": "1.2.0",
      "_model_name": "LayoutModel",
      "_view_count": null,
      "_view_module": "@jupyter-widgets/base",
      "_view_module_version": "1.2.0",
      "_view_name": "LayoutView",
      "align_content": null,
      "align_items": null,
      "align_self": null,
      "border": null,
      "bottom": null,
      "display": null,
      "flex": null,
      "flex_flow": null,
      "grid_area": null,
      "grid_auto_columns": null,
      "grid_auto_flow": null,
      "grid_auto_rows": null,
      "grid_column": null,
      "grid_gap": null,
      "grid_row": null,
      "grid_template_areas": null,
      "grid_template_columns": null,
      "grid_template_rows": null,
      "height": null,
      "justify_content": null,
      "justify_items": null,
      "left": null,
      "margin": null,
      "max_height": null,
      "max_width": null,
      "min_height": null,
      "min_width": null,
      "object_fit": null,
      "object_position": null,
      "order": null,
      "overflow": null,
      "overflow_x": null,
      "overflow_y": null,
      "padding": null,
      "right": null,
      "top": null,
      "visibility": null,
      "width": null
     }
    },
    "d68c2d86ecd04df399e2ba27c4440eac": {
     "model_module": "@jupyter-widgets/controls",
     "model_module_version": "1.5.0",
     "model_name": "DescriptionStyleModel",
     "state": {
      "_model_module": "@jupyter-widgets/controls",
      "_model_module_version": "1.5.0",
      "_model_name": "DescriptionStyleModel",
      "_view_count": null,
      "_view_module": "@jupyter-widgets/base",
      "_view_module_version": "1.2.0",
      "_view_name": "StyleView",
      "description_width": ""
     }
    },
    "ea4b8d1d7af842db8b4a0f9e7fc93ff0": {
     "model_module": "@jupyter-widgets/controls",
     "model_module_version": "1.5.0",
     "model_name": "ProgressStyleModel",
     "state": {
      "_model_module": "@jupyter-widgets/controls",
      "_model_module_version": "1.5.0",
      "_model_name": "ProgressStyleModel",
      "_view_count": null,
      "_view_module": "@jupyter-widgets/base",
      "_view_module_version": "1.2.0",
      "_view_name": "StyleView",
      "bar_color": null,
      "description_width": ""
     }
    },
    "f001329338a74c6f8312dbbfe93819a1": {
     "model_module": "@jupyter-widgets/base",
     "model_module_version": "1.2.0",
     "model_name": "LayoutModel",
     "state": {
      "_model_module": "@jupyter-widgets/base",
      "_model_module_version": "1.2.0",
      "_model_name": "LayoutModel",
      "_view_count": null,
      "_view_module": "@jupyter-widgets/base",
      "_view_module_version": "1.2.0",
      "_view_name": "LayoutView",
      "align_content": null,
      "align_items": null,
      "align_self": null,
      "border": null,
      "bottom": null,
      "display": null,
      "flex": null,
      "flex_flow": null,
      "grid_area": null,
      "grid_auto_columns": null,
      "grid_auto_flow": null,
      "grid_auto_rows": null,
      "grid_column": null,
      "grid_gap": null,
      "grid_row": null,
      "grid_template_areas": null,
      "grid_template_columns": null,
      "grid_template_rows": null,
      "height": null,
      "justify_content": null,
      "justify_items": null,
      "left": null,
      "margin": null,
      "max_height": null,
      "max_width": null,
      "min_height": null,
      "min_width": null,
      "object_fit": null,
      "object_position": null,
      "order": null,
      "overflow": null,
      "overflow_x": null,
      "overflow_y": null,
      "padding": null,
      "right": null,
      "top": null,
      "visibility": null,
      "width": null
     }
    },
    "f2408213931b47e7a63b32218210efe8": {
     "model_module": "@jupyter-widgets/controls",
     "model_module_version": "1.5.0",
     "model_name": "DescriptionStyleModel",
     "state": {
      "_model_module": "@jupyter-widgets/controls",
      "_model_module_version": "1.5.0",
      "_model_name": "DescriptionStyleModel",
      "_view_count": null,
      "_view_module": "@jupyter-widgets/base",
      "_view_module_version": "1.2.0",
      "_view_name": "StyleView",
      "description_width": ""
     }
    }
   }
  }
 },
 "nbformat": 4,
 "nbformat_minor": 5
}
