{
 "cells": [
  {
   "cell_type": "markdown",
   "id": "9cbc21eb-9562-4364-b3bf-7daef4787f4c",
   "metadata": {},
   "source": [
    "### V3: Fine-Tune DistilBERT\n",
    "- Train Data\n",
    "- Stride 64\n",
    "- Down Sampling 'O' Label 0.20\n",
    "\n",
    "Trained on local machine with RTX 3050 x1\n",
    "\n",
    "Leaderboard \n",
    "- Public Score: 0.874\n",
    "- Private Score: 0.892"
   ]
  },
  {
   "cell_type": "code",
   "execution_count": 1,
   "id": "c0605b11-2d95-4de5-9b44-007a23388cdd",
   "metadata": {},
   "outputs": [],
   "source": [
    "import numpy as np\n",
    "import pandas as pd\n",
    "import matplotlib.pyplot as plt\n",
    "import seaborn as sns\n",
    "import torch\n",
    "\n",
    "from datasets import Dataset\n",
    "from functools import partial\n",
    "from seqeval.metrics import accuracy_score, classification_report\n",
    "from transformers import AutoTokenizer\n",
    "from transformers import DataCollatorForTokenClassification\n",
    "from transformers import AutoModelForTokenClassification, TrainingArguments, Trainer\n",
    "from tqdm import tqdm"
   ]
  },
  {
   "cell_type": "code",
   "execution_count": 2,
   "id": "3bf2ea24-ff74-4da6-a057-fb8bf9ebb5eb",
   "metadata": {},
   "outputs": [],
   "source": [
    "class Setting:\n",
    "    seed = 42\n",
    "    \n",
    "    # data\n",
    "    data = './data/pii-detection-removal-from-educational-data/train.json'\n",
    "    down_sample_ratio = 0.20\n",
    "    \n",
    "    # model\n",
    "    model_checkpoint = \"./model/distilbert/distilbert-base-uncased\"\n",
    "    model_train = './model/v3_0.20/train'\n",
    "    model_final = './model/v3_0.20/final'\n",
    "    max_length = 512\n",
    "    stride = 64\n",
    "    \n",
    "    # hyperparameter\n",
    "    epochs = 5\n",
    "    learning_rate = 3e-5\n",
    "    warmup_ratio = 0.1\n",
    "    lr_scheduler_type='cosine'\n",
    "    weight_decay = 0.01\n",
    "    grad_steps = 2\n",
    "    batch_size = 8\n",
    "    \n",
    "    # PII (NER) tags\n",
    "    labels = [\"B-EMAIL\", \"B-ID_NUM\", \"B-NAME_STUDENT\", \"B-PHONE_NUM\",\n",
    "              \"B-STREET_ADDRESS\", \"B-URL_PERSONAL\", \"B-USERNAME\",\n",
    "              \"I-ID_NUM\", \"I-NAME_STUDENT\", \"I-PHONE_NUM\",\n",
    "              \"I-STREET_ADDRESS\",\"I-URL_PERSONAL\",\"O\"]\n",
    "    id2label = dict(enumerate(labels)) # integer label to BIO format label mapping\n",
    "    label2id = {v:k for k,v in id2label.items()} # BIO format label to integer label mapping\n",
    "    num_labels = len(labels) # number of PII (NER) tags"
   ]
  },
  {
   "cell_type": "code",
   "execution_count": 3,
   "id": "fca3b6d9-d35f-40e8-b1b5-da42f45a08d3",
   "metadata": {},
   "outputs": [
    {
     "data": {
      "text/plain": [
       "<torch._C.Generator at 0x1ade8125b10>"
      ]
     },
     "execution_count": 3,
     "metadata": {},
     "output_type": "execute_result"
    }
   ],
   "source": [
    "np.random.seed(Setting.seed)\n",
    "torch.manual_seed(Setting.seed)"
   ]
  },
  {
   "cell_type": "code",
   "execution_count": 4,
   "id": "8423db54-c852-427d-8ee0-3c20ba1439a9",
   "metadata": {},
   "outputs": [
    {
     "data": {
      "text/html": [
       "<div>\n",
       "<style scoped>\n",
       "    .dataframe tbody tr th:only-of-type {\n",
       "        vertical-align: middle;\n",
       "    }\n",
       "\n",
       "    .dataframe tbody tr th {\n",
       "        vertical-align: top;\n",
       "    }\n",
       "\n",
       "    .dataframe thead th {\n",
       "        text-align: right;\n",
       "    }\n",
       "</style>\n",
       "<table border=\"1\" class=\"dataframe\">\n",
       "  <thead>\n",
       "    <tr style=\"text-align: right;\">\n",
       "      <th></th>\n",
       "      <th>document</th>\n",
       "      <th>full_text</th>\n",
       "      <th>tokens</th>\n",
       "      <th>trailing_whitespace</th>\n",
       "      <th>labels</th>\n",
       "    </tr>\n",
       "  </thead>\n",
       "  <tbody>\n",
       "    <tr>\n",
       "      <th>0</th>\n",
       "      <td>7</td>\n",
       "      <td>Design Thinking for innovation reflexion-Avril...</td>\n",
       "      <td>[Design, Thinking, for, innovation, reflexion,...</td>\n",
       "      <td>[True, True, True, True, False, False, True, F...</td>\n",
       "      <td>[O, O, O, O, O, O, O, O, O, B-NAME_STUDENT, I-...</td>\n",
       "    </tr>\n",
       "    <tr>\n",
       "      <th>1</th>\n",
       "      <td>10</td>\n",
       "      <td>Diego Estrada\\n\\nDesign Thinking Assignment\\n\\...</td>\n",
       "      <td>[Diego, Estrada, \\n\\n, Design, Thinking, Assig...</td>\n",
       "      <td>[True, False, False, True, True, False, False,...</td>\n",
       "      <td>[B-NAME_STUDENT, I-NAME_STUDENT, O, O, O, O, O...</td>\n",
       "    </tr>\n",
       "    <tr>\n",
       "      <th>2</th>\n",
       "      <td>16</td>\n",
       "      <td>Reporting process\\n\\nby Gilberto Gamboa\\n\\nCha...</td>\n",
       "      <td>[Reporting, process, \\n\\n, by, Gilberto, Gambo...</td>\n",
       "      <td>[True, False, False, True, True, False, False,...</td>\n",
       "      <td>[O, O, O, O, B-NAME_STUDENT, I-NAME_STUDENT, O...</td>\n",
       "    </tr>\n",
       "    <tr>\n",
       "      <th>3</th>\n",
       "      <td>20</td>\n",
       "      <td>Design Thinking for Innovation\\n\\nSindy Samaca...</td>\n",
       "      <td>[Design, Thinking, for, Innovation, \\n\\n, Sind...</td>\n",
       "      <td>[True, True, True, False, False, True, False, ...</td>\n",
       "      <td>[O, O, O, O, O, B-NAME_STUDENT, I-NAME_STUDENT...</td>\n",
       "    </tr>\n",
       "    <tr>\n",
       "      <th>4</th>\n",
       "      <td>56</td>\n",
       "      <td>Assignment:  Visualization Reflection  Submitt...</td>\n",
       "      <td>[Assignment, :,   , Visualization,  , Reflecti...</td>\n",
       "      <td>[False, False, False, False, False, False, Fal...</td>\n",
       "      <td>[O, O, O, O, O, O, O, O, O, O, O, O, B-NAME_ST...</td>\n",
       "    </tr>\n",
       "  </tbody>\n",
       "</table>\n",
       "</div>"
      ],
      "text/plain": [
       "   document                                          full_text  \\\n",
       "0         7  Design Thinking for innovation reflexion-Avril...   \n",
       "1        10  Diego Estrada\\n\\nDesign Thinking Assignment\\n\\...   \n",
       "2        16  Reporting process\\n\\nby Gilberto Gamboa\\n\\nCha...   \n",
       "3        20  Design Thinking for Innovation\\n\\nSindy Samaca...   \n",
       "4        56  Assignment:  Visualization Reflection  Submitt...   \n",
       "\n",
       "                                              tokens  \\\n",
       "0  [Design, Thinking, for, innovation, reflexion,...   \n",
       "1  [Diego, Estrada, \\n\\n, Design, Thinking, Assig...   \n",
       "2  [Reporting, process, \\n\\n, by, Gilberto, Gambo...   \n",
       "3  [Design, Thinking, for, Innovation, \\n\\n, Sind...   \n",
       "4  [Assignment, :,   , Visualization,  , Reflecti...   \n",
       "\n",
       "                                 trailing_whitespace  \\\n",
       "0  [True, True, True, True, False, False, True, F...   \n",
       "1  [True, False, False, True, True, False, False,...   \n",
       "2  [True, False, False, True, True, False, False,...   \n",
       "3  [True, True, True, False, False, True, False, ...   \n",
       "4  [False, False, False, False, False, False, Fal...   \n",
       "\n",
       "                                              labels  \n",
       "0  [O, O, O, O, O, O, O, O, O, B-NAME_STUDENT, I-...  \n",
       "1  [B-NAME_STUDENT, I-NAME_STUDENT, O, O, O, O, O...  \n",
       "2  [O, O, O, O, B-NAME_STUDENT, I-NAME_STUDENT, O...  \n",
       "3  [O, O, O, O, O, B-NAME_STUDENT, I-NAME_STUDENT...  \n",
       "4  [O, O, O, O, O, O, O, O, O, O, O, O, B-NAME_ST...  "
      ]
     },
     "execution_count": 4,
     "metadata": {},
     "output_type": "execute_result"
    }
   ],
   "source": [
    "df = pd.read_json(Setting.data)\n",
    "df.head()"
   ]
  },
  {
   "cell_type": "code",
   "execution_count": 5,
   "id": "ff978023-b5f3-4c84-8101-a45f2d55216e",
   "metadata": {},
   "outputs": [
    {
     "name": "stdout",
     "output_type": "stream",
     "text": [
      "<class 'pandas.core.frame.DataFrame'>\n",
      "RangeIndex: 6807 entries, 0 to 6806\n",
      "Data columns (total 3 columns):\n",
      " #   Column      Non-Null Count  Dtype \n",
      "---  ------      --------------  ----- \n",
      " 0   document    6807 non-null   int64 \n",
      " 1   tokens      6807 non-null   object\n",
      " 2   pii_labels  6807 non-null   object\n",
      "dtypes: int64(1), object(2)\n",
      "memory usage: 159.7+ KB\n"
     ]
    }
   ],
   "source": [
    "df = df[['document', 'tokens', 'labels']]\n",
    "df.rename(columns={\"labels\": \"pii_labels\"}, inplace=True)\n",
    "df.info()"
   ]
  },
  {
   "cell_type": "code",
   "execution_count": 6,
   "id": "a85c7a51-f38b-4261-9f73-13f24a3115c9",
   "metadata": {},
   "outputs": [],
   "source": [
    "def plot_bar_chart(data, target_column, title, xlabel, ylabel):\n",
    "    target = data[target_column].value_counts(sort=False).reset_index(name='total')\n",
    "    ax = sns.barplot(\n",
    "        data=target,\n",
    "        y='total',\n",
    "        x=target_column, \n",
    "        hue=target_column,\n",
    "        palette='cool',\n",
    "        estimator=lambda x: sum(x)*100.00/target['total'].sum())\n",
    "    plt.tight_layout()\n",
    "    plt.xlabel(xlabel, fontdict={'weight': 'bold'})\n",
    "    plt.ylabel(ylabel, fontdict={'weight': 'bold'})\n",
    "    plt.title(title)\n",
    "    plt.xticks(rotation=0)\n",
    "    plt.tick_params(axis='both', which='major', labelsize=9)\n",
    "    # show percentage on bar for first 3 bars\n",
    "    for index, row in target.iterrows():\n",
    "        y = row.total*100.00/target['total'].sum()\n",
    "        ax.text(row.name, y + 0.15, f'{y:.2f}%', fontsize=9)        \n",
    "    ax.get_legend().remove()\n",
    "    plt.show()\n",
    "\n",
    "def down_sample(df, down_sample_ratio, seed):\n",
    "    df['non_pii_entity_only'] = df['pii_labels'].apply(lambda x: sum(label=='O' for label in x)==len(x))\n",
    "    \n",
    "    df_non_pii_entity_only = df[df['non_pii_entity_only']].sample(frac=down_sample_ratio, random_state=seed)\n",
    "    df_with_pii_entity = df[~df['non_pii_entity_only']]\n",
    "    df = pd.concat([df_with_pii_entity, df_non_pii_entity_only])\n",
    "    \n",
    "    plot_bar_chart(df, 'non_pii_entity_only', \"% of Documents with Non-PII Entity ('O' Label) Only\", \"Non-PII Entity\", \"Percentage\")\n",
    "    print(df['non_pii_entity_only'].value_counts())\n",
    "    \n",
    "    df.drop(columns=['non_pii_entity_only'], inplace=True)\n",
    "    return df"
   ]
  },
  {
   "cell_type": "code",
   "execution_count": 7,
   "id": "1f60d164-3719-4b4c-beb8-9e38c71473c4",
   "metadata": {},
   "outputs": [
    {
     "data": {
      "image/png": "[encoded data removed]",
      "text/plain": [
       "<Figure size 640x480 with 1 Axes>"
      ]
     },
     "metadata": {},
     "output_type": "display_data"
    },
    {
     "name": "stdout",
     "output_type": "stream",
     "text": [
      "non_pii_entity_only\n",
      "True     1172\n",
      "False     945\n",
      "Name: count, dtype: int64\n",
      "<class 'pandas.core.frame.DataFrame'>\n",
      "Index: 2117 entries, 0 to 5183\n",
      "Data columns (total 3 columns):\n",
      " #   Column      Non-Null Count  Dtype \n",
      "---  ------      --------------  ----- \n",
      " 0   document    2117 non-null   int64 \n",
      " 1   tokens      2117 non-null   object\n",
      " 2   pii_labels  2117 non-null   object\n",
      "dtypes: int64(1), object(2)\n",
      "memory usage: 66.2+ KB\n"
     ]
    }
   ],
   "source": [
    "df = down_sample(df, Setting.down_sample_ratio, Setting.seed)\n",
    "df.info()"
   ]
  },
  {
   "cell_type": "code",
   "execution_count": 8,
   "id": "fbc40957-3e29-4c84-a091-c059510a9652",
   "metadata": {},
   "outputs": [
    {
     "data": {
      "text/plain": [
       "Dataset({\n",
       "    features: ['document', 'tokens', 'pii_labels', '__index_level_0__'],\n",
       "    num_rows: 2117\n",
       "})"
      ]
     },
     "execution_count": 8,
     "metadata": {},
     "output_type": "execute_result"
    }
   ],
   "source": [
    "ds = Dataset.from_pandas(df)\n",
    "ds"
   ]
  },
  {
   "cell_type": "code",
   "execution_count": 9,
   "id": "217eba84-e002-41fc-a06c-6426a7088e89",
   "metadata": {},
   "outputs": [
    {
     "data": {
      "text/plain": [
       "DatasetDict({\n",
       "    train: Dataset({\n",
       "        features: ['document', 'tokens', 'pii_labels', '__index_level_0__'],\n",
       "        num_rows: 1587\n",
       "    })\n",
       "    test: Dataset({\n",
       "        features: ['document', 'tokens', 'pii_labels', '__index_level_0__'],\n",
       "        num_rows: 530\n",
       "    })\n",
       "})"
      ]
     },
     "execution_count": 9,
     "metadata": {},
     "output_type": "execute_result"
    }
   ],
   "source": [
    "ds = ds.train_test_split(test_size=0.25, seed=Setting.seed)\n",
    "ds"
   ]
  },
  {
   "cell_type": "code",
   "execution_count": 10,
   "id": "75f2ba8c-229a-460a-9c16-d31829fa028b",
   "metadata": {},
   "outputs": [],
   "source": [
    "def tokenize_and_align_labels(example, tokenizer, label2id, max_length, stride):\n",
    "    tokenized_inputs = tokenizer(example[\"tokens\"], \n",
    "                                 truncation=True,\n",
    "                                 max_length=max_length,                                  \n",
    "                                 stride=stride, \n",
    "                                 padding=\"max_length\", \n",
    "                                 is_split_into_words=True,\n",
    "                                 return_overflowing_tokens=True)\n",
    "    tokenized_overflow_mappings = tokenized_inputs.overflow_to_sample_mapping\n",
    "    labels = []\n",
    "    #print(len(example[\"tokens\"]), len(tokenized_overflow_mappings))\n",
    "    for idx, overflow_mapping_id in enumerate(tokenized_overflow_mappings):\n",
    "        label_ids = []\n",
    "        previous_word_idx = None\n",
    "        word_ids = tokenized_inputs.word_ids(batch_index=idx) # map tokens to their respective words\n",
    "        label = example[\"pii_labels\"]\n",
    "        # using the overflow_mapping_id\n",
    "        for word_idx in word_ids:  # Set the special tokens to -100.\n",
    "            if word_idx is None:\n",
    "                label_ids.append(-100)\n",
    "            elif word_idx != previous_word_idx:  # Only label the first token of a given word.\n",
    "                label_ids.append(label2id[label[word_idx]])\n",
    "            else:\n",
    "                label_ids.append(-100)\n",
    "            previous_word_idx = word_idx\n",
    "        labels.append(label_ids)\n",
    "\n",
    "    tokenized_inputs[\"labels\"] = labels\n",
    "    return tokenized_inputs"
   ]
  },
  {
   "cell_type": "code",
   "execution_count": 11,
   "id": "c2d7e276-5958-4a41-adf0-e1a2befecd4e",
   "metadata": {
    "tags": []
   },
   "outputs": [
    {
     "data": {
      "application/vnd.jupyter.widget-view+json": {
       "model_id": "be6aa899b35a46b38fb7b62f147d83a3",
       "version_major": 2,
       "version_minor": 0
      },
      "text/plain": [
       "Map (num_proc=4):   0%|          | 0/1587 [00:00<?, ? examples/s]"
      ]
     },
     "metadata": {},
     "output_type": "display_data"
    },
    {
     "data": {
      "application/vnd.jupyter.widget-view+json": {
       "model_id": "3cb605639885490b8bdc1d9a96f8557f",
       "version_major": 2,
       "version_minor": 0
      },
      "text/plain": [
       "Map (num_proc=4):   0%|          | 0/530 [00:00<?, ? examples/s]"
      ]
     },
     "metadata": {},
     "output_type": "display_data"
    },
    {
     "data": {
      "text/plain": [
       "DatasetDict({\n",
       "    train: Dataset({\n",
       "        features: ['__index_level_0__', 'input_ids', 'attention_mask', 'labels'],\n",
       "        num_rows: 1587\n",
       "    })\n",
       "    test: Dataset({\n",
       "        features: ['__index_level_0__', 'input_ids', 'attention_mask', 'labels'],\n",
       "        num_rows: 530\n",
       "    })\n",
       "})"
      ]
     },
     "execution_count": 11,
     "metadata": {},
     "output_type": "execute_result"
    }
   ],
   "source": [
    "tokenizer = AutoTokenizer.from_pretrained(Setting.model_checkpoint)\n",
    "\n",
    "tokenized_ds = ds.map(tokenize_and_align_labels, \n",
    "                      fn_kwargs={\"tokenizer\": tokenizer, \n",
    "                                 \"label2id\": Setting.label2id, \n",
    "                                 \"max_length\": Setting.max_length,\n",
    "                                 \"stride\": Setting.stride\n",
    "                                }, num_proc=4)\n",
    "tokenized_ds = tokenized_ds.remove_columns(['document', 'tokens', 'pii_labels', 'overflow_to_sample_mapping'])\n",
    "tokenized_ds"
   ]
  },
  {
   "cell_type": "code",
   "execution_count": 12,
   "id": "0f20c876-04dd-482a-a911-7254e0a00b70",
   "metadata": {},
   "outputs": [],
   "source": [
    "def rearrange_tokenized_input(dataset):\n",
    "    tokenized = {   \n",
    "        \"input_ids\": [],\n",
    "        \"labels\": [],\n",
    "        \"attention_mask\": [],       \n",
    "    }\n",
    "    for i in tqdm(range(len(dataset))):\n",
    "        doc = dataset[i]\n",
    "        for j in range(len(doc[\"input_ids\"])):\n",
    "            tokenized[\"input_ids\"].append(doc[\"input_ids\"][j])\n",
    "            tokenized[\"labels\"].append(doc[\"labels\"][j])\n",
    "            tokenized[\"attention_mask\"].append(doc[\"attention_mask\"][j])\n",
    "    return tokenized"
   ]
  },
  {
   "cell_type": "code",
   "execution_count": 13,
   "id": "b5b27863-4fa2-419b-8b72-a856ead06782",
   "metadata": {
    "tags": []
   },
   "outputs": [
    {
     "name": "stderr",
     "output_type": "stream",
     "text": [
      "100%|█████████████████████████████████████████████████████████████████████████████| 1587/1587 [00:02<00:00, 620.76it/s]\n",
      "100%|███████████████████████████████████████████████████████████████████████████████| 530/530 [00:00<00:00, 735.10it/s]\n"
     ]
    },
    {
     "data": {
      "text/plain": [
       "DatasetDict({\n",
       "    train: Dataset({\n",
       "        features: ['input_ids', 'labels', 'attention_mask'],\n",
       "        num_rows: 3211\n",
       "    })\n",
       "    test: Dataset({\n",
       "        features: ['input_ids', 'labels', 'attention_mask'],\n",
       "        num_rows: 1071\n",
       "    })\n",
       "})"
      ]
     },
     "execution_count": 13,
     "metadata": {},
     "output_type": "execute_result"
    }
   ],
   "source": [
    "# rearrange tokenized data to model input format\n",
    "tokenized_ds[\"train\"] = Dataset.from_dict(rearrange_tokenized_input(tokenized_ds[\"train\"]))\n",
    "tokenized_ds[\"test\"] = Dataset.from_dict(rearrange_tokenized_input(tokenized_ds[\"test\"]))\n",
    "tokenized_ds"
   ]
  },
  {
   "cell_type": "code",
   "execution_count": 14,
   "id": "760c4a41-e297-447f-92ff-2ec24176f783",
   "metadata": {},
   "outputs": [],
   "source": [
    "def compute_metrics(p, id2label):\n",
    "    predictions, labels = p\n",
    "    predictions = np.argmax(predictions, axis=2)\n",
    "\n",
    "    true_predictions = [\n",
    "        [id2label[p] for (p, l) in zip(prediction, label) if l != -100]\n",
    "        for prediction, label in zip(predictions, labels)\n",
    "    ]\n",
    "    true_labels = [\n",
    "        [id2label[l] for (p, l) in zip(prediction, label) if l != -100]\n",
    "        for prediction, label in zip(predictions, labels)\n",
    "    ]\n",
    "    \n",
    "    report = classification_report(y_true=true_labels, y_pred=true_predictions, output_dict=True)\n",
    "    micro_avg = report.pop(\"micro avg\")\n",
    "    accuracy = accuracy_score(y_true=true_labels, y_pred=true_predictions)\n",
    "    \n",
    "    return {\n",
    "        \"precision\": micro_avg[\"precision\"],\n",
    "        \"recall\": micro_avg[\"recall\"],\n",
    "        \"f1\": micro_avg[\"f1-score\"],\n",
    "        \"accuracy\": accuracy\n",
    "    }"
   ]
  },
  {
   "cell_type": "code",
   "execution_count": 15,
   "id": "af8ea79b-b2a0-40d8-9e17-d8233f31d63e",
   "metadata": {},
   "outputs": [
    {
     "name": "stderr",
     "output_type": "stream",
     "text": [
      "Some weights of DistilBertForTokenClassification were not initialized from the model checkpoint at ./model/distilbert/distilbert-base-uncased and are newly initialized: ['classifier.bias', 'classifier.weight']\n",
      "You should probably TRAIN this model on a down-stream task to be able to use it for predictions and inference.\n",
      "D:\\program\\anaconda\\envs\\fws-dell\\lib\\site-packages\\accelerate\\accelerator.py:436: FutureWarning: Passing the following arguments to `Accelerator` is deprecated and will be removed in version 1.0 of Accelerate: dict_keys(['dispatch_batches', 'split_batches', 'even_batches', 'use_seedable_sampler']). Please pass an `accelerate.DataLoaderConfiguration` instead: \n",
      "dataloader_config = DataLoaderConfiguration(dispatch_batches=None, split_batches=False, even_batches=True, use_seedable_sampler=True)\n",
      "  warnings.warn(\n"
     ]
    }
   ],
   "source": [
    "data_collator = DataCollatorForTokenClassification(tokenizer=tokenizer)\n",
    "\n",
    "model = AutoModelForTokenClassification.from_pretrained(\n",
    "    Setting.model_checkpoint, \n",
    "    num_labels=Setting.num_labels, \n",
    "    id2label=Setting.id2label, \n",
    "    label2id=Setting.label2id\n",
    ")\n",
    "\n",
    "training_args = TrainingArguments(\n",
    "    output_dir=Setting.model_train,\n",
    "    num_train_epochs=Setting.epochs,\n",
    "    learning_rate=Setting.learning_rate,\n",
    "    lr_scheduler_type=Setting.lr_scheduler_type,\n",
    "    warmup_ratio=Setting.warmup_ratio,\n",
    "    weight_decay=Setting.weight_decay,\n",
    "    gradient_accumulation_steps=Setting.grad_steps,\n",
    "    per_device_train_batch_size=Setting.batch_size,\n",
    "    seed=Setting.seed,\n",
    "    evaluation_strategy=\"epoch\",\n",
    "    save_strategy=\"epoch\",\n",
    "    metric_for_best_model=\"f1\",\n",
    "    greater_is_better=True,\n",
    "    load_best_model_at_end=True\n",
    ")\n",
    "\n",
    "trainer = Trainer(\n",
    "    model=model,\n",
    "    args=training_args,\n",
    "    train_dataset=tokenized_ds[\"train\"],\n",
    "    eval_dataset=tokenized_ds[\"test\"],\n",
    "    tokenizer=tokenizer,\n",
    "    data_collator=data_collator,\n",
    "    compute_metrics=partial(compute_metrics, id2label=Setting.id2label)\n",
    ")"
   ]
  },
  {
   "cell_type": "code",
   "execution_count": 16,
   "id": "48bd5732-1109-423b-b33d-a388d87be935",
   "metadata": {},
   "outputs": [
    {
     "data": {
      "text/html": [
       "\n",
       "    <div>\n",
       "      \n",
       "      <progress value='1005' max='1005' style='width:300px; height:20px; vertical-align: middle;'></progress>\n",
       "      [1005/1005 17:02, Epoch 5/5]\n",
       "    </div>\n",
       "    <table border=\"1\" class=\"dataframe\">\n",
       "  <thead>\n",
       " <tr style=\"text-align: left;\">\n",
       "      <th>Epoch</th>\n",
       "      <th>Training Loss</th>\n",
       "      <th>Validation Loss</th>\n",
       "      <th>Precision</th>\n",
       "      <th>Recall</th>\n",
       "      <th>F1</th>\n",
       "      <th>Accuracy</th>\n",
       "    </tr>\n",
       "  </thead>\n",
       "  <tbody>\n",
       "    <tr>\n",
       "      <td>1</td>\n",
       "      <td>No log</td>\n",
       "      <td>0.004995</td>\n",
       "      <td>0.342298</td>\n",
       "      <td>0.328638</td>\n",
       "      <td>0.335329</td>\n",
       "      <td>0.998902</td>\n",
       "    </tr>\n",
       "    <tr>\n",
       "      <td>2</td>\n",
       "      <td>No log</td>\n",
       "      <td>0.002929</td>\n",
       "      <td>0.647658</td>\n",
       "      <td>0.746479</td>\n",
       "      <td>0.693566</td>\n",
       "      <td>0.999241</td>\n",
       "    </tr>\n",
       "    <tr>\n",
       "      <td>3</td>\n",
       "      <td>0.128800</td>\n",
       "      <td>0.002314</td>\n",
       "      <td>0.740230</td>\n",
       "      <td>0.755869</td>\n",
       "      <td>0.747967</td>\n",
       "      <td>0.999445</td>\n",
       "    </tr>\n",
       "    <tr>\n",
       "      <td>4</td>\n",
       "      <td>0.128800</td>\n",
       "      <td>0.002446</td>\n",
       "      <td>0.771499</td>\n",
       "      <td>0.737089</td>\n",
       "      <td>0.753902</td>\n",
       "      <td>0.999491</td>\n",
       "    </tr>\n",
       "    <tr>\n",
       "      <td>5</td>\n",
       "      <td>0.001000</td>\n",
       "      <td>0.002451</td>\n",
       "      <td>0.755294</td>\n",
       "      <td>0.753521</td>\n",
       "      <td>0.754407</td>\n",
       "      <td>0.999472</td>\n",
       "    </tr>\n",
       "  </tbody>\n",
       "</table><p>"
      ],
      "text/plain": [
       "<IPython.core.display.HTML object>"
      ]
     },
     "metadata": {},
     "output_type": "display_data"
    },
    {
     "name": "stderr",
     "output_type": "stream",
     "text": [
      "D:\\program\\anaconda\\envs\\fws-dell\\lib\\site-packages\\seqeval\\metrics\\v1.py:57: UndefinedMetricWarning: Precision and F-score are ill-defined and being set to 0.0 in labels with no predicted samples. Use `zero_division` parameter to control this behavior.\n",
      "  _warn_prf(average, modifier, msg_start, len(result))\n",
      "D:\\program\\anaconda\\envs\\fws-dell\\lib\\site-packages\\seqeval\\metrics\\v1.py:57: UndefinedMetricWarning: Precision and F-score are ill-defined and being set to 0.0 in labels with no predicted samples. Use `zero_division` parameter to control this behavior.\n",
      "  _warn_prf(average, modifier, msg_start, len(result))\n",
      "D:\\program\\anaconda\\envs\\fws-dell\\lib\\site-packages\\seqeval\\metrics\\v1.py:57: UndefinedMetricWarning: Precision and F-score are ill-defined and being set to 0.0 in labels with no predicted samples. Use `zero_division` parameter to control this behavior.\n",
      "  _warn_prf(average, modifier, msg_start, len(result))\n",
      "D:\\program\\anaconda\\envs\\fws-dell\\lib\\site-packages\\seqeval\\metrics\\v1.py:57: UndefinedMetricWarning: Precision and F-score are ill-defined and being set to 0.0 in labels with no predicted samples. Use `zero_division` parameter to control this behavior.\n",
      "  _warn_prf(average, modifier, msg_start, len(result))\n",
      "D:\\program\\anaconda\\envs\\fws-dell\\lib\\site-packages\\seqeval\\metrics\\v1.py:57: UndefinedMetricWarning: Precision and F-score are ill-defined and being set to 0.0 in labels with no predicted samples. Use `zero_division` parameter to control this behavior.\n",
      "  _warn_prf(average, modifier, msg_start, len(result))\n"
     ]
    },
    {
     "name": "stdout",
     "output_type": "stream",
     "text": [
      "./model/v3_0.20/train\\checkpoint-1005\n"
     ]
    },
    {
     "data": {
      "text/plain": [
       "('./model/v3_0.20/final\\\\tokenizer_config.json',\n",
       " './model/v3_0.20/final\\\\special_tokens_map.json',\n",
       " './model/v3_0.20/final\\\\vocab.txt',\n",
       " './model/v3_0.20/final\\\\added_tokens.json',\n",
       " './model/v3_0.20/final\\\\tokenizer.json')"
      ]
     },
     "execution_count": 16,
     "metadata": {},
     "output_type": "execute_result"
    }
   ],
   "source": [
    "trainer.train()\n",
    "print(trainer.state.best_model_checkpoint)\n",
    "trainer.save_model(Setting.model_final)\n",
    "tokenizer.save_pretrained(Setting.model_final)"
   ]
  },
  {
   "cell_type": "code",
   "execution_count": 17,
   "id": "2a170abd-f26a-4de7-bf9d-fc1371a47214",
   "metadata": {},
   "outputs": [
    {
     "data": {
      "text/html": [
       "\n",
       "    <div>\n",
       "      \n",
       "      <progress value='1005' max='1005' style='width:300px; height:20px; vertical-align: middle;'></progress>\n",
       "      [1005/1005 17:19, Epoch 5/5]\n",
       "    </div>\n",
       "    <table border=\"1\" class=\"dataframe\">\n",
       "  <thead>\n",
       " <tr style=\"text-align: left;\">\n",
       "      <th>Epoch</th>\n",
       "      <th>Training Loss</th>\n",
       "      <th>Validation Loss</th>\n",
       "      <th>Precision</th>\n",
       "      <th>Recall</th>\n",
       "      <th>F1</th>\n",
       "      <th>Accuracy</th>\n",
       "    </tr>\n",
       "  </thead>\n",
       "  <tbody>\n",
       "    <tr>\n",
       "      <td>1</td>\n",
       "      <td>No log</td>\n",
       "      <td>0.002549</td>\n",
       "      <td>0.759009</td>\n",
       "      <td>0.791080</td>\n",
       "      <td>0.774713</td>\n",
       "      <td>0.999452</td>\n",
       "    </tr>\n",
       "    <tr>\n",
       "      <td>2</td>\n",
       "      <td>No log</td>\n",
       "      <td>0.002505</td>\n",
       "      <td>0.793970</td>\n",
       "      <td>0.741784</td>\n",
       "      <td>0.766990</td>\n",
       "      <td>0.999464</td>\n",
       "    </tr>\n",
       "    <tr>\n",
       "      <td>3</td>\n",
       "      <td>0.000800</td>\n",
       "      <td>0.002642</td>\n",
       "      <td>0.788235</td>\n",
       "      <td>0.786385</td>\n",
       "      <td>0.787309</td>\n",
       "      <td>0.999467</td>\n",
       "    </tr>\n",
       "    <tr>\n",
       "      <td>4</td>\n",
       "      <td>0.000800</td>\n",
       "      <td>0.002654</td>\n",
       "      <td>0.761261</td>\n",
       "      <td>0.793427</td>\n",
       "      <td>0.777011</td>\n",
       "      <td>0.999467</td>\n",
       "    </tr>\n",
       "    <tr>\n",
       "      <td>5</td>\n",
       "      <td>0.000300</td>\n",
       "      <td>0.002661</td>\n",
       "      <td>0.758389</td>\n",
       "      <td>0.795775</td>\n",
       "      <td>0.776632</td>\n",
       "      <td>0.999462</td>\n",
       "    </tr>\n",
       "  </tbody>\n",
       "</table><p>"
      ],
      "text/plain": [
       "<IPython.core.display.HTML object>"
      ]
     },
     "metadata": {},
     "output_type": "display_data"
    },
    {
     "name": "stderr",
     "output_type": "stream",
     "text": [
      "D:\\program\\anaconda\\envs\\fws-dell\\lib\\site-packages\\seqeval\\metrics\\v1.py:57: UndefinedMetricWarning: Precision and F-score are ill-defined and being set to 0.0 in labels with no predicted samples. Use `zero_division` parameter to control this behavior.\n",
      "  _warn_prf(average, modifier, msg_start, len(result))\n",
      "D:\\program\\anaconda\\envs\\fws-dell\\lib\\site-packages\\seqeval\\metrics\\v1.py:57: UndefinedMetricWarning: Precision and F-score are ill-defined and being set to 0.0 in labels with no predicted samples. Use `zero_division` parameter to control this behavior.\n",
      "  _warn_prf(average, modifier, msg_start, len(result))\n",
      "D:\\program\\anaconda\\envs\\fws-dell\\lib\\site-packages\\seqeval\\metrics\\v1.py:57: UndefinedMetricWarning: Precision and F-score are ill-defined and being set to 0.0 in labels with no predicted samples. Use `zero_division` parameter to control this behavior.\n",
      "  _warn_prf(average, modifier, msg_start, len(result))\n",
      "D:\\program\\anaconda\\envs\\fws-dell\\lib\\site-packages\\seqeval\\metrics\\v1.py:57: UndefinedMetricWarning: Precision and F-score are ill-defined and being set to 0.0 in labels with no predicted samples. Use `zero_division` parameter to control this behavior.\n",
      "  _warn_prf(average, modifier, msg_start, len(result))\n",
      "D:\\program\\anaconda\\envs\\fws-dell\\lib\\site-packages\\seqeval\\metrics\\v1.py:57: UndefinedMetricWarning: Precision and F-score are ill-defined and being set to 0.0 in labels with no predicted samples. Use `zero_division` parameter to control this behavior.\n",
      "  _warn_prf(average, modifier, msg_start, len(result))\n"
     ]
    },
    {
     "name": "stdout",
     "output_type": "stream",
     "text": [
      "./model/v3_0.20/train\\checkpoint-603\n"
     ]
    },
    {
     "data": {
      "text/plain": [
       "('./model/v3_0.20/final\\\\tokenizer_config.json',\n",
       " './model/v3_0.20/final\\\\special_tokens_map.json',\n",
       " './model/v3_0.20/final\\\\vocab.txt',\n",
       " './model/v3_0.20/final\\\\added_tokens.json',\n",
       " './model/v3_0.20/final\\\\tokenizer.json')"
      ]
     },
     "execution_count": 17,
     "metadata": {},
     "output_type": "execute_result"
    }
   ],
   "source": [
    "trainer.train()\n",
    "print(trainer.state.best_model_checkpoint)\n",
    "trainer.save_model(Setting.model_final)\n",
    "tokenizer.save_pretrained(Setting.model_final)"
   ]
  },
  {
   "cell_type": "code",
   "execution_count": 18,
   "id": "3b26312d-7918-4fb6-a64e-c1cbc9712565",
   "metadata": {},
   "outputs": [
    {
     "data": {
      "text/html": [
       "\n",
       "    <div>\n",
       "      \n",
       "      <progress value='1005' max='1005' style='width:300px; height:20px; vertical-align: middle;'></progress>\n",
       "      [1005/1005 17:25, Epoch 5/5]\n",
       "    </div>\n",
       "    <table border=\"1\" class=\"dataframe\">\n",
       "  <thead>\n",
       " <tr style=\"text-align: left;\">\n",
       "      <th>Epoch</th>\n",
       "      <th>Training Loss</th>\n",
       "      <th>Validation Loss</th>\n",
       "      <th>Precision</th>\n",
       "      <th>Recall</th>\n",
       "      <th>F1</th>\n",
       "      <th>Accuracy</th>\n",
       "    </tr>\n",
       "  </thead>\n",
       "  <tbody>\n",
       "    <tr>\n",
       "      <td>1</td>\n",
       "      <td>No log</td>\n",
       "      <td>0.002740</td>\n",
       "      <td>0.791866</td>\n",
       "      <td>0.776995</td>\n",
       "      <td>0.784360</td>\n",
       "      <td>0.999469</td>\n",
       "    </tr>\n",
       "    <tr>\n",
       "      <td>2</td>\n",
       "      <td>No log</td>\n",
       "      <td>0.002847</td>\n",
       "      <td>0.773672</td>\n",
       "      <td>0.786385</td>\n",
       "      <td>0.779977</td>\n",
       "      <td>0.999481</td>\n",
       "    </tr>\n",
       "    <tr>\n",
       "      <td>3</td>\n",
       "      <td>0.000300</td>\n",
       "      <td>0.002945</td>\n",
       "      <td>0.720322</td>\n",
       "      <td>0.840376</td>\n",
       "      <td>0.775731</td>\n",
       "      <td>0.999415</td>\n",
       "    </tr>\n",
       "    <tr>\n",
       "      <td>4</td>\n",
       "      <td>0.000300</td>\n",
       "      <td>0.002685</td>\n",
       "      <td>0.788991</td>\n",
       "      <td>0.807512</td>\n",
       "      <td>0.798144</td>\n",
       "      <td>0.999494</td>\n",
       "    </tr>\n",
       "    <tr>\n",
       "      <td>5</td>\n",
       "      <td>0.000200</td>\n",
       "      <td>0.002688</td>\n",
       "      <td>0.794457</td>\n",
       "      <td>0.807512</td>\n",
       "      <td>0.800931</td>\n",
       "      <td>0.999496</td>\n",
       "    </tr>\n",
       "  </tbody>\n",
       "</table><p>"
      ],
      "text/plain": [
       "<IPython.core.display.HTML object>"
      ]
     },
     "metadata": {},
     "output_type": "display_data"
    },
    {
     "name": "stderr",
     "output_type": "stream",
     "text": [
      "D:\\program\\anaconda\\envs\\fws-dell\\lib\\site-packages\\seqeval\\metrics\\v1.py:57: UndefinedMetricWarning: Precision and F-score are ill-defined and being set to 0.0 in labels with no predicted samples. Use `zero_division` parameter to control this behavior.\n",
      "  _warn_prf(average, modifier, msg_start, len(result))\n",
      "D:\\program\\anaconda\\envs\\fws-dell\\lib\\site-packages\\seqeval\\metrics\\v1.py:57: UndefinedMetricWarning: Precision and F-score are ill-defined and being set to 0.0 in labels with no predicted samples. Use `zero_division` parameter to control this behavior.\n",
      "  _warn_prf(average, modifier, msg_start, len(result))\n",
      "D:\\program\\anaconda\\envs\\fws-dell\\lib\\site-packages\\seqeval\\metrics\\v1.py:57: UndefinedMetricWarning: Precision and F-score are ill-defined and being set to 0.0 in labels with no predicted samples. Use `zero_division` parameter to control this behavior.\n",
      "  _warn_prf(average, modifier, msg_start, len(result))\n",
      "D:\\program\\anaconda\\envs\\fws-dell\\lib\\site-packages\\seqeval\\metrics\\v1.py:57: UndefinedMetricWarning: Precision and F-score are ill-defined and being set to 0.0 in labels with no predicted samples. Use `zero_division` parameter to control this behavior.\n",
      "  _warn_prf(average, modifier, msg_start, len(result))\n",
      "D:\\program\\anaconda\\envs\\fws-dell\\lib\\site-packages\\seqeval\\metrics\\v1.py:57: UndefinedMetricWarning: Precision and F-score are ill-defined and being set to 0.0 in labels with no predicted samples. Use `zero_division` parameter to control this behavior.\n",
      "  _warn_prf(average, modifier, msg_start, len(result))\n"
     ]
    },
    {
     "name": "stdout",
     "output_type": "stream",
     "text": [
      "./model/v3_0.20/train\\checkpoint-1005\n"
     ]
    },
    {
     "data": {
      "text/plain": [
       "('./model/v3_0.20/final\\\\tokenizer_config.json',\n",
       " './model/v3_0.20/final\\\\special_tokens_map.json',\n",
       " './model/v3_0.20/final\\\\vocab.txt',\n",
       " './model/v3_0.20/final\\\\added_tokens.json',\n",
       " './model/v3_0.20/final\\\\tokenizer.json')"
      ]
     },
     "execution_count": 18,
     "metadata": {},
     "output_type": "execute_result"
    }
   ],
   "source": [
    "trainer.train()\n",
    "print(trainer.state.best_model_checkpoint)\n",
    "trainer.save_model(Setting.model_final)\n",
    "tokenizer.save_pretrained(Setting.model_final)"
   ]
  }
 ],
 "metadata": {
  "kernelspec": {
   "display_name": "Python 3 (ipykernel)",
   "language": "python",
   "name": "python3"
  },
  "language_info": {
   "codemirror_mode": {
    "name": "ipython",
    "version": 3
   },
   "file_extension": ".py",
   "mimetype": "text/x-python",
   "name": "python",
   "nbconvert_exporter": "python",
   "pygments_lexer": "ipython3",
   "version": "3.10.10"
  }
 },
 "nbformat": 4,
 "nbformat_minor": 5
}
