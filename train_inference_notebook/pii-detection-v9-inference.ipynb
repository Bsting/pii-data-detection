{
 "cells": [
  {
   "cell_type": "markdown",
   "id": "9f6d1d79-b622-458f-83ba-11f13bc46390",
   "metadata": {},
   "source": [
    "### V9: Fine-Tune DeBERTa-V3-Small \n",
    "- Train Data\n",
    "- Down Sampling 'O' Label 0.30\n",
    "- External Dataset \n",
    "- Evaluation Metric F-Beta5\n",
    "- Cross Validation\n",
    "- Max Length 1024\n",
    "- No Stride\n",
    "\n",
    "Trained on Kaggle with GPU T4 x2\n",
    "\n",
    "Inference\n",
    "- No Truncation\n",
    "- No Stride\n",
    "\n",
    "Leaderboard \n",
    "- Public Score: 0.94756\n",
    "- Private Score: 0.94219"
   ]
  },
  {
   "cell_type": "code",
   "execution_count": 40,
   "id": "94bdd589",
   "metadata": {
    "papermill": {
     "duration": 19.1369,
     "end_time": "2024-04-13T17:29:41.892941",
     "exception": false,
     "start_time": "2024-04-13T17:29:22.756041",
     "status": "completed"
    },
    "tags": []
   },
   "outputs": [],
   "source": [
    "import gc\n",
    "import json\n",
    "import numpy as np\n",
    "import os\n",
    "import pandas as pd\n",
    "import torch\n",
    "\n",
    "from datasets import Dataset\n",
    "from pathlib import Path\n",
    "from scipy.special import softmax\n",
    "from transformers import AutoTokenizer\n",
    "from transformers import DataCollatorForTokenClassification\n",
    "from transformers import AutoModelForTokenClassification, TrainingArguments, Trainer"
   ]
  },
  {
   "cell_type": "code",
   "execution_count": 62,
   "id": "792e0239",
   "metadata": {
    "papermill": {
     "duration": 0.01459,
     "end_time": "2024-04-13T17:29:41.913946",
     "exception": false,
     "start_time": "2024-04-13T17:29:41.899356",
     "status": "completed"
    },
    "tags": []
   },
   "outputs": [],
   "source": [
    "class Setting:\n",
    "    seed = 42\n",
    "    \n",
    "    # data\n",
    "    data = './data/pii-detection-removal-from-educational-data/test.json'\n",
    "    \n",
    "    # model\n",
    "    model_final = './model/v9/final'\n",
    "    max_length = 256\n",
    "    non_pii_label_threshold = 0.98\n",
    "    \n",
    "    # hyperparameter\n",
    "    batch_size = 1"
   ]
  },
  {
   "cell_type": "code",
   "execution_count": 63,
   "id": "ac84aac4-b2aa-4f2f-a644-ac64478fc77a",
   "metadata": {},
   "outputs": [],
   "source": [
    "def clean_memory(): \n",
    "    gc.collect() \n",
    "    torch.cuda.empty_cache()"
   ]
  },
  {
   "cell_type": "code",
   "execution_count": 64,
   "id": "cdc0682b",
   "metadata": {
    "papermill": {
     "duration": 0.0185,
     "end_time": "2024-04-13T17:29:41.938427",
     "exception": false,
     "start_time": "2024-04-13T17:29:41.919927",
     "status": "completed"
    },
    "tags": []
   },
   "outputs": [
    {
     "data": {
      "text/plain": [
       "<torch._C.Generator at 0x2572f0d1cd0>"
      ]
     },
     "execution_count": 64,
     "metadata": {},
     "output_type": "execute_result"
    }
   ],
   "source": [
    "np.random.seed(Setting.seed)\n",
    "torch.manual_seed(Setting.seed)"
   ]
  },
  {
   "cell_type": "code",
   "execution_count": 65,
   "id": "96a3deb9",
   "metadata": {
    "papermill": {
     "duration": 0.053578,
     "end_time": "2024-04-13T17:29:41.998428",
     "exception": false,
     "start_time": "2024-04-13T17:29:41.944850",
     "status": "completed"
    },
    "tags": []
   },
   "outputs": [
    {
     "name": "stdout",
     "output_type": "stream",
     "text": [
      "<class 'pandas.core.frame.DataFrame'>\n",
      "RangeIndex: 10 entries, 0 to 9\n",
      "Data columns (total 4 columns):\n",
      " #   Column               Non-Null Count  Dtype \n",
      "---  ------               --------------  ----- \n",
      " 0   document             10 non-null     int64 \n",
      " 1   full_text            10 non-null     object\n",
      " 2   tokens               10 non-null     object\n",
      " 3   trailing_whitespace  10 non-null     object\n",
      "dtypes: int64(1), object(3)\n",
      "memory usage: 448.0+ bytes\n"
     ]
    }
   ],
   "source": [
    "df = pd.read_json(Setting.data)\n",
    "df.info()"
   ]
  },
  {
   "cell_type": "code",
   "execution_count": 66,
   "id": "7e3d747b",
   "metadata": {
    "papermill": {
     "duration": 0.017889,
     "end_time": "2024-04-13T17:29:42.022634",
     "exception": false,
     "start_time": "2024-04-13T17:29:42.004745",
     "status": "completed"
    },
    "tags": []
   },
   "outputs": [
    {
     "data": {
      "text/plain": [
       "Dataset({\n",
       "    features: ['document', 'tokens'],\n",
       "    num_rows: 10\n",
       "})"
      ]
     },
     "execution_count": 66,
     "metadata": {},
     "output_type": "execute_result"
    }
   ],
   "source": [
    "df = df[['document', 'tokens']]\n",
    "ds = Dataset.from_pandas(df)\n",
    "ds"
   ]
  },
  {
   "cell_type": "code",
   "execution_count": 67,
   "id": "c777abd3",
   "metadata": {
    "papermill": {
     "duration": 0.019572,
     "end_time": "2024-04-13T17:29:42.425781",
     "exception": false,
     "start_time": "2024-04-13T17:29:42.406209",
     "status": "completed"
    },
    "tags": []
   },
   "outputs": [],
   "source": [
    "def tokenize(examples, tokenizer, max_length):\n",
    "    tokenized_inputs = tokenizer(examples[\"tokens\"], \n",
    "                                 truncation=False,\n",
    "                                 max_length=max_length,                                  \n",
    "                                 is_split_into_words=True)\n",
    "    token_maps = []\n",
    "    for i, token in enumerate(examples[f\"tokens\"]):\n",
    "        # map tokens to their respective word.\n",
    "        word_ids = tokenized_inputs.word_ids(batch_index=i)         \n",
    "        previous_word_idx = None\n",
    "        label_ids = []\n",
    "        token_map_ids = []\n",
    "        for word_idx in word_ids:  \n",
    "            if word_idx is None:\n",
    "                # set the special tokens to -1\n",
    "                token_map_ids.append(-1)\n",
    "            elif word_idx != previous_word_idx:\n",
    "                # only label the first token of a given word\n",
    "                token_map_ids.append(word_idx)\n",
    "            else:\n",
    "                # set other tokens to -1\n",
    "                token_map_ids.append(-1)\n",
    "            previous_word_idx = word_idx\n",
    "        token_maps.append(token_map_ids)\n",
    "    tokenized_inputs[\"token_maps\"] = token_maps\n",
    "    return tokenized_inputs"
   ]
  },
  {
   "cell_type": "code",
   "execution_count": 68,
   "id": "f5d695ad",
   "metadata": {
    "papermill": {
     "duration": 0.538154,
     "end_time": "2024-04-13T17:29:42.971403",
     "exception": false,
     "start_time": "2024-04-13T17:29:42.433249",
     "status": "completed"
    },
    "tags": []
   },
   "outputs": [
    {
     "data": {
      "application/vnd.jupyter.widget-view+json": {
       "model_id": "e39dccdb68fe4612ac00fc88a3b7042c",
       "version_major": 2,
       "version_minor": 0
      },
      "text/plain": [
       "Map:   0%|          | 0/10 [00:00<?, ? examples/s]"
      ]
     },
     "metadata": {},
     "output_type": "display_data"
    },
    {
     "data": {
      "text/plain": [
       "Dataset({\n",
       "    features: ['document', 'tokens', 'input_ids', 'token_type_ids', 'attention_mask', 'token_maps'],\n",
       "    num_rows: 10\n",
       "})"
      ]
     },
     "execution_count": 68,
     "metadata": {},
     "output_type": "execute_result"
    }
   ],
   "source": [
    "tokenizer = AutoTokenizer.from_pretrained(Setting.model_final)\n",
    "\n",
    "ds = ds.map(tokenize, \n",
    "            fn_kwargs={\n",
    "              \"tokenizer\": tokenizer, \n",
    "              \"max_length\": Setting.max_length},\n",
    "            batched=True)\n",
    "ds"
   ]
  },
  {
   "cell_type": "code",
   "execution_count": 26,
   "id": "00cb225c",
   "metadata": {
    "papermill": {
     "duration": 0.407081,
     "end_time": "2024-04-13T17:29:43.385630",
     "exception": false,
     "start_time": "2024-04-13T17:29:42.978549",
     "status": "completed"
    },
    "tags": []
   },
   "outputs": [],
   "source": [
    "clean_memory()"
   ]
  },
  {
   "cell_type": "code",
   "execution_count": 10,
   "id": "a0af3d58",
   "metadata": {
    "papermill": {
     "duration": 2.231205,
     "end_time": "2024-04-13T17:29:45.625412",
     "exception": false,
     "start_time": "2024-04-13T17:29:43.394207",
     "status": "completed"
    },
    "tags": []
   },
   "outputs": [
    {
     "name": "stderr",
     "output_type": "stream",
     "text": [
      "D:\\program\\anaconda\\envs\\fws-dell\\lib\\site-packages\\accelerate\\accelerator.py:436: FutureWarning: Passing the following arguments to `Accelerator` is deprecated and will be removed in version 1.0 of Accelerate: dict_keys(['dispatch_batches', 'split_batches', 'even_batches', 'use_seedable_sampler']). Please pass an `accelerate.DataLoaderConfiguration` instead: \n",
      "dataloader_config = DataLoaderConfiguration(dispatch_batches=None, split_batches=False, even_batches=True, use_seedable_sampler=True)\n",
      "  warnings.warn(\n"
     ]
    }
   ],
   "source": [
    "model = AutoModelForTokenClassification.from_pretrained(Setting.model_final)\n",
    "collator = DataCollatorForTokenClassification(tokenizer)\n",
    "args = TrainingArguments(\n",
    "    \".\", \n",
    "    per_device_eval_batch_size=Setting.batch_size, \n",
    "    report_to=\"none\",\n",
    ")\n",
    "trainer = Trainer(\n",
    "    model=model, \n",
    "    args=args, \n",
    "    data_collator=collator, \n",
    "    tokenizer=tokenizer,\n",
    ")"
   ]
  },
  {
   "cell_type": "code",
   "execution_count": 11,
   "id": "449f3604",
   "metadata": {
    "papermill": {
     "duration": 1.370881,
     "end_time": "2024-04-13T17:29:47.034442",
     "exception": false,
     "start_time": "2024-04-13T17:29:45.663561",
     "status": "completed"
    },
    "tags": []
   },
   "outputs": [
    {
     "data": {
      "text/html": [],
      "text/plain": [
       "<IPython.core.display.HTML object>"
      ]
     },
     "metadata": {},
     "output_type": "display_data"
    }
   ],
   "source": [
    "predictions = trainer.predict(ds).predictions\n",
    "predictions_score = softmax(predictions, axis=-1)\n",
    "\n",
    "del model, trainer, tokenizer, predictions\n",
    "clean_memory()"
   ]
  },
  {
   "cell_type": "code",
   "execution_count": 12,
   "id": "2fc86985",
   "metadata": {
    "papermill": {
     "duration": 0.024892,
     "end_time": "2024-04-13T17:29:47.410251",
     "exception": false,
     "start_time": "2024-04-13T17:29:47.385359",
     "status": "completed"
    },
    "tags": []
   },
   "outputs": [],
   "source": [
    "config = json.load(open(Path(Setting.model_final) / \"config.json\"))\n",
    "id2label = config[\"id2label\"]\n",
    "\n",
    "preds_final = []\n",
    "predicted_labels = predictions_score.argmax(-1)\n",
    "predicted_pii_labels = predictions_score[:,:,:12].argmax(-1)\n",
    "non_pii_labels_score = predictions_score[:,:,12]\n",
    "# take from predicted_pii_labels if non_pii_labels_score less than non_pii_label_threshold \n",
    "preds_final.append(np.where(non_pii_labels_score < Setting.non_pii_label_threshold, predicted_pii_labels, predicted_labels))"
   ]
  },
  {
   "cell_type": "code",
   "execution_count": 13,
   "id": "d6c281e5",
   "metadata": {
    "papermill": {
     "duration": 0.141257,
     "end_time": "2024-04-13T17:29:47.562070",
     "exception": false,
     "start_time": "2024-04-13T17:29:47.420813",
     "status": "completed"
    },
    "tags": []
   },
   "outputs": [],
   "source": [
    "pairs = []\n",
    "document, token, label, token_str = [], [], [], []\n",
    "for pred, input_id, token_map, tokens, doc in zip(preds_final[0], ds[\"input_ids\"], ds[\"token_maps\"], ds[\"tokens\"], ds[\"document\"]):\n",
    "    token_length = max(token_map)\n",
    "    for idx in range(len(pred)):\n",
    "        label_pred = id2label[str(pred[idx])]\n",
    "        token_id = token_map[idx]\n",
    "        \n",
    "        if token_map[idx] == -1 or label_pred == 'O':\n",
    "            if token_id == token_length:\n",
    "                break\n",
    "            continue\n",
    "    \n",
    "        pair=(doc, token_id)\n",
    "        if pair not in pairs:\n",
    "            document.append(doc)\n",
    "            token.append(token_id)\n",
    "            label.append(label_pred)\n",
    "            token_str.append(tokens[token_id])\n",
    "            pairs.append(pair)\n",
    "            \n",
    "        if token_id == token_length:\n",
    "            break"
   ]
  },
  {
   "cell_type": "code",
   "execution_count": 14,
   "id": "a3f7afca",
   "metadata": {
    "papermill": {
     "duration": 0.034956,
     "end_time": "2024-04-13T17:29:47.607489",
     "exception": false,
     "start_time": "2024-04-13T17:29:47.572533",
     "status": "completed"
    },
    "tags": []
   },
   "outputs": [
    {
     "data": {
      "text/html": [
       "<div>\n",
       "<style scoped>\n",
       "    .dataframe tbody tr th:only-of-type {\n",
       "        vertical-align: middle;\n",
       "    }\n",
       "\n",
       "    .dataframe tbody tr th {\n",
       "        vertical-align: top;\n",
       "    }\n",
       "\n",
       "    .dataframe thead th {\n",
       "        text-align: right;\n",
       "    }\n",
       "</style>\n",
       "<table border=\"1\" class=\"dataframe\">\n",
       "  <thead>\n",
       "    <tr style=\"text-align: right;\">\n",
       "      <th></th>\n",
       "      <th>document</th>\n",
       "      <th>token</th>\n",
       "      <th>label</th>\n",
       "      <th>token_str</th>\n",
       "      <th>row_id</th>\n",
       "    </tr>\n",
       "  </thead>\n",
       "  <tbody>\n",
       "    <tr>\n",
       "      <th>0</th>\n",
       "      <td>7</td>\n",
       "      <td>9</td>\n",
       "      <td>B-NAME_STUDENT</td>\n",
       "      <td>Nathalie</td>\n",
       "      <td>0</td>\n",
       "    </tr>\n",
       "    <tr>\n",
       "      <th>1</th>\n",
       "      <td>7</td>\n",
       "      <td>10</td>\n",
       "      <td>I-NAME_STUDENT</td>\n",
       "      <td>Sylla</td>\n",
       "      <td>1</td>\n",
       "    </tr>\n",
       "    <tr>\n",
       "      <th>2</th>\n",
       "      <td>7</td>\n",
       "      <td>482</td>\n",
       "      <td>B-NAME_STUDENT</td>\n",
       "      <td>Nathalie</td>\n",
       "      <td>2</td>\n",
       "    </tr>\n",
       "    <tr>\n",
       "      <th>3</th>\n",
       "      <td>7</td>\n",
       "      <td>483</td>\n",
       "      <td>I-NAME_STUDENT</td>\n",
       "      <td>Sylla</td>\n",
       "      <td>3</td>\n",
       "    </tr>\n",
       "    <tr>\n",
       "      <th>4</th>\n",
       "      <td>7</td>\n",
       "      <td>741</td>\n",
       "      <td>B-NAME_STUDENT</td>\n",
       "      <td>Nathalie</td>\n",
       "      <td>4</td>\n",
       "    </tr>\n",
       "    <tr>\n",
       "      <th>5</th>\n",
       "      <td>7</td>\n",
       "      <td>742</td>\n",
       "      <td>I-NAME_STUDENT</td>\n",
       "      <td>Sylla</td>\n",
       "      <td>5</td>\n",
       "    </tr>\n",
       "    <tr>\n",
       "      <th>6</th>\n",
       "      <td>10</td>\n",
       "      <td>0</td>\n",
       "      <td>B-NAME_STUDENT</td>\n",
       "      <td>Diego</td>\n",
       "      <td>6</td>\n",
       "    </tr>\n",
       "    <tr>\n",
       "      <th>7</th>\n",
       "      <td>10</td>\n",
       "      <td>1</td>\n",
       "      <td>I-NAME_STUDENT</td>\n",
       "      <td>Estrada</td>\n",
       "      <td>7</td>\n",
       "    </tr>\n",
       "    <tr>\n",
       "      <th>8</th>\n",
       "      <td>10</td>\n",
       "      <td>464</td>\n",
       "      <td>B-NAME_STUDENT</td>\n",
       "      <td>Diego</td>\n",
       "      <td>8</td>\n",
       "    </tr>\n",
       "    <tr>\n",
       "      <th>9</th>\n",
       "      <td>10</td>\n",
       "      <td>465</td>\n",
       "      <td>I-NAME_STUDENT</td>\n",
       "      <td>Estrada</td>\n",
       "      <td>9</td>\n",
       "    </tr>\n",
       "    <tr>\n",
       "      <th>10</th>\n",
       "      <td>16</td>\n",
       "      <td>4</td>\n",
       "      <td>B-NAME_STUDENT</td>\n",
       "      <td>Gilberto</td>\n",
       "      <td>10</td>\n",
       "    </tr>\n",
       "    <tr>\n",
       "      <th>11</th>\n",
       "      <td>16</td>\n",
       "      <td>5</td>\n",
       "      <td>I-NAME_STUDENT</td>\n",
       "      <td>Gamboa</td>\n",
       "      <td>11</td>\n",
       "    </tr>\n",
       "    <tr>\n",
       "      <th>12</th>\n",
       "      <td>20</td>\n",
       "      <td>5</td>\n",
       "      <td>B-NAME_STUDENT</td>\n",
       "      <td>Sindy</td>\n",
       "      <td>12</td>\n",
       "    </tr>\n",
       "    <tr>\n",
       "      <th>13</th>\n",
       "      <td>20</td>\n",
       "      <td>6</td>\n",
       "      <td>I-NAME_STUDENT</td>\n",
       "      <td>Samaca</td>\n",
       "      <td>13</td>\n",
       "    </tr>\n",
       "    <tr>\n",
       "      <th>14</th>\n",
       "      <td>56</td>\n",
       "      <td>12</td>\n",
       "      <td>B-NAME_STUDENT</td>\n",
       "      <td>Nadine</td>\n",
       "      <td>14</td>\n",
       "    </tr>\n",
       "    <tr>\n",
       "      <th>15</th>\n",
       "      <td>56</td>\n",
       "      <td>13</td>\n",
       "      <td>I-NAME_STUDENT</td>\n",
       "      <td>Born</td>\n",
       "      <td>15</td>\n",
       "    </tr>\n",
       "    <tr>\n",
       "      <th>16</th>\n",
       "      <td>86</td>\n",
       "      <td>6</td>\n",
       "      <td>B-NAME_STUDENT</td>\n",
       "      <td>Eladio</td>\n",
       "      <td>16</td>\n",
       "    </tr>\n",
       "    <tr>\n",
       "      <th>17</th>\n",
       "      <td>86</td>\n",
       "      <td>7</td>\n",
       "      <td>I-NAME_STUDENT</td>\n",
       "      <td>Amaya</td>\n",
       "      <td>17</td>\n",
       "    </tr>\n",
       "    <tr>\n",
       "      <th>18</th>\n",
       "      <td>93</td>\n",
       "      <td>0</td>\n",
       "      <td>B-NAME_STUDENT</td>\n",
       "      <td>Silvia</td>\n",
       "      <td>18</td>\n",
       "    </tr>\n",
       "    <tr>\n",
       "      <th>19</th>\n",
       "      <td>93</td>\n",
       "      <td>1</td>\n",
       "      <td>I-NAME_STUDENT</td>\n",
       "      <td>Villalobos</td>\n",
       "      <td>19</td>\n",
       "    </tr>\n",
       "    <tr>\n",
       "      <th>20</th>\n",
       "      <td>104</td>\n",
       "      <td>7</td>\n",
       "      <td>B-NAME_STUDENT</td>\n",
       "      <td>Dr</td>\n",
       "      <td>20</td>\n",
       "    </tr>\n",
       "    <tr>\n",
       "      <th>21</th>\n",
       "      <td>104</td>\n",
       "      <td>8</td>\n",
       "      <td>B-NAME_STUDENT</td>\n",
       "      <td>Sakir</td>\n",
       "      <td>21</td>\n",
       "    </tr>\n",
       "    <tr>\n",
       "      <th>22</th>\n",
       "      <td>104</td>\n",
       "      <td>9</td>\n",
       "      <td>I-NAME_STUDENT</td>\n",
       "      <td>Ahmad</td>\n",
       "      <td>22</td>\n",
       "    </tr>\n",
       "    <tr>\n",
       "      <th>23</th>\n",
       "      <td>112</td>\n",
       "      <td>5</td>\n",
       "      <td>B-NAME_STUDENT</td>\n",
       "      <td>Francisco</td>\n",
       "      <td>23</td>\n",
       "    </tr>\n",
       "    <tr>\n",
       "      <th>24</th>\n",
       "      <td>112</td>\n",
       "      <td>6</td>\n",
       "      <td>I-NAME_STUDENT</td>\n",
       "      <td>Ferreira</td>\n",
       "      <td>24</td>\n",
       "    </tr>\n",
       "    <tr>\n",
       "      <th>25</th>\n",
       "      <td>123</td>\n",
       "      <td>32</td>\n",
       "      <td>B-NAME_STUDENT</td>\n",
       "      <td>Stefano</td>\n",
       "      <td>25</td>\n",
       "    </tr>\n",
       "    <tr>\n",
       "      <th>26</th>\n",
       "      <td>123</td>\n",
       "      <td>33</td>\n",
       "      <td>I-NAME_STUDENT</td>\n",
       "      <td>Lovato</td>\n",
       "      <td>26</td>\n",
       "    </tr>\n",
       "  </tbody>\n",
       "</table>\n",
       "</div>"
      ],
      "text/plain": [
       "    document  token           label   token_str  row_id\n",
       "0          7      9  B-NAME_STUDENT    Nathalie       0\n",
       "1          7     10  I-NAME_STUDENT       Sylla       1\n",
       "2          7    482  B-NAME_STUDENT    Nathalie       2\n",
       "3          7    483  I-NAME_STUDENT       Sylla       3\n",
       "4          7    741  B-NAME_STUDENT    Nathalie       4\n",
       "5          7    742  I-NAME_STUDENT       Sylla       5\n",
       "6         10      0  B-NAME_STUDENT       Diego       6\n",
       "7         10      1  I-NAME_STUDENT     Estrada       7\n",
       "8         10    464  B-NAME_STUDENT       Diego       8\n",
       "9         10    465  I-NAME_STUDENT     Estrada       9\n",
       "10        16      4  B-NAME_STUDENT    Gilberto      10\n",
       "11        16      5  I-NAME_STUDENT      Gamboa      11\n",
       "12        20      5  B-NAME_STUDENT       Sindy      12\n",
       "13        20      6  I-NAME_STUDENT      Samaca      13\n",
       "14        56     12  B-NAME_STUDENT      Nadine      14\n",
       "15        56     13  I-NAME_STUDENT        Born      15\n",
       "16        86      6  B-NAME_STUDENT      Eladio      16\n",
       "17        86      7  I-NAME_STUDENT       Amaya      17\n",
       "18        93      0  B-NAME_STUDENT      Silvia      18\n",
       "19        93      1  I-NAME_STUDENT  Villalobos      19\n",
       "20       104      7  B-NAME_STUDENT          Dr      20\n",
       "21       104      8  B-NAME_STUDENT       Sakir      21\n",
       "22       104      9  I-NAME_STUDENT       Ahmad      22\n",
       "23       112      5  B-NAME_STUDENT   Francisco      23\n",
       "24       112      6  I-NAME_STUDENT    Ferreira      24\n",
       "25       123     32  B-NAME_STUDENT     Stefano      25\n",
       "26       123     33  I-NAME_STUDENT      Lovato      26"
      ]
     },
     "metadata": {},
     "output_type": "display_data"
    }
   ],
   "source": [
    "df = pd.DataFrame({\n",
    "    \"document\": document,\n",
    "    \"token\": token,\n",
    "    \"label\": label,\n",
    "    \"token_str\": token_str\n",
    "})\n",
    "df[\"row_id\"] = list(range(len(df)))\n",
    "display(df.head(100))"
   ]
  },
  {
   "cell_type": "code",
   "execution_count": 15,
   "id": "0040a73d",
   "metadata": {
    "papermill": {
     "duration": 0.023539,
     "end_time": "2024-04-13T17:29:47.642747",
     "exception": false,
     "start_time": "2024-04-13T17:29:47.619208",
     "status": "completed"
    },
    "tags": []
   },
   "outputs": [],
   "source": [
    "df[[\"row_id\", \"document\", \"token\", \"label\"]].to_csv(\"submission.csv\", index=False)"
   ]
  },
  {
   "cell_type": "code",
   "execution_count": 16,
   "id": "21d80ea5-5fae-44da-aec4-f13ef575d3c0",
   "metadata": {},
   "outputs": [],
   "source": [
    "df.to_csv(\"submission1.csv\", index=False)"
   ]
  },
  {
   "attachments": {
    "a245f86a-be7a-40cb-9f1c-ea12759b9fee.png": {
     "image/png": "[encoded data removed]"
    }
   },
   "cell_type": "markdown",
   "id": "46104543-98e0-4f92-8f2a-a0a28724c0b8",
   "metadata": {},
   "source": [
    "![image.png](attachment:a245f86a-be7a-40cb-9f1c-ea12759b9fee.png)"
   ]
  }
 ],
 "metadata": {
  "kaggle": {
   "accelerator": "gpu",
   "dataSources": [
    {
     "databundleVersionId": 7500999,
     "sourceId": 66653,
     "sourceType": "competition"
    },
    {
     "isSourceIdPinned": true,
     "modelInstanceId": 25691,
     "sourceId": 30587,
     "sourceType": "modelInstanceVersion"
    }
   ],
   "dockerImageVersionId": 30684,
   "isGpuEnabled": true,
   "isInternetEnabled": false,
   "language": "python",
   "sourceType": "notebook"
  },
  "kernelspec": {
   "display_name": "Python 3 (ipykernel)",
   "language": "python",
   "name": "python3"
  },
  "language_info": {
   "codemirror_mode": {
    "name": "ipython",
    "version": 3
   },
   "file_extension": ".py",
   "mimetype": "text/x-python",
   "name": "python",
   "nbconvert_exporter": "python",
   "pygments_lexer": "ipython3",
   "version": "3.10.10"
  },
  "papermill": {
   "default_parameters": {},
   "duration": 31.269583,
   "end_time": "2024-04-13T17:29:51.001931",
   "environment_variables": {},
   "exception": null,
   "input_path": "__notebook__.ipynb",
   "output_path": "__notebook__.ipynb",
   "parameters": {},
   "start_time": "2024-04-13T17:29:19.732348",
   "version": "2.5.0"
  },
  "widgets": {
   "application/vnd.jupyter.widget-state+json": {
    "state": {
     "06123e0355f842bcacb5ffc1732b77fe": {
      "model_module": "@jupyter-widgets/controls",
      "model_module_version": "1.5.0",
      "model_name": "HTMLModel",
      "state": {
       "_dom_classes": [],
       "_model_module": "@jupyter-widgets/controls",
       "_model_module_version": "1.5.0",
       "_model_name": "HTMLModel",
       "_view_count": null,
       "_view_module": "@jupyter-widgets/controls",
       "_view_module_version": "1.5.0",
       "_view_name": "HTMLView",
       "description": "",
       "description_tooltip": null,
       "layout": "IPY_MODEL_9fe419384bd44db1a2c96120b3c53a6f",
       "placeholder": "​",
       "style": "IPY_MODEL_0a3afc60362f46daa50975a894663bc4",
       "value": "Map (num_proc=2): 100%"
      }
     },
     "0a3afc60362f46daa50975a894663bc4": {
      "model_module": "@jupyter-widgets/controls",
      "model_module_version": "1.5.0",
      "model_name": "DescriptionStyleModel",
      "state": {
       "_model_module": "@jupyter-widgets/controls",
       "_model_module_version": "1.5.0",
       "_model_name": "DescriptionStyleModel",
       "_view_count": null,
       "_view_module": "@jupyter-widgets/base",
       "_view_module_version": "1.2.0",
       "_view_name": "StyleView",
       "description_width": ""
      }
     },
     "2f1f31b8b1004343bbaec432e5a5811a": {
      "model_module": "@jupyter-widgets/controls",
      "model_module_version": "1.5.0",
      "model_name": "FloatProgressModel",
      "state": {
       "_dom_classes": [],
       "_model_module": "@jupyter-widgets/controls",
       "_model_module_version": "1.5.0",
       "_model_name": "FloatProgressModel",
       "_view_count": null,
       "_view_module": "@jupyter-widgets/controls",
       "_view_module_version": "1.5.0",
       "_view_name": "ProgressView",
       "bar_style": "success",
       "description": "",
       "description_tooltip": null,
       "layout": "IPY_MODEL_503d0721ed4242fabb34c0b7b6b2c1e6",
       "max": 10,
       "min": 0,
       "orientation": "horizontal",
       "style": "IPY_MODEL_ace1bea3cd88442fab1efd23418b0d88",
       "value": 10
      }
     },
     "503d0721ed4242fabb34c0b7b6b2c1e6": {
      "model_module": "@jupyter-widgets/base",
      "model_module_version": "1.2.0",
      "model_name": "LayoutModel",
      "state": {
       "_model_module": "@jupyter-widgets/base",
       "_model_module_version": "1.2.0",
       "_model_name": "LayoutModel",
       "_view_count": null,
       "_view_module": "@jupyter-widgets/base",
       "_view_module_version": "1.2.0",
       "_view_name": "LayoutView",
       "align_content": null,
       "align_items": null,
       "align_self": null,
       "border": null,
       "bottom": null,
       "display": null,
       "flex": null,
       "flex_flow": null,
       "grid_area": null,
       "grid_auto_columns": null,
       "grid_auto_flow": null,
       "grid_auto_rows": null,
       "grid_column": null,
       "grid_gap": null,
       "grid_row": null,
       "grid_template_areas": null,
       "grid_template_columns": null,
       "grid_template_rows": null,
       "height": null,
       "justify_content": null,
       "justify_items": null,
       "left": null,
       "margin": null,
       "max_height": null,
       "max_width": null,
       "min_height": null,
       "min_width": null,
       "object_fit": null,
       "object_position": null,
       "order": null,
       "overflow": null,
       "overflow_x": null,
       "overflow_y": null,
       "padding": null,
       "right": null,
       "top": null,
       "visibility": null,
       "width": null
      }
     },
     "6999c159c38440f1bc30ba7dac7c8440": {
      "model_module": "@jupyter-widgets/controls",
      "model_module_version": "1.5.0",
      "model_name": "HBoxModel",
      "state": {
       "_dom_classes": [],
       "_model_module": "@jupyter-widgets/controls",
       "_model_module_version": "1.5.0",
       "_model_name": "HBoxModel",
       "_view_count": null,
       "_view_module": "@jupyter-widgets/controls",
       "_view_module_version": "1.5.0",
       "_view_name": "HBoxView",
       "box_style": "",
       "children": [
        "IPY_MODEL_06123e0355f842bcacb5ffc1732b77fe",
        "IPY_MODEL_2f1f31b8b1004343bbaec432e5a5811a",
        "IPY_MODEL_7cb73505f2e743a188f6c8c10a3b4d5a"
       ],
       "layout": "IPY_MODEL_b6018cb5b6be44619006ee3c3fcd730e"
      }
     },
     "7cb73505f2e743a188f6c8c10a3b4d5a": {
      "model_module": "@jupyter-widgets/controls",
      "model_module_version": "1.5.0",
      "model_name": "HTMLModel",
      "state": {
       "_dom_classes": [],
       "_model_module": "@jupyter-widgets/controls",
       "_model_module_version": "1.5.0",
       "_model_name": "HTMLModel",
       "_view_count": null,
       "_view_module": "@jupyter-widgets/controls",
       "_view_module_version": "1.5.0",
       "_view_name": "HTMLView",
       "description": "",
       "description_tooltip": null,
       "layout": "IPY_MODEL_99999c614474462cb98598e3317c7610",
       "placeholder": "​",
       "style": "IPY_MODEL_de0d499196184bb88997f72f2ced96f6",
       "value": " 10/10 [00:00&lt;00:00, 25.00 examples/s]"
      }
     },
     "99999c614474462cb98598e3317c7610": {
      "model_module": "@jupyter-widgets/base",
      "model_module_version": "1.2.0",
      "model_name": "LayoutModel",
      "state": {
       "_model_module": "@jupyter-widgets/base",
       "_model_module_version": "1.2.0",
       "_model_name": "LayoutModel",
       "_view_count": null,
       "_view_module": "@jupyter-widgets/base",
       "_view_module_version": "1.2.0",
       "_view_name": "LayoutView",
       "align_content": null,
       "align_items": null,
       "align_self": null,
       "border": null,
       "bottom": null,
       "display": null,
       "flex": null,
       "flex_flow": null,
       "grid_area": null,
       "grid_auto_columns": null,
       "grid_auto_flow": null,
       "grid_auto_rows": null,
       "grid_column": null,
       "grid_gap": null,
       "grid_row": null,
       "grid_template_areas": null,
       "grid_template_columns": null,
       "grid_template_rows": null,
       "height": null,
       "justify_content": null,
       "justify_items": null,
       "left": null,
       "margin": null,
       "max_height": null,
       "max_width": null,
       "min_height": null,
       "min_width": null,
       "object_fit": null,
       "object_position": null,
       "order": null,
       "overflow": null,
       "overflow_x": null,
       "overflow_y": null,
       "padding": null,
       "right": null,
       "top": null,
       "visibility": null,
       "width": null
      }
     },
     "9fe419384bd44db1a2c96120b3c53a6f": {
      "model_module": "@jupyter-widgets/base",
      "model_module_version": "1.2.0",
      "model_name": "LayoutModel",
      "state": {
       "_model_module": "@jupyter-widgets/base",
       "_model_module_version": "1.2.0",
       "_model_name": "LayoutModel",
       "_view_count": null,
       "_view_module": "@jupyter-widgets/base",
       "_view_module_version": "1.2.0",
       "_view_name": "LayoutView",
       "align_content": null,
       "align_items": null,
       "align_self": null,
       "border": null,
       "bottom": null,
       "display": null,
       "flex": null,
       "flex_flow": null,
       "grid_area": null,
       "grid_auto_columns": null,
       "grid_auto_flow": null,
       "grid_auto_rows": null,
       "grid_column": null,
       "grid_gap": null,
       "grid_row": null,
       "grid_template_areas": null,
       "grid_template_columns": null,
       "grid_template_rows": null,
       "height": null,
       "justify_content": null,
       "justify_items": null,
       "left": null,
       "margin": null,
       "max_height": null,
       "max_width": null,
       "min_height": null,
       "min_width": null,
       "object_fit": null,
       "object_position": null,
       "order": null,
       "overflow": null,
       "overflow_x": null,
       "overflow_y": null,
       "padding": null,
       "right": null,
       "top": null,
       "visibility": null,
       "width": null
      }
     },
     "ace1bea3cd88442fab1efd23418b0d88": {
      "model_module": "@jupyter-widgets/controls",
      "model_module_version": "1.5.0",
      "model_name": "ProgressStyleModel",
      "state": {
       "_model_module": "@jupyter-widgets/controls",
       "_model_module_version": "1.5.0",
       "_model_name": "ProgressStyleModel",
       "_view_count": null,
       "_view_module": "@jupyter-widgets/base",
       "_view_module_version": "1.2.0",
       "_view_name": "StyleView",
       "bar_color": null,
       "description_width": ""
      }
     },
     "b6018cb5b6be44619006ee3c3fcd730e": {
      "model_module": "@jupyter-widgets/base",
      "model_module_version": "1.2.0",
      "model_name": "LayoutModel",
      "state": {
       "_model_module": "@jupyter-widgets/base",
       "_model_module_version": "1.2.0",
       "_model_name": "LayoutModel",
       "_view_count": null,
       "_view_module": "@jupyter-widgets/base",
       "_view_module_version": "1.2.0",
       "_view_name": "LayoutView",
       "align_content": null,
       "align_items": null,
       "align_self": null,
       "border": null,
       "bottom": null,
       "display": null,
       "flex": null,
       "flex_flow": null,
       "grid_area": null,
       "grid_auto_columns": null,
       "grid_auto_flow": null,
       "grid_auto_rows": null,
       "grid_column": null,
       "grid_gap": null,
       "grid_row": null,
       "grid_template_areas": null,
       "grid_template_columns": null,
       "grid_template_rows": null,
       "height": null,
       "justify_content": null,
       "justify_items": null,
       "left": null,
       "margin": null,
       "max_height": null,
       "max_width": null,
       "min_height": null,
       "min_width": null,
       "object_fit": null,
       "object_position": null,
       "order": null,
       "overflow": null,
       "overflow_x": null,
       "overflow_y": null,
       "padding": null,
       "right": null,
       "top": null,
       "visibility": null,
       "width": null
      }
     },
     "de0d499196184bb88997f72f2ced96f6": {
      "model_module": "@jupyter-widgets/controls",
      "model_module_version": "1.5.0",
      "model_name": "DescriptionStyleModel",
      "state": {
       "_model_module": "@jupyter-widgets/controls",
       "_model_module_version": "1.5.0",
       "_model_name": "DescriptionStyleModel",
       "_view_count": null,
       "_view_module": "@jupyter-widgets/base",
       "_view_module_version": "1.2.0",
       "_view_name": "StyleView",
       "description_width": ""
      }
     }
    },
    "version_major": 2,
    "version_minor": 0
   }
  }
 },
 "nbformat": 4,
 "nbformat_minor": 5
}
