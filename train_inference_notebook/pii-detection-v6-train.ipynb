{
 "cells": [
  {
   "cell_type": "markdown",
   "id": "9cbc21eb-9562-4364-b3bf-7daef4787f4c",
   "metadata": {},
   "source": [
    "### V6: Fine-Tune DistilBERT\n",
    "- Train Data\n",
    "- Stride 64\n",
    "- Down Sampling 'O' Label 0.30\n",
    "- External Dataset\n",
    "- Evaluation Metric F-Beta5\n",
    "\n",
    "Trained on local machine with RTX 3050 x1\n",
    "\n",
    "Leaderboard \n",
    "- Public Score: 0.891\n",
    "- Private Score: 0.892"
   ]
  },
  {
   "cell_type": "code",
   "execution_count": 1,
   "id": "c0605b11-2d95-4de5-9b44-007a23388cdd",
   "metadata": {},
   "outputs": [],
   "source": [
    "import numpy as np\n",
    "import pandas as pd\n",
    "import matplotlib.pyplot as plt\n",
    "import seaborn as sns\n",
    "import torch\n",
    "\n",
    "from datasets import Dataset\n",
    "from functools import partial\n",
    "from seqeval.metrics import accuracy_score, classification_report\n",
    "from transformers import AutoTokenizer\n",
    "from transformers import DataCollatorForTokenClassification\n",
    "from transformers import AutoModelForTokenClassification, TrainingArguments, Trainer\n",
    "from tqdm import tqdm"
   ]
  },
  {
   "cell_type": "code",
   "execution_count": 2,
   "id": "3bf2ea24-ff74-4da6-a057-fb8bf9ebb5eb",
   "metadata": {},
   "outputs": [],
   "source": [
    "class Setting:\n",
    "    seed = 42\n",
    "    \n",
    "    # data\n",
    "    data_train = \"./data/pii-detection-removal-from-educational-data/train.json\"\n",
    "    data_nbroad = \"./data/pii-dd-mistral-generated/mixtral-8x7b-v1.json\"\n",
    "    data_valentinwerner = \"./data/pii-label-specific-data/all_labels.json\"\n",
    "    data_alejopaulier = \"./data/fix-punctuation-tokenization-external-dataset/pii_dataset_fixed.json\"\n",
    "    data_pjmathematician = \"./data/fix-punctuation-tokenization-external-dataset/moredata_dataset_fixed.json\"\n",
    "    data_minhsienweng = \"./data/ai-generated-text-dataset/pii_dataset_Gemma.json\"\n",
    "    data_mandrilator = \"./data/pii-mistral-2k-fit-competition-v2/all_labels.json\"\n",
    "    \n",
    "    down_sample_ratio = 0.30\n",
    "    \n",
    "    # model\n",
    "    model_checkpoint = \"./model/distilbert/distilbert-base-uncased\"\n",
    "    model_train = './model/v6/train'\n",
    "    model_final = './model/v6/final'\n",
    "    max_length = 512\n",
    "    stride = 64\n",
    "    \n",
    "    # hyperparameter\n",
    "    epochs = 10\n",
    "    learning_rate = 3e-5\n",
    "    warmup_ratio = 0.1\n",
    "    lr_scheduler_type='cosine'\n",
    "    weight_decay = 0.01\n",
    "    grad_steps = 2\n",
    "    batch_size = 8\n",
    "    \n",
    "    # PII (NER) tags\n",
    "    labels = [\"B-EMAIL\", \"B-ID_NUM\", \"B-NAME_STUDENT\", \"B-PHONE_NUM\",\n",
    "              \"B-STREET_ADDRESS\", \"B-URL_PERSONAL\", \"B-USERNAME\",\n",
    "              \"I-ID_NUM\", \"I-NAME_STUDENT\", \"I-PHONE_NUM\",\n",
    "              \"I-STREET_ADDRESS\",\"I-URL_PERSONAL\",\"O\"]\n",
    "    id2label = dict(enumerate(labels)) # integer label to BIO format label mapping\n",
    "    label2id = {v:k for k,v in id2label.items()} # BIO format label to integer label mapping\n",
    "    num_labels = len(labels) # number of PII (NER) tags"
   ]
  },
  {
   "cell_type": "code",
   "execution_count": 3,
   "id": "fca3b6d9-d35f-40e8-b1b5-da42f45a08d3",
   "metadata": {},
   "outputs": [
    {
     "data": {
      "text/plain": [
       "<torch._C.Generator at 0x2ce23c4daf0>"
      ]
     },
     "execution_count": 3,
     "metadata": {},
     "output_type": "execute_result"
    }
   ],
   "source": [
    "np.random.seed(Setting.seed)\n",
    "torch.manual_seed(Setting.seed)"
   ]
  },
  {
   "cell_type": "code",
   "execution_count": 4,
   "id": "ff978023-b5f3-4c84-8101-a45f2d55216e",
   "metadata": {},
   "outputs": [
    {
     "name": "stdout",
     "output_type": "stream",
     "text": [
      "<class 'pandas.core.frame.DataFrame'>\n",
      "RangeIndex: 27442 entries, 0 to 27441\n",
      "Data columns (total 2 columns):\n",
      " #   Column      Non-Null Count  Dtype \n",
      "---  ------      --------------  ----- \n",
      " 0   tokens      27442 non-null  object\n",
      " 1   pii_labels  27442 non-null  object\n",
      "dtypes: object(2)\n",
      "memory usage: 428.9+ KB\n"
     ]
    }
   ],
   "source": [
    "# read and combine all dataset\n",
    "df_train = pd.read_json(Setting.data_train)\n",
    "df_nbroad = pd.read_json(Setting.data_nbroad)\n",
    "df_valentinwerner = pd.read_json(Setting.data_valentinwerner)\n",
    "df_alejopaulier = pd.read_json(Setting.data_alejopaulier)\n",
    "df_pjmathematician = pd.read_json(Setting.data_pjmathematician)\n",
    "df_minhsienweng = pd.read_json(Setting.data_minhsienweng)\n",
    "df_mandrilator = pd.read_json(Setting.data_mandrilator)\n",
    "\n",
    "features = ['tokens', 'labels']\n",
    "df = pd.concat([df_train[features], \n",
    "                   df_nbroad[features], \n",
    "                   df_valentinwerner[features], \n",
    "                   df_alejopaulier[features], \n",
    "                   df_pjmathematician[features],\n",
    "                   df_minhsienweng[features],\n",
    "                   df_mandrilator[features]],\n",
    "                   ignore_index=True)\n",
    "\n",
    "df = df[['tokens', 'labels']]\n",
    "df.rename(columns={\"labels\": \"pii_labels\"}, inplace=True)\n",
    "df.info()"
   ]
  },
  {
   "cell_type": "code",
   "execution_count": 5,
   "id": "a85c7a51-f38b-4261-9f73-13f24a3115c9",
   "metadata": {},
   "outputs": [],
   "source": [
    "def plot_bar_chart(data, target_column, title, xlabel, ylabel):\n",
    "    target = data[target_column].value_counts(sort=False).reset_index(name='total')\n",
    "    ax = sns.barplot(\n",
    "        data=target,\n",
    "        y='total',\n",
    "        x=target_column, \n",
    "        hue=target_column,\n",
    "        palette='cool',\n",
    "        estimator=lambda x: sum(x)*100.00/target['total'].sum())\n",
    "    plt.tight_layout()\n",
    "    plt.xlabel(xlabel, fontdict={'weight': 'bold'})\n",
    "    plt.ylabel(ylabel, fontdict={'weight': 'bold'})\n",
    "    plt.title(title)\n",
    "    plt.xticks(rotation=0)\n",
    "    plt.tick_params(axis='both', which='major', labelsize=9)\n",
    "    # show percentage on bar for first 3 bars\n",
    "    for index, row in target.iterrows():\n",
    "        y = row.total*100.00/target['total'].sum()\n",
    "        ax.text(row.name, y + 0.15, f'{y:.2f}%', fontsize=9)        \n",
    "    ax.get_legend().remove()\n",
    "    plt.show()\n",
    "\n",
    "def down_sample(df, down_sample_ratio, seed):\n",
    "    df['non_pii_entity_only'] = df['pii_labels'].apply(lambda x: sum(label=='O' for label in x)==len(x))\n",
    "    \n",
    "    df_non_pii_entity_only = df[df['non_pii_entity_only']].sample(frac=down_sample_ratio, random_state=seed)\n",
    "    df_with_pii_entity = df[~df['non_pii_entity_only']]\n",
    "    df = pd.concat([df_with_pii_entity, df_non_pii_entity_only])\n",
    "    \n",
    "    plot_bar_chart(df, 'non_pii_entity_only', \"% of Documents with Non-PII Entity ('O' Label) Only\", \"Non-PII Entity\", \"Percentage\")\n",
    "    print(df['non_pii_entity_only'].value_counts())\n",
    "    \n",
    "    df.drop(columns=['non_pii_entity_only'], inplace=True)\n",
    "    return df"
   ]
  },
  {
   "cell_type": "code",
   "execution_count": 6,
   "id": "1f60d164-3719-4b4c-beb8-9e38c71473c4",
   "metadata": {},
   "outputs": [
    {
     "data": {
      "image/png": "[encoded data removed]",
      "text/plain": [
       "<Figure size 640x480 with 1 Axes>"
      ]
     },
     "metadata": {},
     "output_type": "display_data"
    },
    {
     "name": "stdout",
     "output_type": "stream",
     "text": [
      "non_pii_entity_only\n",
      "False    20430\n",
      "True      2104\n",
      "Name: count, dtype: int64\n",
      "<class 'pandas.core.frame.DataFrame'>\n",
      "Index: 22534 entries, 0 to 23091\n",
      "Data columns (total 2 columns):\n",
      " #   Column      Non-Null Count  Dtype \n",
      "---  ------      --------------  ----- \n",
      " 0   tokens      22534 non-null  object\n",
      " 1   pii_labels  22534 non-null  object\n",
      "dtypes: object(2)\n",
      "memory usage: 528.1+ KB\n"
     ]
    }
   ],
   "source": [
    "df = down_sample(df, Setting.down_sample_ratio, Setting.seed)\n",
    "df.info()"
   ]
  },
  {
   "cell_type": "code",
   "execution_count": 7,
   "id": "fbc40957-3e29-4c84-a091-c059510a9652",
   "metadata": {},
   "outputs": [
    {
     "data": {
      "text/plain": [
       "Dataset({\n",
       "    features: ['tokens', 'pii_labels', '__index_level_0__'],\n",
       "    num_rows: 22534\n",
       "})"
      ]
     },
     "execution_count": 7,
     "metadata": {},
     "output_type": "execute_result"
    }
   ],
   "source": [
    "ds = Dataset.from_pandas(df)\n",
    "ds"
   ]
  },
  {
   "cell_type": "code",
   "execution_count": 8,
   "id": "217eba84-e002-41fc-a06c-6426a7088e89",
   "metadata": {},
   "outputs": [
    {
     "data": {
      "text/plain": [
       "DatasetDict({\n",
       "    train: Dataset({\n",
       "        features: ['tokens', 'pii_labels', '__index_level_0__'],\n",
       "        num_rows: 16900\n",
       "    })\n",
       "    test: Dataset({\n",
       "        features: ['tokens', 'pii_labels', '__index_level_0__'],\n",
       "        num_rows: 5634\n",
       "    })\n",
       "})"
      ]
     },
     "execution_count": 8,
     "metadata": {},
     "output_type": "execute_result"
    }
   ],
   "source": [
    "ds = ds.train_test_split(test_size=0.25, seed=Setting.seed)\n",
    "ds"
   ]
  },
  {
   "cell_type": "code",
   "execution_count": 9,
   "id": "75f2ba8c-229a-460a-9c16-d31829fa028b",
   "metadata": {},
   "outputs": [],
   "source": [
    "def tokenize_and_align_labels(example, tokenizer, label2id, max_length, stride):\n",
    "    tokenized_inputs = tokenizer(example[\"tokens\"], \n",
    "                                 truncation=True,\n",
    "                                 max_length=max_length,                                  \n",
    "                                 stride=stride, \n",
    "                                 padding=\"max_length\", \n",
    "                                 is_split_into_words=True,\n",
    "                                 return_overflowing_tokens=True)\n",
    "    tokenized_overflow_mappings = tokenized_inputs.overflow_to_sample_mapping\n",
    "    labels = []\n",
    "    #print(len(example[\"tokens\"]), len(tokenized_overflow_mappings))\n",
    "    for idx, overflow_mapping_id in enumerate(tokenized_overflow_mappings):\n",
    "        label_ids = []\n",
    "        previous_word_idx = None\n",
    "        word_ids = tokenized_inputs.word_ids(batch_index=idx) # map tokens to their respective words\n",
    "        label = example[\"pii_labels\"]\n",
    "        # using the overflow_mapping_id\n",
    "        for word_idx in word_ids:  # Set the special tokens to -100.\n",
    "            if word_idx is None:\n",
    "                label_ids.append(-100)\n",
    "            elif word_idx != previous_word_idx:  # Only label the first token of a given word.\n",
    "                label_ids.append(label2id[label[word_idx]])\n",
    "            else:\n",
    "                label_ids.append(-100)\n",
    "            previous_word_idx = word_idx\n",
    "        labels.append(label_ids)\n",
    "\n",
    "    tokenized_inputs[\"labels\"] = labels\n",
    "    return tokenized_inputs"
   ]
  },
  {
   "cell_type": "code",
   "execution_count": 10,
   "id": "c2d7e276-5958-4a41-adf0-e1a2befecd4e",
   "metadata": {
    "tags": []
   },
   "outputs": [
    {
     "data": {
      "application/vnd.jupyter.widget-view+json": {
       "model_id": "3a4896fe9079485688cf7d00e5754111",
       "version_major": 2,
       "version_minor": 0
      },
      "text/plain": [
       "Map (num_proc=4):   0%|          | 0/16900 [00:00<?, ? examples/s]"
      ]
     },
     "metadata": {},
     "output_type": "display_data"
    },
    {
     "data": {
      "application/vnd.jupyter.widget-view+json": {
       "model_id": "73886d5eec98479db43ea39e4ee61677",
       "version_major": 2,
       "version_minor": 0
      },
      "text/plain": [
       "Map (num_proc=4):   0%|          | 0/5634 [00:00<?, ? examples/s]"
      ]
     },
     "metadata": {},
     "output_type": "display_data"
    },
    {
     "data": {
      "text/plain": [
       "DatasetDict({\n",
       "    train: Dataset({\n",
       "        features: ['__index_level_0__', 'input_ids', 'attention_mask', 'labels'],\n",
       "        num_rows: 16900\n",
       "    })\n",
       "    test: Dataset({\n",
       "        features: ['__index_level_0__', 'input_ids', 'attention_mask', 'labels'],\n",
       "        num_rows: 5634\n",
       "    })\n",
       "})"
      ]
     },
     "execution_count": 10,
     "metadata": {},
     "output_type": "execute_result"
    }
   ],
   "source": [
    "tokenizer = AutoTokenizer.from_pretrained(Setting.model_checkpoint)\n",
    "\n",
    "tokenized_ds = ds.map(tokenize_and_align_labels, \n",
    "                      fn_kwargs={\"tokenizer\": tokenizer, \n",
    "                                 \"label2id\": Setting.label2id, \n",
    "                                 \"max_length\": Setting.max_length,\n",
    "                                 \"stride\": Setting.stride\n",
    "                                }, num_proc=4)\n",
    "tokenized_ds = tokenized_ds.remove_columns(['tokens', 'pii_labels', 'overflow_to_sample_mapping'])\n",
    "tokenized_ds"
   ]
  },
  {
   "cell_type": "code",
   "execution_count": 11,
   "id": "0f20c876-04dd-482a-a911-7254e0a00b70",
   "metadata": {},
   "outputs": [],
   "source": [
    "def rearrange_tokenized_input(dataset):\n",
    "    tokenized = {   \n",
    "        \"input_ids\": [],\n",
    "        \"labels\": [],\n",
    "        \"attention_mask\": [],       \n",
    "    }\n",
    "    for i in tqdm(range(len(dataset))):\n",
    "        doc = dataset[i]\n",
    "        for j in range(len(doc[\"input_ids\"])):\n",
    "            tokenized[\"input_ids\"].append(doc[\"input_ids\"][j])\n",
    "            tokenized[\"labels\"].append(doc[\"labels\"][j])\n",
    "            tokenized[\"attention_mask\"].append(doc[\"attention_mask\"][j])\n",
    "    return tokenized"
   ]
  },
  {
   "cell_type": "code",
   "execution_count": 12,
   "id": "b5b27863-4fa2-419b-8b72-a856ead06782",
   "metadata": {
    "tags": []
   },
   "outputs": [
    {
     "name": "stderr",
     "output_type": "stream",
     "text": [
      "100%|███████████████████████████████████████████████████████████████████████████| 16900/16900 [00:18<00:00, 901.09it/s]\n",
      "100%|█████████████████████████████████████████████████████████████████████████████| 5634/5634 [00:06<00:00, 842.02it/s]\n"
     ]
    },
    {
     "data": {
      "text/plain": [
       "DatasetDict({\n",
       "    train: Dataset({\n",
       "        features: ['input_ids', 'labels', 'attention_mask'],\n",
       "        num_rows: 25870\n",
       "    })\n",
       "    test: Dataset({\n",
       "        features: ['input_ids', 'labels', 'attention_mask'],\n",
       "        num_rows: 8597\n",
       "    })\n",
       "})"
      ]
     },
     "execution_count": 12,
     "metadata": {},
     "output_type": "execute_result"
    }
   ],
   "source": [
    "# rearrange tokenized data to model input format\n",
    "tokenized_ds[\"train\"] = Dataset.from_dict(rearrange_tokenized_input(tokenized_ds[\"train\"]))\n",
    "tokenized_ds[\"test\"] = Dataset.from_dict(rearrange_tokenized_input(tokenized_ds[\"test\"]))\n",
    "tokenized_ds"
   ]
  },
  {
   "attachments": {
    "05030abc-336a-464a-b560-1f241a978c62.png": {
     "image/png": "[encoded data removed]"
    }
   },
   "cell_type": "markdown",
   "id": "203ace45-998e-4a13-9fd3-687fd75a0fc6",
   "metadata": {},
   "source": [
    "![image.png](attachment:05030abc-336a-464a-b560-1f241a978c62.png)\n",
    "- The value of β is set to 5, which means that recall is weighted 5 times more heavily than precision."
   ]
  },
  {
   "cell_type": "code",
   "execution_count": 13,
   "id": "760c4a41-e297-447f-92ff-2ec24176f783",
   "metadata": {},
   "outputs": [],
   "source": [
    "def compute_metrics(p, id2label):\n",
    "    predictions, labels = p\n",
    "    predictions = np.argmax(predictions, axis=2)\n",
    "\n",
    "    true_predictions = [\n",
    "        [id2label[p] for (p, l) in zip(prediction, label) if l != -100]\n",
    "        for prediction, label in zip(predictions, labels)\n",
    "    ]\n",
    "    true_labels = [\n",
    "        [id2label[l] for (p, l) in zip(prediction, label) if l != -100]\n",
    "        for prediction, label in zip(predictions, labels)\n",
    "    ]\n",
    "    \n",
    "    report = classification_report(y_true=true_labels, y_pred=true_predictions, output_dict=True)\n",
    "    micro_avg = report.pop(\"micro avg\")    \n",
    "    \n",
    "    precision = micro_avg[\"precision\"]\n",
    "    recall = micro_avg[\"recall\"]\n",
    "    beta = 5\n",
    "    fbeta = ((1+(beta**2))*precision*recall) / ((beta**2)*precision + recall)\n",
    "    \n",
    "    return {\n",
    "        \"precision\": precision,\n",
    "        \"recall\": recall,\n",
    "        \"f1\": micro_avg[\"f1-score\"],\n",
    "        \"fb-5\": fbeta\n",
    "    }"
   ]
  },
  {
   "cell_type": "code",
   "execution_count": 14,
   "id": "af8ea79b-b2a0-40d8-9e17-d8233f31d63e",
   "metadata": {},
   "outputs": [
    {
     "name": "stderr",
     "output_type": "stream",
     "text": [
      "Some weights of DistilBertForTokenClassification were not initialized from the model checkpoint at ./model/distilbert/distilbert-base-uncased and are newly initialized: ['classifier.bias', 'classifier.weight']\n",
      "You should probably TRAIN this model on a down-stream task to be able to use it for predictions and inference.\n",
      "D:\\program\\anaconda\\envs\\fws-dell\\lib\\site-packages\\accelerate\\accelerator.py:436: FutureWarning: Passing the following arguments to `Accelerator` is deprecated and will be removed in version 1.0 of Accelerate: dict_keys(['dispatch_batches', 'split_batches', 'even_batches', 'use_seedable_sampler']). Please pass an `accelerate.DataLoaderConfiguration` instead: \n",
      "dataloader_config = DataLoaderConfiguration(dispatch_batches=None, split_batches=False, even_batches=True, use_seedable_sampler=True)\n",
      "  warnings.warn(\n"
     ]
    }
   ],
   "source": [
    "data_collator = DataCollatorForTokenClassification(tokenizer=tokenizer)\n",
    "\n",
    "model = AutoModelForTokenClassification.from_pretrained(\n",
    "    Setting.model_checkpoint, \n",
    "    num_labels=Setting.num_labels, \n",
    "    id2label=Setting.id2label, \n",
    "    label2id=Setting.label2id\n",
    ")\n",
    "\n",
    "training_args = TrainingArguments(\n",
    "    output_dir=Setting.model_train,\n",
    "    num_train_epochs=Setting.epochs,\n",
    "    learning_rate=Setting.learning_rate,\n",
    "    lr_scheduler_type=Setting.lr_scheduler_type,\n",
    "    warmup_ratio=Setting.warmup_ratio,\n",
    "    weight_decay=Setting.weight_decay,\n",
    "    gradient_accumulation_steps=Setting.grad_steps,\n",
    "    per_device_train_batch_size=Setting.batch_size,\n",
    "    seed=Setting.seed,\n",
    "    evaluation_strategy=\"epoch\",\n",
    "    save_strategy=\"epoch\",\n",
    "    metric_for_best_model=\"fb-5\",\n",
    "    greater_is_better=True,\n",
    "    load_best_model_at_end=True\n",
    ")\n",
    "\n",
    "trainer = Trainer(\n",
    "    model=model,\n",
    "    args=training_args,\n",
    "    train_dataset=tokenized_ds[\"train\"],\n",
    "    eval_dataset=tokenized_ds[\"test\"],\n",
    "    tokenizer=tokenizer,\n",
    "    data_collator=data_collator,\n",
    "    compute_metrics=partial(compute_metrics, id2label=Setting.id2label)\n",
    ")"
   ]
  },
  {
   "cell_type": "code",
   "execution_count": 15,
   "id": "48bd5732-1109-423b-b33d-a388d87be935",
   "metadata": {},
   "outputs": [
    {
     "data": {
      "text/html": [
       "\n",
       "    <div>\n",
       "      \n",
       "      <progress value='16170' max='16170' style='width:300px; height:20px; vertical-align: middle;'></progress>\n",
       "      [16170/16170 4:42:25, Epoch 10/10]\n",
       "    </div>\n",
       "    <table border=\"1\" class=\"dataframe\">\n",
       "  <thead>\n",
       " <tr style=\"text-align: left;\">\n",
       "      <th>Epoch</th>\n",
       "      <th>Training Loss</th>\n",
       "      <th>Validation Loss</th>\n",
       "      <th>Precision</th>\n",
       "      <th>Recall</th>\n",
       "      <th>F1</th>\n",
       "      <th>Fb-5</th>\n",
       "    </tr>\n",
       "  </thead>\n",
       "  <tbody>\n",
       "    <tr>\n",
       "      <td>1</td>\n",
       "      <td>0.015200</td>\n",
       "      <td>0.012083</td>\n",
       "      <td>0.889667</td>\n",
       "      <td>0.851313</td>\n",
       "      <td>0.870068</td>\n",
       "      <td>0.852727</td>\n",
       "    </tr>\n",
       "    <tr>\n",
       "      <td>2</td>\n",
       "      <td>0.009100</td>\n",
       "      <td>0.008985</td>\n",
       "      <td>0.931818</td>\n",
       "      <td>0.865142</td>\n",
       "      <td>0.897243</td>\n",
       "      <td>0.867530</td>\n",
       "    </tr>\n",
       "    <tr>\n",
       "      <td>3</td>\n",
       "      <td>0.007000</td>\n",
       "      <td>0.008266</td>\n",
       "      <td>0.940694</td>\n",
       "      <td>0.865352</td>\n",
       "      <td>0.901451</td>\n",
       "      <td>0.868026</td>\n",
       "    </tr>\n",
       "    <tr>\n",
       "      <td>4</td>\n",
       "      <td>0.005400</td>\n",
       "      <td>0.007754</td>\n",
       "      <td>0.954607</td>\n",
       "      <td>0.868600</td>\n",
       "      <td>0.909575</td>\n",
       "      <td>0.871620</td>\n",
       "    </tr>\n",
       "    <tr>\n",
       "      <td>5</td>\n",
       "      <td>0.004100</td>\n",
       "      <td>0.008442</td>\n",
       "      <td>0.934976</td>\n",
       "      <td>0.883502</td>\n",
       "      <td>0.908511</td>\n",
       "      <td>0.885377</td>\n",
       "    </tr>\n",
       "    <tr>\n",
       "      <td>6</td>\n",
       "      <td>0.003000</td>\n",
       "      <td>0.009263</td>\n",
       "      <td>0.926038</td>\n",
       "      <td>0.893586</td>\n",
       "      <td>0.909522</td>\n",
       "      <td>0.894792</td>\n",
       "    </tr>\n",
       "    <tr>\n",
       "      <td>7</td>\n",
       "      <td>0.001900</td>\n",
       "      <td>0.010089</td>\n",
       "      <td>0.916508</td>\n",
       "      <td>0.894136</td>\n",
       "      <td>0.905184</td>\n",
       "      <td>0.894976</td>\n",
       "    </tr>\n",
       "    <tr>\n",
       "      <td>8</td>\n",
       "      <td>0.001200</td>\n",
       "      <td>0.012369</td>\n",
       "      <td>0.921721</td>\n",
       "      <td>0.895891</td>\n",
       "      <td>0.908622</td>\n",
       "      <td>0.896857</td>\n",
       "    </tr>\n",
       "    <tr>\n",
       "      <td>9</td>\n",
       "      <td>0.000900</td>\n",
       "      <td>0.013440</td>\n",
       "      <td>0.927616</td>\n",
       "      <td>0.895157</td>\n",
       "      <td>0.911097</td>\n",
       "      <td>0.896364</td>\n",
       "    </tr>\n",
       "    <tr>\n",
       "      <td>10</td>\n",
       "      <td>0.000800</td>\n",
       "      <td>0.013511</td>\n",
       "      <td>0.920943</td>\n",
       "      <td>0.899741</td>\n",
       "      <td>0.910218</td>\n",
       "      <td>0.900538</td>\n",
       "    </tr>\n",
       "  </tbody>\n",
       "</table><p>"
      ],
      "text/plain": [
       "<IPython.core.display.HTML object>"
      ]
     },
     "metadata": {},
     "output_type": "display_data"
    },
    {
     "name": "stdout",
     "output_type": "stream",
     "text": [
      "./model/v6/train\\checkpoint-16170\n"
     ]
    },
    {
     "data": {
      "text/plain": [
       "('./model/v6/final\\\\tokenizer_config.json',\n",
       " './model/v6/final\\\\special_tokens_map.json',\n",
       " './model/v6/final\\\\vocab.txt',\n",
       " './model/v6/final\\\\added_tokens.json',\n",
       " './model/v6/final\\\\tokenizer.json')"
      ]
     },
     "execution_count": 15,
     "metadata": {},
     "output_type": "execute_result"
    }
   ],
   "source": [
    "trainer.train()\n",
    "print(trainer.state.best_model_checkpoint)\n",
    "trainer.save_model(Setting.model_final)\n",
    "tokenizer.save_pretrained(Setting.model_final)"
   ]
  },
  {
   "cell_type": "code",
   "execution_count": null,
   "id": "20c9b80f-a049-4000-b108-ac943f58a43d",
   "metadata": {},
   "outputs": [],
   "source": []
  }
 ],
 "metadata": {
  "kernelspec": {
   "display_name": "Python 3 (ipykernel)",
   "language": "python",
   "name": "python3"
  },
  "language_info": {
   "codemirror_mode": {
    "name": "ipython",
    "version": 3
   },
   "file_extension": ".py",
   "mimetype": "text/x-python",
   "name": "python",
   "nbconvert_exporter": "python",
   "pygments_lexer": "ipython3",
   "version": "3.10.10"
  }
 },
 "nbformat": 4,
 "nbformat_minor": 5
}
